{
 "cells": [
  {
   "metadata": {},
   "cell_type": "markdown",
   "source": "Import of Packages",
   "id": "1aa238fa957aaa40"
  },
  {
   "cell_type": "code",
   "id": "initial_id",
   "metadata": {
    "collapsed": true,
    "ExecuteTime": {
     "end_time": "2025-01-27T15:41:09.797977Z",
     "start_time": "2025-01-27T15:41:04.344138Z"
    }
   },
   "source": [
    "import scipy.stats as stats\n",
    "import heapq\n",
    "from collections import defaultdict\n",
    "#from Code.import_data import import_data\n",
    "from datetime import datetime, timedelta\n",
    "import pandas as pd"
   ],
   "outputs": [],
   "execution_count": 1
  },
  {
   "metadata": {},
   "cell_type": "markdown",
   "source": "Import of Data",
   "id": "a7476dc616a344e5"
  },
  {
   "metadata": {
    "ExecuteTime": {
     "end_time": "2025-01-27T15:41:09.808397Z",
     "start_time": "2025-01-27T15:41:09.800927Z"
    }
   },
   "cell_type": "code",
   "source": [
    "\n",
    "def import_data():\n",
    "    # @diana and denis, change to your directory\n",
    "    gtfs_dir = '/Users/paulinaheine/Codes/BackupTravelPlanning/GTFS_OP_2024_obb-2/'\n",
    "\n",
    "    # Load data\n",
    "    agency_df = pd.read_csv(gtfs_dir + 'agency.txt')\n",
    "    stops_df = pd.read_csv(gtfs_dir + 'stops.txt')\n",
    "    routes_df = pd.read_csv(gtfs_dir + 'routes.txt')\n",
    "    trips_df = pd.read_csv(gtfs_dir + 'trips.txt')\n",
    "    stop_times_df = pd.read_csv(gtfs_dir + 'stop_times.txt')\n",
    "    calendar_df = pd.read_csv(gtfs_dir + 'calendar.txt')\n",
    "    calendar_dates_df = pd.read_csv(gtfs_dir + 'calendar_dates.txt')\n",
    "    shapes_df = pd.read_csv(gtfs_dir + 'shapes.txt')\n",
    "    \n",
    "    # Return all DataFrames\n",
    "    return agency_df, stops_df, routes_df, trips_df, stop_times_df, calendar_df, calendar_dates_df, shapes_df\n",
    "\n",
    "# Import and display data\n"
   ],
   "id": "6dbda37a5cf4a02",
   "outputs": [],
   "execution_count": 2
  },
  {
   "metadata": {},
   "cell_type": "markdown",
   "source": "Helping Functions",
   "id": "db438fd723298b46"
  },
  {
   "metadata": {
    "ExecuteTime": {
     "end_time": "2025-01-27T15:41:09.830733Z",
     "start_time": "2025-01-27T15:41:09.811687Z"
    }
   },
   "cell_type": "code",
   "source": [
    "def time_to_minutes(time_str):\n",
    "    hours, minutes, seconds = map(int, time_str.split(\":\"))\n",
    "    return hours * 60 + minutes + seconds / 60\n",
    "\n",
    "def minutes_to_time(minutes):\n",
    "    hours = int(minutes // 60)\n",
    "    minutes = int(minutes % 60)\n",
    "    return f\"{hours:02d}:{minutes:02d}\"\n",
    "\n",
    "def get_weekday(date):\n",
    "    weekdays = [\"monday\", \"tuesday\", \"wednesday\", \"thursday\", \"friday\", \"saturday\", \"sunday\"]\n",
    "    return weekdays[date.weekday()]\n",
    "\n",
    "def is_service_available(service_id, start_time_obj, calendar, calendar_dates):\n",
    "    #date_str = date.strftime(\"%Y%m%d\")\n",
    "    #date = date.date()\n",
    "    # Convert date to string in YYYYMMDD format\n",
    "    date_str = start_time_obj.strftime(\"%Y%m%d\")\n",
    "    weekday = [\"monday\", \"tuesday\", \"wednesday\", \"thursday\", \"friday\", \"saturday\", \"sunday\"][start_time_obj.weekday()]\n",
    "\n",
    "    # Step 1: Check for exceptions in calendar_dates\n",
    "    if service_id in calendar_dates[\"service_id\"].values:\n",
    "        exceptions = calendar_dates[calendar_dates[\"service_id\"] == service_id]\n",
    "        for _, exception in exceptions.iterrows():\n",
    "            if exception[\"date\"] == int(date_str):\n",
    "                if exception[\"exception_type\"] == 2:  # Service is added as an exception\n",
    "                    return True\n",
    "                elif exception[\"exception_type\"] == 1:  # Service is removed as an exception\n",
    "                    return False\n",
    "\n",
    "    # Step 2: Check for regular service in calendar\n",
    "    if service_id in calendar[\"service_id\"].values:\n",
    "        service = calendar[calendar[\"service_id\"] == service_id]\n",
    "        # Check if date is within start_date and end_date\n",
    "        if int(service[\"start_date\"].iloc[0]) <= int(date_str) <= int(service[\"end_date\"].iloc[0]):\n",
    "            # Check if the service operates on this weekday\n",
    "            is_available = (service[weekday].iloc[0] == 1)\n",
    "            if is_available == 1:\n",
    "                return True\n",
    "    return False\n",
    "\n",
    "def prepare_calendar_dates(calendar_dates):\n",
    "    grouped = calendar_dates.groupby(\"service_id\")\n",
    "    calendar_dates_dict = {}\n",
    "    for service_id, group in grouped:\n",
    "        exceptions = group.to_dict(orient=\"records\")\n",
    "        calendar_dates_dict[service_id] = exceptions\n",
    "    return calendar_dates_dict"
   ],
   "id": "4ea20b531303739b",
   "outputs": [],
   "execution_count": 3
  },
  {
   "metadata": {
    "ExecuteTime": {
     "end_time": "2025-01-27T15:41:26.453580Z",
     "start_time": "2025-01-27T15:41:09.837975Z"
    }
   },
   "cell_type": "code",
   "source": "agency, stops, routes, trips, stop_times, calendar, calendar_dates, shapes = import_data()",
   "id": "b3dfb65b16f2be1",
   "outputs": [],
   "execution_count": 4
  },
  {
   "metadata": {},
   "cell_type": "markdown",
   "source": "Create Graph",
   "id": "79f58bfb3daae85b"
  },
  {
   "metadata": {
    "ExecuteTime": {
     "end_time": "2025-01-27T15:41:26.467620Z",
     "start_time": "2025-01-27T15:41:26.456063Z"
    }
   },
   "cell_type": "code",
   "source": [
    "def create_graph_with_schedule(stop_times, stops, trips, calendar, calendar_dates, start_time_obj, end_time_obj):\n",
    "    '''\n",
    "    funktioniert endlich, if not wurde entfernt weil es mich genervt hat 3-4 min \n",
    "    '''\n",
    "\n",
    "    graph = defaultdict(list)\n",
    "    stop_id_to_name = stops.set_index(\"stop_id\")[\"stop_name\"].to_dict()\n",
    "    # Filter for active trips today using is_service\n",
    "    trip_id_to_service = trips.set_index(\"trip_id\")[\"service_id\"].to_dict()\n",
    "    trip_id_to_route = trips.set_index(\"trip_id\")[\"route_id\"].to_dict()\n",
    "\n",
    "    calendar_dates_2 = prepare_calendar_dates(calendar_dates)\n",
    "    stop_times = stop_times.sort_values(by=[\"trip_id\", \"stop_sequence\"])\n",
    "\n",
    "    #####\n",
    "    #Filter\n",
    "    #####\n",
    "\n",
    "    stop_times_copy = stop_times.copy()\n",
    "    # Filter out stops outside the time window\n",
    "    stop_times_copy[\"arrival_minutes\"] = stop_times_copy[\"arrival_time\"].apply(time_to_minutes)\n",
    "    stop_times_copy[\"departure_minutes\"] = stop_times_copy[\"departure_time\"].apply(time_to_minutes)\n",
    "\n",
    "    start_minutes = time_to_minutes(start_time_obj.strftime(\"%H:%M:%S\"))\n",
    "    end_minutes = time_to_minutes(end_time_obj.strftime(\"%H:%M:%S\"))\n",
    "\n",
    "    stop_times = stop_times_copy[\n",
    "        (stop_times_copy[\"arrival_minutes\"] >= start_minutes) &\n",
    "        (stop_times_copy[\"departure_minutes\"] <= end_minutes)\n",
    "        ]\n",
    "\n",
    "    print(f\"Rows after time window filter: {len(stop_times)}\")\n",
    "\n",
    "\n",
    "    #trip_id_to_service = trips.set_index(\"trip_id\")[\"service_id\"].to_dict()\n",
    "    stop_times[\"service_id\"] = stop_times[\"trip_id\"].map(trip_id_to_service)\n",
    "\n",
    "    grouped = stop_times.groupby(\"trip_id\")\n",
    "    for trip_id, group in grouped:\n",
    "        service_id = trip_id_to_service.get(trip_id)\n",
    "        \n",
    "        if is_service_available(service_id, start_time_obj, calendar, calendar_dates) == True:\n",
    "    \n",
    "            stops = group[\"stop_id\"].tolist()\n",
    "            departures = group[\"departure_time\"].apply(time_to_minutes).tolist()\n",
    "            arrivals = group[\"arrival_time\"].apply(time_to_minutes).tolist()\n",
    "    \n",
    "            for start, end, dep, arr in zip(stops[:-1], stops[1:], departures[:-1], arrivals[1:]):\n",
    "                travel_time = arr - dep\n",
    "                if travel_time > 0:\n",
    "                    graph[stop_id_to_name[start]].append(\n",
    "                        (stop_id_to_name[end], dep, arr, trip_id_to_route.get(trip_id))\n",
    "                    )\n",
    "\n",
    "    return graph\n"
   ],
   "id": "10f80925c6c5125e",
   "outputs": [],
   "execution_count": 5
  },
  {
   "metadata": {},
   "cell_type": "markdown",
   "source": "Reliability function",
   "id": "9b8a7414cde9e2db"
  },
  {
   "metadata": {
    "ExecuteTime": {
     "end_time": "2025-01-27T15:41:26.478286Z",
     "start_time": "2025-01-27T15:41:26.470817Z"
    }
   },
   "cell_type": "code",
   "source": [
    "def compute_transfer_probability_with_departure_delay(transfer_time):\n",
    "\n",
    "\n",
    "    return stats.gamma.cdf(transfer_time, a=2, scale=3)\n"
   ],
   "id": "b9209559e07202bf",
   "outputs": [],
   "execution_count": 6
  },
  {
   "metadata": {},
   "cell_type": "markdown",
   "source": "# A* ",
   "id": "7cb26a7347ab37"
  },
  {
   "metadata": {
    "ExecuteTime": {
     "end_time": "2025-01-27T15:41:26.612872Z",
     "start_time": "2025-01-27T15:41:26.481735Z"
    }
   },
   "cell_type": "code",
   "source": [
    "import heapq\n",
    "import math\n",
    "\n",
    "def haversine(lat1, lon1, lat2, lon2):\n",
    "    R = 6371  # Radius der Erde in Kilometern\n",
    "    phi1 = math.radians(lat1)\n",
    "    phi2 = math.radians(lat2)\n",
    "    delta_phi = math.radians(lat2 - lat1)\n",
    "    delta_lambda = math.radians(lon2 - lon1)\n",
    "\n",
    "    a = math.sin(delta_phi / 2)**2 + math.cos(phi1) * math.cos(phi2) * math.sin(delta_lambda / 2)**2\n",
    "    c = 2 * math.atan2(math.sqrt(a), math.sqrt(1 - a))\n",
    "    \n",
    "    return R * c  # Entfernung in Kilometern\n",
    "\n",
    "def heuristic(current_stop, end_name, stops_df):\n",
    "    current_stop_row = stops_df[stops_df['stop_name'] == current_stop].iloc[0]\n",
    "    end_stop_row = stops_df[stops_df['stop_name'] == end_name].iloc[0]\n",
    "\n",
    "    current_lat = current_stop_row['stop_lat']\n",
    "    current_lon = current_stop_row['stop_lon']\n",
    "    end_lat = end_stop_row['stop_lat']\n",
    "    end_lon = end_stop_row['stop_lon']\n",
    "\n",
    "    distance_km = haversine(current_lat, current_lon, end_lat, end_lon)\n",
    "\n",
    "    average_speed = 60  # km/h\n",
    "    estimated_time_minutes = (distance_km / average_speed) * 60\n",
    "    return estimated_time_minutes\n",
    "\n",
    "#heuristic(\"Wien Handelskai\", end_stop_name,  stops)\n",
    "\n",
    "def a_star(graph, start_name, end_name, start_time_minutes, \n",
    "                                  exclude_routes=set(), MIN_TRANSFER_TIME=2, stops_df=None):\n",
    "    pq = [(start_time_minutes, start_name, [], 1.0, None, 0)]  # (aktuelle Zeit, aktuelle Haltestelle, Pfad, Zuverlässigkeit, letzte Linie, Heuristik)\n",
    "    visited = set()\n",
    "    best_result = None  # Variable, um das beste Ergebnis zu speichern\n",
    "\n",
    "    while pq:\n",
    "        current_time, current_stop, path, reliability, last_route, _ = heapq.heappop(pq)\n",
    "\n",
    "        if (current_stop, current_time) in visited:\n",
    "            continue\n",
    "        visited.add((current_stop, current_time))\n",
    "\n",
    "        path = path + [(current_stop, current_time)]\n",
    "\n",
    "        # Überprüfe, ob das Ziel erreicht wurde\n",
    "        if current_stop == end_name:\n",
    "            # Hier speichern wir das erste Ergebnis, wenn das Ziel erreicht wurde\n",
    "            if best_result is None or new_current_time < best_result[0]:  # Wenn das Ziel früher erreicht wird\n",
    "                best_result = (current_time, path, reliability)\n",
    "\n",
    "\n",
    "        for neighbor, departure_time, arrival_time, route_id in graph[current_stop]:\n",
    "            if departure_time >= current_time and route_id not in exclude_routes:\n",
    "                # Prüfe, ob es ein Umstieg ist (Linienwechsel)\n",
    "                is_transfer = last_route is not None and last_route != route_id\n",
    "                if is_transfer:\n",
    "                    transfer_time = departure_time - current_time\n",
    "                    if transfer_time < MIN_TRANSFER_TIME:\n",
    "                        continue  # Zu wenig Zeit für Umstieg\n",
    "\n",
    "                if not is_transfer:\n",
    "                    transfer_reliability = 1.0\n",
    "                else:\n",
    "                    transfer_reliability = compute_transfer_probability_with_departure_delay(transfer_time)\n",
    "\n",
    "                new_current_time = arrival_time\n",
    "                new_reliability = reliability * transfer_reliability\n",
    "\n",
    "                # Heuristik für A* (vereinfachte Schätzung der verbleibenden Zeit)\n",
    "                h = heuristic(neighbor, end_name, stops)\n",
    "\n",
    "                # Füge den nächsten Knoten zur Priority Queue hinzu\n",
    "                heapq.heappush(pq, (\n",
    "                    new_current_time,  # Gesamtbewertung: aktuelle Zeit + Heuristik\n",
    "                    neighbor,\n",
    "                    path + [(route_id, departure_time, arrival_time)],\n",
    "                    new_reliability,\n",
    "                    route_id,\n",
    "                    h\n",
    "                ))\n",
    "\n",
    "    # Gibt das beste Ergebnis zurück, wenn es existiert, andernfalls eine Fehlermeldung\n",
    "    if best_result:\n",
    "        return best_result\n",
    "    else:\n",
    "        return float(\"inf\"), [], 0.0  # Keine Route gefunden\n",
    "    \n",
    "    \n",
    "def a_star_on_speed(graph, start_name, end_name, start_time_minutes, \n",
    "                                  exclude_routes=set(), MIN_TRANSFER_TIME=2, stops_df=None):\n",
    "    pq = [(start_time_minutes, start_name, [], 1.0, None, 0)]  # (aktuelle Zeit, aktuelle Haltestelle, Pfad, Zuverlässigkeit, letzte Linie, Heuristik)\n",
    "    visited = set()\n",
    "    best_result = None  # Variable, um das beste Ergebnis zu speichern\n",
    "\n",
    "    while pq:\n",
    "        current_time, current_stop, path, reliability, last_route, _ = heapq.heappop(pq)\n",
    "\n",
    "        if (current_stop, current_time) in visited:\n",
    "            continue\n",
    "        visited.add((current_stop, current_time))\n",
    "\n",
    "        path = path + [(current_stop, current_time)]\n",
    " \n",
    "        for neighbor, departure_time, arrival_time, route_id in graph[current_stop]:\n",
    "            if departure_time >= current_time and route_id not in exclude_routes:\n",
    "                # Prüfe, ob es ein Umstieg ist (Linienwechsel)\n",
    "                is_transfer = last_route is not None and last_route != route_id\n",
    "                if is_transfer:\n",
    "                    transfer_time = departure_time - current_time\n",
    "                    if transfer_time < MIN_TRANSFER_TIME:\n",
    "                        continue  # Zu wenig Zeit für Umstieg\n",
    "\n",
    "                if not is_transfer:\n",
    "                    transfer_reliability = 1.0\n",
    "                else:\n",
    "                    transfer_reliability = compute_transfer_probability_with_departure_delay(transfer_time)\n",
    "\n",
    "                new_current_time = arrival_time\n",
    "                new_reliability = reliability * transfer_reliability\n",
    "\n",
    "                # Heuristik für A* (vereinfachte Schätzung der verbleibenden Zeit)\n",
    "                h = heuristic(neighbor, end_name, stops)\n",
    "\n",
    "                # Füge den nächsten Knoten zur Priority Queue hinzu\n",
    "                heapq.heappush(pq, (\n",
    "                    new_current_time,  # Gesamtbewertung: aktuelle Zeit + Heuristik\n",
    "                    neighbor,\n",
    "                    path + [(route_id, departure_time, arrival_time)],\n",
    "                    new_reliability,\n",
    "                    route_id,\n",
    "                    h\n",
    "                ))\n",
    "                \n",
    "        if current_stop == end_name:\n",
    "            print(\"found\")\n",
    "            best_result = (current_time, path, reliability)\n",
    "            \n",
    "            return best_result\n",
    "\n"
   ],
   "id": "5f45cf3fe13f6bb2",
   "outputs": [],
   "execution_count": 7
  },
  {
   "metadata": {
    "ExecuteTime": {
     "end_time": "2025-01-27T15:41:26.655768Z",
     "start_time": "2025-01-27T15:41:26.619276Z"
    }
   },
   "cell_type": "code",
   "source": "heuristic(\"Wien Handelskai\", \"Wien Rennweg\",  stops)",
   "id": "48cc9a611fe25ab4",
   "outputs": [
    {
     "data": {
      "text/plain": [
       "5.300387474413974"
      ]
     },
     "execution_count": 8,
     "metadata": {},
     "output_type": "execute_result"
    }
   ],
   "execution_count": 8
  },
  {
   "metadata": {
    "ExecuteTime": {
     "end_time": "2025-01-27T15:41:26.674519Z",
     "start_time": "2025-01-27T15:41:26.662252Z"
    }
   },
   "cell_type": "code",
   "source": [
    "'''\n",
    "current_time_fast, best_result_fast , reliability_fast = a_star_on_speed_fixed(graph, start_stop_name, end_stop_name, start_time_minutes,  exclude_routes=set(), MIN_TRANSFER_TIME=3)\n",
    "'''"
   ],
   "id": "616aa47ff76a7f32",
   "outputs": [
    {
     "data": {
      "text/plain": [
       "'\\ncurrent_time_fast, best_result_fast , reliability_fast = a_star_on_speed_fixed(graph, start_stop_name, end_stop_name, start_time_minutes,  exclude_routes=set(), MIN_TRANSFER_TIME=3)\\n'"
      ]
     },
     "execution_count": 9,
     "metadata": {},
     "output_type": "execute_result"
    }
   ],
   "execution_count": 9
  },
  {
   "metadata": {
    "ExecuteTime": {
     "end_time": "2025-01-27T15:41:26.698448Z",
     "start_time": "2025-01-27T15:41:26.690226Z"
    }
   },
   "cell_type": "code",
   "source": "#current_time_fast, best_result_fast , reliability_fast",
   "id": "e09b50b68ed890fe",
   "outputs": [],
   "execution_count": 10
  },
  {
   "metadata": {
    "ExecuteTime": {
     "end_time": "2025-01-27T17:05:59.257401Z",
     "start_time": "2025-01-27T17:05:59.247056Z"
    }
   },
   "cell_type": "code",
   "source": [
    "\n",
    "\n",
    "def a_star_with_reliability_fixed(graph, start_name, end_name, start_time_minutes, \n",
    "                                  exclude_routes=set(), MIN_TRANSFER_TIME=10, stops_df=None):\n",
    "    pq = [(start_time_minutes, start_name, [], 1.0, None, 0)]  # (aktuelle Zeit, aktuelle Haltestelle, Pfad, Zuverlässigkeit, letzte Linie, Heuristik)\n",
    "    visited = set()\n",
    "    best_result = None  # Variable, um das beste Ergebnis zu speichern\n",
    "\n",
    "    while pq:\n",
    "        current_time, current_stop, path, reliability, last_route, _ = heapq.heappop(pq)\n",
    "\n",
    "        if (current_stop, current_time) in visited:\n",
    "            continue\n",
    "        visited.add((current_stop, current_time))\n",
    "\n",
    "        path = path + [(current_stop, current_time)]\n",
    "\n",
    "        # Initialisierung für die Überprüfung der Verbesserungen\n",
    "        no_improvement_count = 0  # Zähler für Iterationen ohne Verbesserung\n",
    "        max_no_improvement = 5  # Maximale Anzahl an erlaubten Iterationen ohne Verbesserung\n",
    "        \n",
    "        # Überprüfe, ob das Ziel erreicht wurde\n",
    "        if current_stop == end_name:\n",
    "            print(\"possibility\")\n",
    "            # Hier speichern wir das erste Ergebnis, wenn das Ziel erreicht wurde\n",
    "            if best_result is None or reliability > best_result[2]:\n",
    "                print(\"possibility is better then before\", best_result)\n",
    "                # Wenn das Ergebnis besser ist, wird es aktualisiert\n",
    "                best_result = (current_time, path, reliability) # Zähler zurücksetzen\n",
    "            else:\n",
    "                # Wenn keine Verbesserung, erhöhe den Zähler\n",
    "                no_improvement_count += 1\n",
    "        \n",
    "            # Überprüfung, ob maximale Anzahl an Iterationen ohne Verbesserung erreicht wurde\n",
    "            if no_improvement_count >= max_no_improvement:\n",
    "                print(\"max ieration for here\")\n",
    "                return best_result  # Rückgabe des aktuellen besten Ergebnisses\n",
    "\n",
    "\n",
    "        for neighbor, departure_time, arrival_time, route_id in graph[current_stop]:\n",
    "            if departure_time >= current_time and route_id not in exclude_routes:\n",
    "                # Prüfe, ob es ein Umstieg ist (Linienwechsel)\n",
    "                is_transfer = last_route is not None and last_route != route_id\n",
    "                if is_transfer:\n",
    "                    transfer_time = departure_time - current_time\n",
    "                    if transfer_time <= MIN_TRANSFER_TIME or transfer_time > 60:\n",
    "                        continue  # Zu wenig Zeit für Umstieg\n",
    "\n",
    "                if not is_transfer:\n",
    "                    transfer_reliability = 1.0\n",
    "                else:\n",
    "                    transfer_reliability = compute_transfer_probability_with_departure_delay(transfer_time)\n",
    "\n",
    "                new_current_time = arrival_time\n",
    "                new_reliability = reliability * transfer_reliability\n",
    "\n",
    "                # Heuristik für A* (vereinfachte Schätzung der verbleibenden Zeit)\n",
    "                h = heuristic(neighbor, end_name, stops)\n",
    "\n",
    "                # Füge den nächsten Knoten zur Priority Queue hinzu\n",
    "                heapq.heappush(pq, (\n",
    "                    new_current_time,  # Gesamtbewertung: aktuelle Zeit + Heuristik\n",
    "                    neighbor,\n",
    "                    path + [(route_id, departure_time, arrival_time)],\n",
    "                    new_reliability,\n",
    "                    route_id,\n",
    "                    h\n",
    "                ))\n",
    "\n",
    "    # Gibt das beste Ergebnis zurück, wenn es existiert, andernfalls eine Fehlermeldung\n",
    "    if best_result:\n",
    "        return best_result\n",
    "    else:\n",
    "        return float(\"inf\"), [], 0.0  # Keine Route gefunden\n"
   ],
   "id": "5dab0cf3e50a4cd5",
   "outputs": [],
   "execution_count": 44
  },
  {
   "metadata": {
    "ExecuteTime": {
     "end_time": "2025-01-27T15:41:26.749780Z",
     "start_time": "2025-01-27T15:41:26.736570Z"
    }
   },
   "cell_type": "code",
   "source": [
    "''''\n",
    "current_time_rel, best_result_rel , reliability_rel = a_star_with_reliability_fixed(graph, start_stop_name, end_stop_name, start_time_minutes, exclude_routes=set(), MIN_TRANSFER_TIME=7)\n",
    "'''"
   ],
   "id": "c268e48717ae35f6",
   "outputs": [
    {
     "data": {
      "text/plain": [
       "\"'\\ncurrent_time_rel, best_result_rel , reliability_rel = a_star_with_reliability_fixed(graph, start_stop_name, end_stop_name, start_time_minutes, exclude_routes=set(), MIN_TRANSFER_TIME=7)\\n\""
      ]
     },
     "execution_count": 12,
     "metadata": {},
     "output_type": "execute_result"
    }
   ],
   "execution_count": 12
  },
  {
   "metadata": {
    "ExecuteTime": {
     "end_time": "2025-01-27T15:41:26.764803Z",
     "start_time": "2025-01-27T15:41:26.755357Z"
    }
   },
   "cell_type": "code",
   "source": "#current_time_rel, best_result_rel , reliability_rel",
   "id": "2712e7ee6351cefb",
   "outputs": [],
   "execution_count": 13
  },
  {
   "metadata": {
    "ExecuteTime": {
     "end_time": "2025-01-27T21:13:38.503102Z",
     "start_time": "2025-01-27T21:13:38.490923Z"
    }
   },
   "cell_type": "code",
   "source": [
    "\n",
    "\n",
    "def a_star_backups(graph, path_fixed):\n",
    "\n",
    "    backup_routes = []\n",
    "    \n",
    "    last_route = None\n",
    "    backup_reliability = 1.0\n",
    "    \n",
    "    for i in range(1, len(path_fixed) - 1, 2):  # Alle Umstiegspunkte durchgehen\n",
    "        transfer_stop, transfer_time = path_fixed[i - 1]\n",
    "        # Identifiziere alle Umstiegspunkte in der Route\n",
    "        # for i in range(1, len(path_fixed) - 1, 2):\n",
    "        \n",
    "    \n",
    "        #adjusted_transfer_time = MIN_TRANSFER_TIME + 15\n",
    "        #current_stop, current_time = path_fixed[i - 1]\n",
    "        route_id, departure_time, arrival_time = path_fixed[i]\n",
    "        next_stop, _ = path_fixed[i + 1]\n",
    "        transfer_time_inbetween = departure_time - transfer_time\n",
    "        print(f\"lets go from{transfer_stop}\")\n",
    "        \n",
    "        \n",
    "        if route_id != last_route:\n",
    "                missed_trans_rel = 1 - (compute_transfer_probability_with_departure_delay(transfer_time_inbetween))\n",
    "                backup_time, backup_path, backup_reliability = a_star_with_reliability_fixed(\n",
    "                    graph, transfer_stop, path_fixed[-1][0], start_time_minutes = departure_time + 3 , stops_df=None, MIN_TRANSFER_TIME= 8,exclude_routes=set()\n",
    "                )\n",
    "                backup_routes.append([backup_time, backup_path, missed_trans_rel*backup_reliability])\n",
    "        last_route = route_id\n",
    "        \n",
    "    return backup_routes"
   ],
   "id": "e9734b29935e44",
   "outputs": [],
   "execution_count": 92
  },
  {
   "metadata": {
    "ExecuteTime": {
     "end_time": "2025-01-27T21:10:52.215346Z",
     "start_time": "2025-01-27T21:10:52.207067Z"
    }
   },
   "cell_type": "code",
   "source": "best_result_fast[0]",
   "id": "db42452ff8a751b1",
   "outputs": [
    {
     "data": {
      "text/plain": [
       "('Wien Hauptbahnhof', 870)"
      ]
     },
     "execution_count": 89,
     "metadata": {},
     "output_type": "execute_result"
    }
   ],
   "execution_count": 89
  },
  {
   "metadata": {
    "ExecuteTime": {
     "end_time": "2025-01-27T20:08:44.099306Z",
     "start_time": "2025-01-27T20:08:44.076416Z"
    }
   },
   "cell_type": "code",
   "source": "",
   "id": "e4b235a819f4eef9",
   "outputs": [
    {
     "data": {
      "text/plain": [
       "878"
      ]
     },
     "execution_count": 75,
     "metadata": {},
     "output_type": "execute_result"
    }
   ],
   "execution_count": 75
  },
  {
   "metadata": {},
   "cell_type": "markdown",
   "source": "Main",
   "id": "e8fcb93869d91084"
  },
  {
   "metadata": {
    "ExecuteTime": {
     "end_time": "2025-01-27T19:22:05.871801Z",
     "start_time": "2025-01-27T19:21:55.405768Z"
    }
   },
   "cell_type": "code",
   "source": [
    "\n",
    "# Hauptprogramm\n",
    "if __name__ == \"__main__\":\n",
    "\n",
    "    agency, stops, routes, trips, stop_times, calendar, calendar_dates, shapes = import_data()\n",
    "    \n",
    "    '''\n",
    "    start_stop_name = \"Schattendorf Kirchengasse\"\n",
    "    end_stop_name = \"Flughafen Wien Bahnhof\"\n",
    "    start_datetime = \"2024-12-12 14:30:00\"\n",
    "    '''\n",
    "    \n",
    "    start_stop_name = \"Wien Hauptbahnhof\"\n",
    "    end_stop_name = \"Wien Hütteldorf\"\n",
    "    start_datetime = \"2024-12-12 14:30:00\"\n",
    "    \n",
    "\n",
    "    time_budget = \"3:10\"\n",
    "    time_budget_hours, time_budget_minutes = map(int, time_budget.split(\":\"))\n",
    "    time_budget_minutes = time_budget_hours * 60 + time_budget_minutes / 60\n",
    "\n",
    "    start_time_obj = datetime.strptime(start_datetime, \"%Y-%m-%d %H:%M:%S\")\n",
    "    start_time_minutes = start_time_obj.hour * 60 + start_time_obj.minute\n",
    "\n",
    "    # In ein reines date-Objekt umwandeln\n",
    "    start_time_obj = datetime.strptime(start_datetime, \"%Y-%m-%d %H:%M:%S\")\n",
    "    end_time_obj = start_time_obj + timedelta(minutes=time_budget_minutes)\n",
    "    date_obj = start_time_obj.date()\n",
    "\n",
    "    start_time_minutes = start_time_obj.hour * 60 + start_time_obj.minute\n",
    "\n",
    "\n",
    "'''\n",
    "    # Ergebnis anzeigen\n",
    "    if current_time_fast < float(\"inf\"):\n",
    "        arrival_time_fixed = minutes_to_time(current_time_fast)\n",
    "        print(f\"\\n📍 Optimierte zuverlässigste Route von {start_stop_name} nach {end_stop_name}:\")\n",
    "\n",
    "        last_route = None\n",
    "        grouped_routes = []\n",
    "\n",
    "        for i in range(1, len(best_result_fast) - 1, 2):\n",
    "            current_stop, current_time = best_result_fast[i - 1]\n",
    "            route_id, departure_time, arrival_time = best_result_fast[i]\n",
    "            next_stop, _ = best_result_fast[i + 1]\n",
    "\n",
    "            if route_id == last_route:\n",
    "                grouped_routes[-1][\"stops\"].append((next_stop, arrival_time))\n",
    "            else:\n",
    "                grouped_routes.append({\n",
    "                    \"route_id\": route_id,\n",
    "                    \"start_stop\": current_stop,\n",
    "                    \"departure_time\": departure_time,\n",
    "                    \"stops\": [(next_stop, arrival_time)]\n",
    "                })\n",
    "            last_route = route_id\n",
    "\n",
    "        for segment in grouped_routes:\n",
    "            start = segment[\"start_stop\"]\n",
    "            dep_time = minutes_to_time(segment[\"departure_time\"])\n",
    "            route = segment[\"route_id\"]\n",
    "            stops = \" → \".join([f\"{stop} (Ankunft: {minutes_to_time(arr)})\" for stop, arr in segment[\"stops\"]])\n",
    "            print(f\"  🚆 {start} (Abfahrt: {dep_time}) → {stops} mit Linie {route}\")\n",
    "\n",
    "        print(f\"\\n🎯 Endstation: {end_stop_name} (Ankunft: {arrival_time_fixed})\")\n",
    "        print(f\"🔹 Gesamt-Zuverlässigkeit der Route: {reliability_fast:.2f}\\n\")\n",
    "\n",
    "    \n",
    "    \n",
    "        \n",
    "        print(\"🔄 Backup-Routen:\")\n",
    "        if backup_routes:\n",
    "            print(\"\\n🔄 Backup-Routen:\")\n",
    "            for stop, path, reliability in backup_routes:\n",
    "                print(f\"  🔁 Backup von {stop}:\")\n",
    "                last_route = None\n",
    "                first_segment = True\n",
    "\n",
    "                for segment in path:\n",
    "                    start, dep_time, end, arr_time, route = segment\n",
    "\n",
    "                    if last_route == route:\n",
    "                        print(f\" → {end} (Ankunft: {arr_time})\", end=\"\")\n",
    "                    else:\n",
    "                        if not first_segment:\n",
    "                            print()\n",
    "                        print(f\"    🚆 {start} (Abfahrt: {dep_time}) → {end} (Ankunft: {arr_time}) mit Linie {route}\",\n",
    "                              end=\"\")\n",
    "                        first_segment = False\n",
    "\n",
    "                    last_route = route\n",
    "\n",
    "                print(f\"\\n    🔹 Zuverlässigkeit: {reliability:.2f}\\n\")\n",
    "        else:\n",
    "            print(\"  ❌ Keine Backup-Routen verfügbar.\")\n",
    "\n",
    "        print()\n",
    "    else:\n",
    "        print(f\"\\n⚠️ Keine zuverlässige Route von {start_stop_name} nach {end_stop_name} gefunden.\\n\")\n",
    "\n",
    "        '''"
   ],
   "id": "285f9d9eb8a52f34",
   "outputs": [
    {
     "data": {
      "text/plain": [
       "'\\n    # Ergebnis anzeigen\\n    if current_time_fast < float(\"inf\"):\\n        arrival_time_fixed = minutes_to_time(current_time_fast)\\n        print(f\"\\n📍 Optimierte zuverlässigste Route von {start_stop_name} nach {end_stop_name}:\")\\n\\n        last_route = None\\n        grouped_routes = []\\n\\n        for i in range(1, len(best_result_fast) - 1, 2):\\n            current_stop, current_time = best_result_fast[i - 1]\\n            route_id, departure_time, arrival_time = best_result_fast[i]\\n            next_stop, _ = best_result_fast[i + 1]\\n\\n            if route_id == last_route:\\n                grouped_routes[-1][\"stops\"].append((next_stop, arrival_time))\\n            else:\\n                grouped_routes.append({\\n                    \"route_id\": route_id,\\n                    \"start_stop\": current_stop,\\n                    \"departure_time\": departure_time,\\n                    \"stops\": [(next_stop, arrival_time)]\\n                })\\n            last_route = route_id\\n\\n        for segment in grouped_routes:\\n            start = segment[\"start_stop\"]\\n            dep_time = minutes_to_time(segment[\"departure_time\"])\\n            route = segment[\"route_id\"]\\n            stops = \" → \".join([f\"{stop} (Ankunft: {minutes_to_time(arr)})\" for stop, arr in segment[\"stops\"]])\\n            print(f\"  🚆 {start} (Abfahrt: {dep_time}) → {stops} mit Linie {route}\")\\n\\n        print(f\"\\n🎯 Endstation: {end_stop_name} (Ankunft: {arrival_time_fixed})\")\\n        print(f\"🔹 Gesamt-Zuverlässigkeit der Route: {reliability_fast:.2f}\\n\")\\n\\n    \\n    \\n        \\n        print(\"🔄 Backup-Routen:\")\\n        if backup_routes:\\n            print(\"\\n🔄 Backup-Routen:\")\\n            for stop, path, reliability in backup_routes:\\n                print(f\"  🔁 Backup von {stop}:\")\\n                last_route = None\\n                first_segment = True\\n\\n                for segment in path:\\n                    start, dep_time, end, arr_time, route = segment\\n\\n                    if last_route == route:\\n                        print(f\" → {end} (Ankunft: {arr_time})\", end=\"\")\\n                    else:\\n                        if not first_segment:\\n                            print()\\n                        print(f\"    🚆 {start} (Abfahrt: {dep_time}) → {end} (Ankunft: {arr_time}) mit Linie {route}\",\\n                              end=\"\")\\n                        first_segment = False\\n\\n                    last_route = route\\n\\n                print(f\"\\n    🔹 Zuverlässigkeit: {reliability:.2f}\\n\")\\n        else:\\n            print(\"  ❌ Keine Backup-Routen verfügbar.\")\\n\\n        print()\\n    else:\\n        print(f\"\\n⚠️ Keine zuverlässige Route von {start_stop_name} nach {end_stop_name} gefunden.\\n\")\\n\\n        '"
      ]
     },
     "execution_count": 60,
     "metadata": {},
     "output_type": "execute_result"
    }
   ],
   "execution_count": 60
  },
  {
   "metadata": {
    "ExecuteTime": {
     "end_time": "2025-01-27T17:05:59.245184Z",
     "start_time": "2025-01-27T17:03:13.206958Z"
    }
   },
   "cell_type": "code",
   "source": [
    "    #slow and correct\n",
    "print(\"creating graph\")\n",
    "graph = create_graph_with_schedule(stop_times, stops, trips, calendar, calendar_dates, start_time_obj, end_time_obj)\n",
    "#if start_stop_name not in graph or end_stop_name not in graph:\n",
    "#    print(\"🚨 Ungültige Start- oder Zielhaltestelle!\")\n",
    "        #sys.exit()"
   ],
   "id": "f0717de86c81f481",
   "outputs": [
    {
     "name": "stdout",
     "output_type": "stream",
     "text": [
      "creating graph\n",
      "Rows after time window filter: 32584\n"
     ]
    },
    {
     "name": "stderr",
     "output_type": "stream",
     "text": [
      "/var/folders/qw/jbl_sx2j4r114n9k1myblk6c0000gn/T/ipykernel_1405/2638892618.py:36: SettingWithCopyWarning: \n",
      "A value is trying to be set on a copy of a slice from a DataFrame.\n",
      "Try using .loc[row_indexer,col_indexer] = value instead\n",
      "\n",
      "See the caveats in the documentation: https://pandas.pydata.org/pandas-docs/stable/user_guide/indexing.html#returning-a-view-versus-a-copy\n",
      "  stop_times[\"service_id\"] = stop_times[\"trip_id\"].map(trip_id_to_service)\n"
     ]
    }
   ],
   "execution_count": 43
  },
  {
   "metadata": {
    "ExecuteTime": {
     "end_time": "2025-01-27T17:10:02.541073Z",
     "start_time": "2025-01-27T17:08:00.412123Z"
    }
   },
   "cell_type": "code",
   "source": [
    "\n",
    "\n",
    "    # Haupt-Dijkstra-Lauf\n",
    "    #print(\"A star\")\n",
    "    #current_time_fast, best_result_fast , reliability_fast = a_star(graph, start_stop_name, end_stop_name, start_time_minutes,  exclude_routes=set(), MIN_TRANSFER_TIME=3)\n",
    "\n",
    "current_time_fast, best_result_fast , reliability_fast = a_star_on_speed(graph, start_stop_name, end_stop_name, start_time_minutes,  exclude_routes=set(), MIN_TRANSFER_TIME=3)\n",
    "\n",
    "\n"
   ],
   "id": "6301882f16b76b5d",
   "outputs": [
    {
     "name": "stdout",
     "output_type": "stream",
     "text": [
      "found\n"
     ]
    }
   ],
   "execution_count": 51
  },
  {
   "metadata": {
    "ExecuteTime": {
     "end_time": "2025-01-27T19:48:12.161036Z",
     "start_time": "2025-01-27T19:48:12.143831Z"
    }
   },
   "cell_type": "code",
   "source": "best_result_fast[1 + 1]\n",
   "id": "adec820066cd5ee5",
   "outputs": [
    {
     "data": {
      "text/plain": [
       "('Wien Matzleinsdorfer Platz', 874.0)"
      ]
     },
     "execution_count": 62,
     "metadata": {},
     "output_type": "execute_result"
    }
   ],
   "execution_count": 62
  },
  {
   "metadata": {
    "ExecuteTime": {
     "end_time": "2025-01-27T21:23:46.075285Z",
     "start_time": "2025-01-27T21:23:46.064004Z"
    }
   },
   "cell_type": "code",
   "source": "reliability_fast",
   "id": "c49b41105f4c1416",
   "outputs": [
    {
     "data": {
      "text/plain": [
       "np.float64(0.08875793396167544)"
      ]
     },
     "execution_count": 95,
     "metadata": {},
     "output_type": "execute_result"
    }
   ],
   "execution_count": 95
  },
  {
   "metadata": {
    "ExecuteTime": {
     "end_time": "2025-01-27T17:10:41.544162Z",
     "start_time": "2025-01-27T17:10:41.537191Z"
    }
   },
   "cell_type": "code",
   "source": "best_result_fast",
   "id": "35acc223e3de579b",
   "outputs": [
    {
     "data": {
      "text/plain": [
       "[('Wien Hauptbahnhof', 870),\n",
       " ('1-S3-W-j24-1', 872.0, 874.0),\n",
       " ('Wien Matzleinsdorfer Platz', 874.0),\n",
       " ('1-S1-W-j24-1', 879.0, 881.0),\n",
       " ('Wien Hauptbahnhof', 881.0),\n",
       " ('2-R63-N-j24-1', 888.0, 891.0),\n",
       " ('Wien Grillgasse', 891.0),\n",
       " ('2-R63-N-j24-1', 891.0, 903.0),\n",
       " ('Gramatneusiedl Bahnhof', 903.0),\n",
       " ('2-R63-N-j24-1', 904.0, 916.0),\n",
       " ('Bruck/Leitha Bahnhof', 916.0),\n",
       " ('2-R63-N-j24-1', 917.0, 921.0),\n",
       " ('Parndorf Ort Bahnhof', 921.0),\n",
       " ('2-R63-N-j24-1', 922.0, 928.0),\n",
       " ('Neusiedl am See Bahnhof', 928.0),\n",
       " ('2-R64-N-j24-1', 931.0, 934.0),\n",
       " ('Jois Bahnhof', 934.0),\n",
       " ('2-R64-N-j24-1', 934.0, 936.0),\n",
       " ('Winden am See Bahnhof', 936.0),\n",
       " ('2-R64-N-j24-1', 936.0, 938.0),\n",
       " ('Breitenbrunn Bahnhof', 938.0),\n",
       " ('2-R64-N-j24-1', 938.0, 942.0),\n",
       " ('Purbach am Neusiedler See Bf.', 942.0),\n",
       " ('2-R64-N-j24-1', 946.0, 949.0),\n",
       " ('Donnerskirchen Bahnhof', 949.0),\n",
       " ('2-R64-N-j24-1', 950.0, 953.0),\n",
       " ('Schützen am Gebirge Haltestelle', 953.0),\n",
       " ('2-R64-N-j24-1', 953.0, 955.0),\n",
       " ('Schützen am Gebirge Bahnhof', 955.0),\n",
       " ('2-R64-N-j24-1', 960.0, 964.0),\n",
       " ('Eisenstadt Schule', 964.0),\n",
       " ('2-R64-N-j24-1', 965.0, 966.0),\n",
       " ('Eisenstadt Bahnhof', 966.0)]"
      ]
     },
     "execution_count": 53,
     "metadata": {},
     "output_type": "execute_result"
    }
   ],
   "execution_count": 53
  },
  {
   "metadata": {
    "ExecuteTime": {
     "end_time": "2025-01-27T21:19:04.122139Z",
     "start_time": "2025-01-27T21:13:47.937149Z"
    }
   },
   "cell_type": "code",
   "source": [
    "# Backup-Routen berechnen\n",
    "print(\"backups\")\n",
    "backup_routes = a_star_backups(graph,best_result_fast)"
   ],
   "id": "719510ae51c0d38e",
   "outputs": [
    {
     "name": "stdout",
     "output_type": "stream",
     "text": [
      "backups\n",
      "lets go fromWien Hauptbahnhof\n",
      "possibility\n",
      "possibility is better then before None\n",
      "lets go fromWien Matzleinsdorfer Platz\n",
      "lets go fromWien Hauptbahnhof\n",
      "lets go fromWien Grillgasse\n",
      "lets go fromGramatneusiedl Bahnhof\n",
      "lets go fromBruck/Leitha Bahnhof\n",
      "lets go fromParndorf Ort Bahnhof\n",
      "lets go fromNeusiedl am See Bahnhof\n",
      "possibility\n",
      "possibility is better then before None\n",
      "possibility\n",
      "lets go fromJois Bahnhof\n",
      "lets go fromWinden am See Bahnhof\n",
      "lets go fromBreitenbrunn Bahnhof\n",
      "lets go fromPurbach am Neusiedler See Bf.\n",
      "lets go fromDonnerskirchen Bahnhof\n",
      "lets go fromSchützen am Gebirge Haltestelle\n",
      "lets go fromSchützen am Gebirge Bahnhof\n",
      "lets go fromEisenstadt Schule\n"
     ]
    }
   ],
   "execution_count": 93
  },
  {
   "metadata": {
    "ExecuteTime": {
     "end_time": "2025-01-27T21:36:28.052559Z",
     "start_time": "2025-01-27T21:36:28.043690Z"
    }
   },
   "cell_type": "code",
   "source": "backup_routes[0][2]",
   "id": "2cc14af1f098d22b",
   "outputs": [
    {
     "data": {
      "text/plain": [
       "np.float64(0.8555236996055999)"
      ]
     },
     "execution_count": 98,
     "metadata": {},
     "output_type": "execute_result"
    }
   ],
   "execution_count": 98
  },
  {
   "metadata": {
    "ExecuteTime": {
     "end_time": "2025-01-27T21:41:13.286364Z",
     "start_time": "2025-01-27T21:41:13.281046Z"
    }
   },
   "cell_type": "code",
   "source": [
    "def compute_itinerary_reliability(reliability_fast, backup_routes):\n",
    "    \"\"\"\n",
    "    Berechnet die Gesamtreliability eines Itineraries.\n",
    "\n",
    "    Parameters:\n",
    "        primary_reliability: Zuverlässigkeit der primären Route (rel_i).\n",
    "        backup_routes: Liste der Backup-Routen mit deren Zuverlässigkeit.\n",
    "\n",
    "    Returns:\n",
    "        Die Gesamtreliability des Itineraries.\n",
    "    \"\"\"\n",
    "    total_reliability = reliability_fast\n",
    "    for backup in backup_routes:\n",
    "        total_reliability += backup[2]\n",
    "    return total_reliability\n"
   ],
   "id": "7521882c94251186",
   "outputs": [],
   "execution_count": 108
  },
  {
   "metadata": {
    "ExecuteTime": {
     "end_time": "2025-01-27T21:41:19.685577Z",
     "start_time": "2025-01-27T21:41:19.680689Z"
    }
   },
   "cell_type": "code",
   "source": [
    "def compute_total_reliability(reliability_fast, backup_routes):\n",
    "    \"\"\"\n",
    "    Berechnet die Gesamtzuverlässigkeit der gesamten Route gemäß Wahrscheinlichkeitslogik.\n",
    "\n",
    "    Parameters:\n",
    "        primary_reliability: Zuverlässigkeit der primären Route (rel_i).\n",
    "        backup_routes: Liste der Backup-Routen mit deren Zuverlässigkeit.\n",
    "\n",
    "    Returns:\n",
    "        Die gesamte Zuverlässigkeit der Route (rel_{\\bar{i}}).\n",
    "    \"\"\"\n",
    "    total_reliability = reliability_fast\n",
    "    remaining_probability = 1 - reliability_fast  # Wahrscheinlichkeit, dass die Primärroute fehlschlägt\n",
    "\n",
    "    for backup in backup_routes:\n",
    "        backup_reliability = backup[2]\n",
    "        total_reliability += backup_reliability * remaining_probability\n",
    "        remaining_probability *= (1 - backup_reliability)\n",
    "\n",
    "    return total_reliability\n",
    "#zwischen 0 und 1\n"
   ],
   "id": "33fb67f5cf9c8d61",
   "outputs": [],
   "execution_count": 109
  },
  {
   "metadata": {
    "ExecuteTime": {
     "end_time": "2025-01-27T21:37:22.952529Z",
     "start_time": "2025-01-27T21:37:22.945308Z"
    }
   },
   "cell_type": "code",
   "source": "reliability_fast",
   "id": "c8ad4f0df098639c",
   "outputs": [
    {
     "data": {
      "text/plain": [
       "np.float64(0.08875793396167544)"
      ]
     },
     "execution_count": 101,
     "metadata": {},
     "output_type": "execute_result"
    }
   ],
   "execution_count": 101
  },
  {
   "metadata": {
    "ExecuteTime": {
     "end_time": "2025-01-27T21:41:31.780437Z",
     "start_time": "2025-01-27T21:41:31.775653Z"
    }
   },
   "cell_type": "code",
   "source": "total_reliability =compute_total_reliability(reliability_fast, backup_routes)",
   "id": "e9c55b91b8aa44c4",
   "outputs": [],
   "execution_count": 110
  },
  {
   "metadata": {
    "ExecuteTime": {
     "end_time": "2025-01-27T21:37:45.212747Z",
     "start_time": "2025-01-27T21:37:45.208375Z"
    }
   },
   "cell_type": "code",
   "source": "total_reliability = compute_itinerary_reliability(reliability_fast, backup_routes)",
   "id": "8d65044eccb76484",
   "outputs": [],
   "execution_count": 103
  },
  {
   "metadata": {
    "ExecuteTime": {
     "end_time": "2025-01-27T21:41:37.353462Z",
     "start_time": "2025-01-27T21:41:37.347448Z"
    }
   },
   "cell_type": "code",
   "source": "total_reliability",
   "id": "a25dcbcd5b1c5201",
   "outputs": [
    {
     "data": {
      "text/plain": [
       "np.float64(0.9652118951946763)"
      ]
     },
     "execution_count": 111,
     "metadata": {},
     "output_type": "execute_result"
    }
   ],
   "execution_count": 111
  },
  {
   "metadata": {
    "ExecuteTime": {
     "end_time": "2025-01-27T19:59:19.647651Z",
     "start_time": "2025-01-27T19:59:19.643018Z"
    }
   },
   "cell_type": "code",
   "source": "#current_time_fast, best_result_fast , reliability_fast = a_star_on_speed(graph, start_stop_name, end_stop_name, start_time_minutes,  exclude_routes=set(), MIN_TRANSFER_TIME=3)",
   "id": "a861f4b615aad01",
   "outputs": [],
   "execution_count": 65
  },
  {
   "metadata": {},
   "cell_type": "code",
   "source": "#current_time_slow, best_result_slow , reliability_slow = a_star(graph, start_stop_name, end_stop_name, start_time_minutes,  exclude_routes=set(), MIN_TRANSFER_TIME=3)",
   "id": "5a4534dacc921624",
   "outputs": [],
   "execution_count": null
  },
  {
   "metadata": {},
   "cell_type": "code",
   "source": "#best_result_fast",
   "id": "9d06b8dc04f80e48",
   "outputs": [],
   "execution_count": null
  },
  {
   "metadata": {},
   "cell_type": "code",
   "source": "#best_result_slow ",
   "id": "80f3f6d02965210c",
   "outputs": [],
   "execution_count": null
  },
  {
   "metadata": {
    "ExecuteTime": {
     "end_time": "2025-01-27T21:22:33.437519Z",
     "start_time": "2025-01-27T21:22:33.422938Z"
    }
   },
   "cell_type": "code",
   "source": "backup_routes",
   "id": "a05dbe4d2f4480ac",
   "outputs": [
    {
     "data": {
      "text/plain": [
       "[[987.0,\n",
       "  [('Wien Hauptbahnhof', 875.0),\n",
       "   ('2-R63-N-j24-1', 888.0, 891.0),\n",
       "   ('Wien Grillgasse', 891.0),\n",
       "   ('2-R63-N-j24-1', 891.0, 903.0),\n",
       "   ('Gramatneusiedl Bahnhof', 903.0),\n",
       "   ('2-R63-N-j24-1', 904.0, 916.0),\n",
       "   ('Bruck/Leitha Bahnhof', 916.0),\n",
       "   ('2-R63-N-j24-1', 917.0, 921.0),\n",
       "   ('Parndorf Ort Bahnhof', 921.0),\n",
       "   ('2-R63-N-j24-1', 922.0, 928.0),\n",
       "   ('Neusiedl am See Bahnhof', 928.0),\n",
       "   ('2-R64-N-j24-1', 961.0, 964.0),\n",
       "   ('Jois Bahnhof', 964.0),\n",
       "   ('2-R64-N-j24-1', 964.0, 966.0),\n",
       "   ('Winden am See Bahnhof', 966.0),\n",
       "   ('2-R64-N-j24-1', 966.0, 968.0),\n",
       "   ('Breitenbrunn Bahnhof', 968.0),\n",
       "   ('2-R64-N-j24-1', 968.0, 972.0),\n",
       "   ('Purbach am Neusiedler See Bf.', 972.0),\n",
       "   ('2-R64-N-j24-1', 972.0, 975.0),\n",
       "   ('Donnerskirchen Bahnhof', 975.0),\n",
       "   ('2-R64-N-j24-1', 976.0, 979.0),\n",
       "   ('Schützen am Gebirge Haltestelle', 979.0),\n",
       "   ('2-R64-N-j24-1', 979.0, 980.0),\n",
       "   ('Schützen am Gebirge Bahnhof', 980.0),\n",
       "   ('2-R64-N-j24-1', 981.0, 985.0),\n",
       "   ('Eisenstadt Schule', 985.0),\n",
       "   ('2-R64-N-j24-1', 986.0, 987.0),\n",
       "   ('Eisenstadt Bahnhof', 987.0)],\n",
       "  np.float64(0.8555236996055999)],\n",
       " [inf, [], np.float64(0.0)],\n",
       " [inf, [], np.float64(0.0)],\n",
       " [976.0,\n",
       "  [('Neusiedl am See Bahnhof', 934.0),\n",
       "   ('20-SV7-D-j24-1', 936.0, 942.0),\n",
       "   ('Jois Eisenstädter Straße', 942.0),\n",
       "   ('20-SV7-D-j24-1', 942.0, 945.0),\n",
       "   ('Winden/See Eisenstädter Straße', 945.0),\n",
       "   ('20-SV7-D-j24-1', 945.0, 948.0),\n",
       "   ('Breitenbrunn/Neusiedler See Türkenturm', 948.0),\n",
       "   ('20-SV7-D-j24-1', 948.0, 954.0),\n",
       "   ('Purbach am See Türkentor', 954.0),\n",
       "   ('20-SV7-D-j24-1', 954.0, 959.0),\n",
       "   ('Donnerskirchen Bundesstraße', 959.0),\n",
       "   ('20-SV7-D-j24-1', 959.0, 963.0),\n",
       "   ('Schützen am Gebirge Neusiedler Str.', 963.0),\n",
       "   ('20-SV7-D-j24-1', 963.0, 964.0),\n",
       "   ('Schützen am Gebirge Ortsmitte', 964.0),\n",
       "   ('20-SV7-D-j24-1', 964.0, 965.0),\n",
       "   ('Schützen am Gebirge Bahnhof', 965.0),\n",
       "   ('20-SV7-D-j24-1', 965.0, 973.0),\n",
       "   ('Eisenstadt Finanzamt', 973.0),\n",
       "   ('20-SV7-D-j24-1', 973.0, 976.0),\n",
       "   ('Eisenstadt Bahnhof', 976.0)],\n",
       "  np.float64(0.7357588823428847)]]"
      ]
     },
     "execution_count": 94,
     "metadata": {},
     "output_type": "execute_result"
    }
   ],
   "execution_count": 94
  },
  {
   "metadata": {},
   "cell_type": "code",
   "outputs": [],
   "execution_count": null,
   "source": "",
   "id": "edc8a2852dee3af8"
  }
 ],
 "metadata": {
  "kernelspec": {
   "display_name": "Python 3",
   "language": "python",
   "name": "python3"
  },
  "language_info": {
   "codemirror_mode": {
    "name": "ipython",
    "version": 2
   },
   "file_extension": ".py",
   "mimetype": "text/x-python",
   "name": "python",
   "nbconvert_exporter": "python",
   "pygments_lexer": "ipython2",
   "version": "2.7.6"
  }
 },
 "nbformat": 4,
 "nbformat_minor": 5
}
