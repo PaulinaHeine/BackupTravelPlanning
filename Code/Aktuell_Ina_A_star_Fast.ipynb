{
 "cells": [
  {
   "metadata": {},
   "cell_type": "markdown",
   "source": "Import of Packages",
   "id": "1aa238fa957aaa40"
  },
  {
   "cell_type": "code",
   "id": "initial_id",
   "metadata": {
    "collapsed": true,
    "ExecuteTime": {
     "end_time": "2025-01-29T17:28:27.852354Z",
     "start_time": "2025-01-29T17:27:49.246582Z"
    }
   },
   "source": [
    "import scipy.stats as stats\n",
    "import heapq\n",
    "from collections import defaultdict\n",
    "#from Code.import_data import import_data\n",
    "from datetime import datetime, timedelta\n",
    "import pandas as pd"
   ],
   "outputs": [],
   "execution_count": 1
  },
  {
   "metadata": {},
   "cell_type": "markdown",
   "source": "Import of Data",
   "id": "a7476dc616a344e5"
  },
  {
   "metadata": {
    "ExecuteTime": {
     "end_time": "2025-01-29T17:28:27.881572Z",
     "start_time": "2025-01-29T17:28:27.861256Z"
    }
   },
   "cell_type": "code",
   "source": [
    "\n",
    "def import_data():\n",
    "    # @diana and denis, change to your directory\n",
    "    gtfs_dir = '/Users/paulinaheine/Codes/BackupTravelPlanning/GTFS_OP_2024_obb-2/'\n",
    "    #gtfs_dir = '/Users/paulinaheine/Codes/BackupTravelPlanning/GTFS_OP_2025_obb/'\n",
    "\n",
    "    # Load data\n",
    "    agency_df = pd.read_csv(gtfs_dir + 'agency.txt')\n",
    "    stops_df = pd.read_csv(gtfs_dir + 'stops.txt')\n",
    "    routes_df = pd.read_csv(gtfs_dir + 'routes.txt')\n",
    "    trips_df = pd.read_csv(gtfs_dir + 'trips.txt')\n",
    "    stop_times_df = pd.read_csv(gtfs_dir + 'stop_times.txt')\n",
    "    calendar_df = pd.read_csv(gtfs_dir + 'calendar.txt')\n",
    "    calendar_dates_df = pd.read_csv(gtfs_dir + 'calendar_dates.txt')\n",
    "    shapes_df = pd.read_csv(gtfs_dir + 'shapes.txt')\n",
    "    \n",
    "    # Return all DataFrames\n",
    "    return agency_df, stops_df, routes_df, trips_df, stop_times_df, calendar_df, calendar_dates_df, shapes_df\n",
    "\n",
    "# Import and display data\n"
   ],
   "id": "6dbda37a5cf4a02",
   "outputs": [],
   "execution_count": 2
  },
  {
   "metadata": {},
   "cell_type": "markdown",
   "source": "Helping Functions",
   "id": "db438fd723298b46"
  },
  {
   "metadata": {
    "ExecuteTime": {
     "end_time": "2025-01-29T17:28:27.938944Z",
     "start_time": "2025-01-29T17:28:27.889668Z"
    }
   },
   "cell_type": "code",
   "source": [
    "def time_to_minutes(time_str):\n",
    "    hours, minutes, seconds = map(int, time_str.split(\":\"))\n",
    "    return hours * 60 + minutes + seconds / 60\n",
    "\n",
    "def minutes_to_time(minutes):\n",
    "    hours = int(minutes // 60)\n",
    "    minutes = int(minutes % 60)\n",
    "    return f\"{hours:02d}:{minutes:02d}\"\n",
    "\n",
    "def get_weekday(date):\n",
    "    weekdays = [\"monday\", \"tuesday\", \"wednesday\", \"thursday\", \"friday\", \"saturday\", \"sunday\"]\n",
    "    return weekdays[date.weekday()]\n",
    "\n",
    "def get_available_service_ids(start_date, calendar, calendar_dates):\n",
    "    \"\"\"\n",
    "    Gibt eine Liste der verfügbaren Service-IDs für das angegebene Datum zurück.\n",
    "    \"\"\"\n",
    "    # Konvertiere start_date zu einem Datum im Format YYYYMMDD\n",
    "    start_date_datetime = datetime.strptime(start_date, \"%Y-%m-%d\")\n",
    "    start_date_str = start_date_datetime.strftime(\"%Y%m%d\")\n",
    "    weekday = [\"monday\", \"tuesday\", \"wednesday\", \"thursday\", \"friday\", \"saturday\", \"sunday\"][start_date_datetime.weekday()]\n",
    "\n",
    "    available_service_ids = []\n",
    "    \n",
    "    \n",
    "        # 🔹 Schritt 2: Reguläre Services aus `calendar` prüfen\n",
    "    for _, service in calendar.iterrows():\n",
    "        service_id = service[\"service_id\"]\n",
    "\n",
    "        # Prüfen, ob das Datum im gültigen Zeitraum liegt\n",
    "        if int(service[\"start_date\"]) <= int(start_date_str) <= int(service[\"end_date\"]):\n",
    "            # Prüfen, ob der Service an diesem Wochentag aktiv ist\n",
    "            if service[weekday] == 1:\n",
    "                if service_id not in available_service_ids:\n",
    "                    available_service_ids.append(service_id)\n",
    "                   \n",
    "\n",
    "    # 🔹 Schritt 1: Sonderregelungen aus `calendar_dates` berücksichtigen\n",
    "    exceptions = calendar_dates[calendar_dates[\"date\"] == int(start_date_str)]\n",
    "    \n",
    "    for _, exception in exceptions.iterrows():\n",
    "        service_id = exception[\"service_id\"]\n",
    "        if exception[\"exception_type\"] == 2:  # Service wird als Ausnahme hinzugefügt\n",
    "            if service_id not in available_service_ids:\n",
    "                available_service_ids.append(service_id)\n",
    "        elif exception[\"exception_type\"] == 1:  # Service wird als Ausnahme entfernt\n",
    "            if service_id in available_service_ids:\n",
    "                available_service_ids.remove(service_id)\n",
    "    return available_service_ids \n",
    "\n",
    "\n",
    "    \n",
    "\n",
    "def prepare_calendar_dates(calendar_dates):\n",
    "    grouped = calendar_dates.groupby(\"service_id\")\n",
    "    calendar_dates_dict = {}\n",
    "    for service_id, group in grouped:\n",
    "        exceptions = group.to_dict(orient=\"records\")\n",
    "        calendar_dates_dict[service_id] = exceptions\n",
    "    return calendar_dates_dict"
   ],
   "id": "4ea20b531303739b",
   "outputs": [],
   "execution_count": 3
  },
  {
   "metadata": {
    "ExecuteTime": {
     "end_time": "2025-01-28T18:31:13.780854Z",
     "start_time": "2025-01-28T18:30:56.012281Z"
    }
   },
   "cell_type": "code",
   "source": "agency, stops, routes, trips, stop_times, calendar, calendar_dates, shapes = import_data()",
   "id": "b3dfb65b16f2be1",
   "outputs": [],
   "execution_count": 401
  },
  {
   "metadata": {},
   "cell_type": "markdown",
   "source": "Create Graph",
   "id": "79f58bfb3daae85b"
  },
  {
   "metadata": {},
   "cell_type": "code",
   "outputs": [],
   "execution_count": null,
   "source": "",
   "id": "de3c0df77beeb2d4"
  },
  {
   "metadata": {
    "ExecuteTime": {
     "end_time": "2025-01-29T17:28:28.018691Z",
     "start_time": "2025-01-29T17:28:27.962927Z"
    }
   },
   "cell_type": "code",
   "source": [
    "def create_graph_with_schedule(stop_times, stops, trips, calendar, calendar_dates, start_time_obj, end_time_obj):\n",
    "    \"\"\"\n",
    "    Erstellt einen Graphen mit Knoten basierend auf verfügbaren Fahrten und Zeitfenstern.\n",
    "    \"\"\"\n",
    "\n",
    "    from collections import defaultdict\n",
    "\n",
    "    graph = defaultdict(list)\n",
    "    stop_id_to_name = stops.set_index(\"stop_id\")[\"stop_name\"].to_dict()\n",
    "\n",
    "    # 🔹 Hole alle gültigen Service-IDs für den Tag\n",
    "    available_services = get_available_service_ids(start_time_obj.strftime(\"%Y-%m-%d\"), calendar, calendar_dates)\n",
    "    print(len(available_services))\n",
    "\n",
    "    # 🔹 Filtere `stop_times` basierend auf der Zeitspanne\n",
    "    stop_times = stop_times.sort_values(by=[\"trip_id\", \"stop_sequence\"])\n",
    "    stop_times[\"arrival_minutes\"] = stop_times[\"arrival_time\"].apply(time_to_minutes)\n",
    "    stop_times[\"departure_minutes\"] = stop_times[\"departure_time\"].apply(time_to_minutes)\n",
    "    trip_id_to_service = trips.set_index(\"trip_id\")[\"service_id\"].to_dict()\n",
    "    stop_times[\"service_id\"] = stop_times[\"trip_id\"].map(trip_id_to_service)\n",
    "\n",
    "    start_minutes = time_to_minutes(start_time_obj.strftime(\"%H:%M:%S\"))\n",
    "    end_minutes = time_to_minutes(end_time_obj.strftime(\"%H:%M:%S\"))\n",
    "\n",
    "    stop_times_filtered = stop_times[\n",
    "        (stop_times[\"arrival_minutes\"] >= start_minutes) &\n",
    "        (stop_times[\"departure_minutes\"] <= end_minutes) &\n",
    "        (stop_times[\"service_id\"].isin(available_services))\n",
    "    ]\n",
    "\n",
    "    print(f\"Rows after time window and service filter: {len(stop_times_filtered)}\")\n",
    "\n",
    "    # 🔹 Graphen erstellen\n",
    "    trip_id_to_route = trips.set_index(\"trip_id\")[\"route_id\"].to_dict()\n",
    "    grouped = stop_times_filtered.groupby(\"trip_id\")\n",
    "\n",
    "    for trip_id, group in grouped:\n",
    "        stops_list = group[\"stop_id\"].tolist()\n",
    "        departures = group[\"departure_time\"].apply(time_to_minutes).tolist()\n",
    "        arrivals = group[\"arrival_time\"].apply(time_to_minutes).tolist()\n",
    "\n",
    "        for start, end, dep, arr in zip(stops_list[:-1], stops_list[1:], departures[:-1], arrivals[1:]):\n",
    "            travel_time = arr - dep\n",
    "            if travel_time > 0:\n",
    "                graph[stop_id_to_name[start]].append(\n",
    "                    (stop_id_to_name[end], dep, arr, trip_id_to_route.get(trip_id))\n",
    "                )\n",
    "\n",
    "    return graph\n"
   ],
   "id": "10f80925c6c5125e",
   "outputs": [],
   "execution_count": 4
  },
  {
   "metadata": {},
   "cell_type": "markdown",
   "source": "Reliability function",
   "id": "9b8a7414cde9e2db"
  },
  {
   "metadata": {
    "ExecuteTime": {
     "end_time": "2025-01-29T20:09:12.438575Z",
     "start_time": "2025-01-29T20:09:12.433962Z"
    }
   },
   "cell_type": "code",
   "source": [
    "def compute_transfer_probability_with_departure_delay(transfer_time):\n",
    "    return min(0.95,stats.gamma.cdf(transfer_time, a=2, scale=2))\n"
   ],
   "id": "b9209559e07202bf",
   "outputs": [],
   "execution_count": 56
  },
  {
   "metadata": {
    "ExecuteTime": {
     "end_time": "2025-01-29T20:00:35.127953Z",
     "start_time": "2025-01-29T20:00:35.118463Z"
    }
   },
   "cell_type": "code",
   "source": "stats.gamma.cdf(6, a=2, scale=2)",
   "id": "511a2d7b46db4f63",
   "outputs": [
    {
     "data": {
      "text/plain": [
       "np.float64(0.8008517265285442)"
      ]
     },
     "execution_count": 47,
     "metadata": {},
     "output_type": "execute_result"
    }
   ],
   "execution_count": 47
  },
  {
   "metadata": {
    "ExecuteTime": {
     "end_time": "2025-01-29T20:00:44.048006Z",
     "start_time": "2025-01-29T20:00:44.038206Z"
    }
   },
   "cell_type": "code",
   "source": "stats.gamma.cdf(5, a=2, scale=2)",
   "id": "ea0063c0613f5560",
   "outputs": [
    {
     "data": {
      "text/plain": [
       "np.float64(0.7127025048163542)"
      ]
     },
     "execution_count": 48,
     "metadata": {},
     "output_type": "execute_result"
    }
   ],
   "execution_count": 48
  },
  {
   "metadata": {
    "ExecuteTime": {
     "end_time": "2025-01-29T20:19:15.245152Z",
     "start_time": "2025-01-29T20:19:15.231482Z"
    }
   },
   "cell_type": "code",
   "source": "stats.gamma.cdf(9, a=2, scale=2)",
   "id": "c6ef74603c71424b",
   "outputs": [
    {
     "data": {
      "text/plain": [
       "np.float64(0.9389005190396673)"
      ]
     },
     "execution_count": 64,
     "metadata": {},
     "output_type": "execute_result"
    }
   ],
   "execution_count": 64
  },
  {
   "metadata": {
    "ExecuteTime": {
     "end_time": "2025-01-29T20:01:25.382322Z",
     "start_time": "2025-01-29T20:01:25.356075Z"
    }
   },
   "cell_type": "code",
   "source": "0.8008*0.7127*0.864",
   "id": "c2ec6fb914cca2dc",
   "outputs": [
    {
     "data": {
      "text/plain": [
       "0.49311085824"
      ]
     },
     "execution_count": 50,
     "metadata": {},
     "output_type": "execute_result"
    }
   ],
   "execution_count": 50
  },
  {
   "metadata": {
    "ExecuteTime": {
     "end_time": "2025-01-29T19:39:06.449739Z",
     "start_time": "2025-01-29T19:39:06.442639Z"
    }
   },
   "cell_type": "code",
   "source": [
    "def compute_total_reliability(reliability_fast, backup_routes):\n",
    "    \"\"\"\n",
    "    Berechnet die Gesamtzuverlässigkeit der gesamten Route gemäß Wahrscheinlichkeitslogik.\n",
    "\n",
    "    Parameters:\n",
    "        primary_reliability: Zuverlässigkeit der primären Route (rel_i).\n",
    "        backup_routes: Liste der Backup-Routen mit deren Zuverlässigkeit.\n",
    "\n",
    "    Returns:\n",
    "        Die gesamte Zuverlässigkeit der Route (rel_{\\bar{i}}).\n",
    "    \"\"\"\n",
    "    total_reliability = reliability_fast\n",
    "    #remaining_probability = 1 - reliability_fast  # Wahrscheinlichkeit, dass die Primärroute fehlschlägt\n",
    "\n",
    "    for backup in backup_routes:\n",
    "        backup_reliability = backup[2]\n",
    "        total_reliability += backup_reliability\n",
    "\n",
    "    return total_reliability\n",
    "#zwischen 0 und 1\n"
   ],
   "id": "33fb67f5cf9c8d61",
   "outputs": [],
   "execution_count": 27
  },
  {
   "metadata": {},
   "cell_type": "markdown",
   "source": "# A* ",
   "id": "7cb26a7347ab37"
  },
  {
   "metadata": {
    "ExecuteTime": {
     "end_time": "2025-01-29T19:42:18.933796Z",
     "start_time": "2025-01-29T19:42:18.897941Z"
    }
   },
   "cell_type": "code",
   "source": [
    "import heapq\n",
    "import math\n",
    "\n",
    "def haversine(lat1, lon1, lat2, lon2):\n",
    "    R = 6371  # Radius der Erde in Kilometern\n",
    "    phi1 = math.radians(lat1)\n",
    "    phi2 = math.radians(lat2)\n",
    "    delta_phi = math.radians(lat2 - lat1)\n",
    "    delta_lambda = math.radians(lon2 - lon1)\n",
    "\n",
    "    a = math.sin(delta_phi / 2)**2 + math.cos(phi1) * math.cos(phi2) * math.sin(delta_lambda / 2)**2\n",
    "    c = 2 * math.atan2(math.sqrt(a), math.sqrt(1 - a))\n",
    "    \n",
    "    return R * c  # Entfernung in Kilometern\n",
    "\n",
    "def heuristic(current_stop, end_name, stops_df):\n",
    "    current_stop_row = stops_df[stops_df['stop_name'] == current_stop].iloc[0]\n",
    "    end_stop_row = stops_df[stops_df['stop_name'] == end_name].iloc[0]\n",
    "\n",
    "    current_lat = current_stop_row['stop_lat']\n",
    "    current_lon = current_stop_row['stop_lon']\n",
    "    end_lat = end_stop_row['stop_lat']\n",
    "    end_lon = end_stop_row['stop_lon']\n",
    "\n",
    "    distance_km = haversine(current_lat, current_lon, end_lat, end_lon)\n",
    "\n",
    "    average_speed = 60  # km/h\n",
    "    estimated_time_minutes = (distance_km / average_speed) * 60\n",
    "    return estimated_time_minutes\n",
    "\n",
    "#heuristic(\"Wien Handelskai\", end_stop_name,  stops)\n",
    "\n",
    "def a_star(graph, start_name, end_name, start_time_minutes, \n",
    "                                  exclude_routes=set(), MIN_TRANSFER_TIME=2, stops_df=None):\n",
    "    pq = [(start_time_minutes, start_name, [], 1.0, None, 0)]  # (aktuelle Zeit, aktuelle Haltestelle, Pfad, Zuverlässigkeit, letzte Linie, Heuristik)\n",
    "    visited = set()\n",
    "    best_result = None  # Variable, um das beste Ergebnis zu speichern\n",
    "\n",
    "    while pq:\n",
    "        current_time, current_stop, path, reliability, last_route, _ = heapq.heappop(pq)\n",
    "\n",
    "        if (current_stop, current_time) in visited:\n",
    "            continue\n",
    "        visited.add((current_stop, current_time))\n",
    "\n",
    "        path = path + [(current_stop, current_time)]\n",
    "\n",
    "        # Überprüfe, ob das Ziel erreicht wurde\n",
    "        if current_stop == end_name:\n",
    "            # Hier speichern wir das erste Ergebnis, wenn das Ziel erreicht wurde\n",
    "            if best_result is None or new_current_time < best_result[0]:  # Wenn das Ziel früher erreicht wird\n",
    "                best_result = (current_time, path, reliability)\n",
    "\n",
    "\n",
    "        for neighbor, departure_time, arrival_time, route_id in graph[current_stop]:\n",
    "            if departure_time >= current_time and route_id not in exclude_routes:\n",
    "                # Prüfe, ob es ein Umstieg ist (Linienwechsel)\n",
    "                is_transfer = last_route is not None and last_route != route_id\n",
    "                if is_transfer:\n",
    "                    transfer_time = departure_time - current_time\n",
    "                    if transfer_time < MIN_TRANSFER_TIME:\n",
    "                        continue  # Zu wenig Zeit für Umstieg\n",
    "\n",
    "                if not is_transfer:\n",
    "                    transfer_reliability = 1.0\n",
    "                else:\n",
    "                    transfer_reliability = compute_transfer_probability_with_departure_delay(transfer_time)\n",
    "\n",
    "                new_current_time = arrival_time\n",
    "                new_reliability = reliability * transfer_reliability\n",
    "\n",
    "                # Heuristik für A* (vereinfachte Schätzung der verbleibenden Zeit)\n",
    "                h = heuristic(neighbor, end_name, stops)\n",
    "\n",
    "                # Füge den nächsten Knoten zur Priority Queue hinzu\n",
    "                heapq.heappush(pq, (\n",
    "                    new_current_time,  # Gesamtbewertung: aktuelle Zeit + Heuristik\n",
    "                    neighbor,\n",
    "                    path + [(route_id, departure_time, arrival_time)],\n",
    "                    new_reliability,\n",
    "                    route_id,\n",
    "                    h\n",
    "                ))\n",
    "\n",
    "    # Gibt das beste Ergebnis zurück, wenn es existiert, andernfalls eine Fehlermeldung\n",
    "    if best_result:\n",
    "        return best_result\n",
    "    else:\n",
    "        return float(\"inf\"), [], 0.0  # Keine Route gefunden\n",
    "    \n",
    "'''\n",
    "old and not working\n",
    "def a_star_on_speed(graph, start_name, end_name, start_time_minutes, \n",
    "                                  exclude_routes=set(), MIN_TRANSFER_TIME=2, stops_df=None):\n",
    "    pq = [(start_time_minutes, start_name, [], 1.0, None, 0)]  # (aktuelle Zeit, aktuelle Haltestelle, Pfad, Zuverlässigkeit, letzte Linie, Heuristik)\n",
    "    visited = set()\n",
    "    best_result = None  # Variable, um das beste Ergebnis zu speichern\n",
    "    count = 0\n",
    "    while pq:\n",
    "        current_time, current_stop, path, reliability, last_route, _ = heapq.heappop(pq)\n",
    "\n",
    "        if (current_stop, current_time, reliability, last_route) in visited:\n",
    "            continue\n",
    "        visited.add((current_stop, current_time, reliability, last_route))\n",
    "\n",
    "        path = path + [(current_stop, current_time)]\n",
    "        \n",
    "        # Überprüfe, ob das Ziel erreicht wurde\n",
    "        if current_stop == end_name:\n",
    "            print(\"possibility\")\n",
    "            count += 1\n",
    "            # Hier speichern wir das erste Ergebnis, wenn das Ziel erreicht wurde\n",
    "            if best_result is None or current_time < best_result[0]:\n",
    "                print(\"possibility is better then before\", best_result)\n",
    "                # Wenn das Ergebnis besser ist, wird es aktualisiert\n",
    "                best_result = (current_time, path, reliability) # Zähler zurücksetzen\n",
    "                \n",
    "        \n",
    "            # Überprüfung, ob maximale Anzahl an Iterationen ohne Verbesserung erreicht wurde\n",
    "        if count > 2:\n",
    "            print(\"max ieration for here\")\n",
    "            return best_result  # Rückgabe des aktuellen besten Ergebnisses\n",
    " \n",
    "        for neighbor, departure_time, arrival_time, route_id in graph[current_stop]:\n",
    "            if departure_time >= current_time and route_id not in exclude_routes:\n",
    "                # Prüfe, ob es ein Umstieg ist (Linienwechsel)\n",
    "                is_transfer = last_route is not None and last_route != route_id\n",
    "                if is_transfer:\n",
    "                    transfer_time = departure_time - current_time\n",
    "                    if transfer_time < MIN_TRANSFER_TIME:\n",
    "                        continue  # Zu wenig Zeit für Umstieg\n",
    "\n",
    "                if not is_transfer:\n",
    "                    transfer_reliability = 1.0\n",
    "                else:\n",
    "                    transfer_reliability = compute_transfer_probability_with_departure_delay(transfer_time)\n",
    "\n",
    "                new_current_time = arrival_time\n",
    "                new_reliability = reliability * transfer_reliability\n",
    "\n",
    "                # Heuristik für A* (vereinfachte Schätzung der verbleibenden Zeit)\n",
    "                h = heuristic(neighbor, end_name, stops)\n",
    "\n",
    "                # Füge den nächsten Knoten zur Priority Queue hinzu\n",
    "                heapq.heappush(pq, (\n",
    "                    new_current_time,  # Gesamtbewertung: aktuelle Zeit + Heuristik\n",
    "                    neighbor,\n",
    "                    path + [(route_id, departure_time, arrival_time)],\n",
    "                    new_reliability,\n",
    "                    route_id,\n",
    "                    h\n",
    "                ))\n",
    "                \n",
    "    # Gibt das beste Ergebnis zurück, wenn es existiert, andernfalls eine Fehlermeldung\n",
    "    if best_result:\n",
    "        return best_result\n",
    "    else:\n",
    "        return float(\"inf\"), [], 0.0  # Keine Route gefunden\n",
    "'''\n"
   ],
   "id": "5f45cf3fe13f6bb2",
   "outputs": [],
   "execution_count": 35
  },
  {
   "metadata": {
    "ExecuteTime": {
     "end_time": "2025-01-29T21:41:14.154130Z",
     "start_time": "2025-01-29T21:41:14.142567Z"
    }
   },
   "cell_type": "code",
   "source": [
    "\n",
    "\n",
    "def a_star_with_reliability_fixed(graph, start_name, end_name, start_time_minutes, \n",
    "                                  exclude_routes=set(), MIN_TRANSFER_TIME=4, stops_df=None):\n",
    "    pq = [(start_time_minutes,start_time_minutes, start_name, [], 1.0, None)]  # (aktuelle Zeit, aktuelle Haltestelle, Pfad, Zuverlässigkeit, letzte Linie, Heuristik)\n",
    "    visited = set()\n",
    "    best_result = None  # Variable, um das beste Ergebnis zu speichern\n",
    "    # Initialisierung für die Überprüfung der Verbesserungen\n",
    "    count = 0  # Zähler für Iterationen ohne Verbesserung\n",
    "   \n",
    "    \n",
    "    while pq:\n",
    "        weight, current_time, current_stop, path, reliability, last_route = heapq.heappop(pq)\n",
    "\n",
    "        path_hash = tuple(path[-5:])\n",
    "        if (current_stop, current_time, path_hash) in visited:\n",
    "            continue\n",
    "        visited.add((current_stop, current_time,path_hash))\n",
    "\n",
    "        path = path + [(current_stop, current_time)]\n",
    "\n",
    "        # Überprüfe, ob das Ziel erreicht wurde\n",
    "        if current_stop == end_name:\n",
    "            print(\"possibility\")\n",
    "            count += 1\n",
    "            # Hier speichern wir das erste Ergebnis, wenn das Ziel erreicht wurde\n",
    "            if best_result is None or reliability > best_result[2]:\n",
    "                print(\"possibility is better then before\", best_result)\n",
    "                # Wenn das Ergebnis besser ist, wird es aktualisiert\n",
    "                best_result = (current_time, path, reliability) # Zähler zurücksetzen\n",
    "                \n",
    "        \n",
    "            # Überprüfung, ob maximale Anzahl an Iterationen ohne Verbesserung erreicht wurde\n",
    "        if count > 0:\n",
    "            print(\"max ieration for here\")\n",
    "            return best_result  # Rückgabe des aktuellen besten Ergebnisses\n",
    "\n",
    "\n",
    "        for neighbor, departure_time, arrival_time, route_id in graph[current_stop]:\n",
    "            if departure_time >= current_time and route_id not in exclude_routes:\n",
    "                # Prüfe, ob es ein Umstieg ist (Linienwechsel)\n",
    "                is_transfer = last_route is not None and last_route != route_id\n",
    "                if is_transfer:\n",
    "                    transfer_time = departure_time - current_time\n",
    "                    if transfer_time < MIN_TRANSFER_TIME or transfer_time > 60:\n",
    "                        continue  # Zu wenig Zeit für Umstieg\n",
    "\n",
    "                if not is_transfer:\n",
    "                    transfer_reliability = 1.0\n",
    "                else:\n",
    "                    transfer_reliability = compute_transfer_probability_with_departure_delay(transfer_time)\n",
    "\n",
    "                new_current_time = arrival_time\n",
    "                new_reliability = reliability * transfer_reliability\n",
    "\n",
    "                # Heuristik für A* (vereinfachte Schätzung der verbleibenden Zeit)\n",
    "                h = heuristic(neighbor, end_name, stops)\n",
    "\n",
    "                # Füge den nächsten Knoten zur Priority Queue hinzu\n",
    "                heapq.heappush(pq, (\n",
    "                    new_current_time+h ,# Gesamtbewertung: aktuelle Zeit + Heuristik\n",
    "                    new_current_time,\n",
    "                    neighbor,\n",
    "                    path + [(route_id, departure_time, arrival_time)],\n",
    "                    new_reliability,\n",
    "                    route_id\n",
    "                    \n",
    "                ))\n",
    "\n",
    "    # Gibt das beste Ergebnis zurück, wenn es existiert, andernfalls eine Fehlermeldung\n",
    "    if best_result:\n",
    "        return best_result\n",
    "    else:\n",
    "        return float(\"inf\"), [], 0.0  # Keine Route gefunden\n"
   ],
   "id": "5dab0cf3e50a4cd5",
   "outputs": [],
   "execution_count": 147
  },
  {
   "metadata": {
    "ExecuteTime": {
     "end_time": "2025-01-29T21:41:15.042930Z",
     "start_time": "2025-01-29T21:41:15.033300Z"
    }
   },
   "cell_type": "code",
   "source": [
    "\n",
    "\n",
    "def a_star_backups(graph, path_fixed):\n",
    "\n",
    "    backup_routes = []\n",
    "    \n",
    "    last_route = None\n",
    "    rel_before_trans = 1.0\n",
    "    \n",
    "    for i in range(1, len(path_fixed) - 1, 2):  # Alle Umstiegspunkte durchgehen\n",
    "        transfer_stop, current  = path_fixed[i - 1]\n",
    "        # Identifiziere alle Umstiegspunkte in der Route\n",
    "        # for i in range(1, len(path_fixed) - 1, 2):\n",
    "        \n",
    "    \n",
    "        #adjusted_transfer_time = MIN_TRANSFER_TIME + 15\n",
    "        #current_stop, current_time = path_fixed[i - 1]\n",
    "        route_id, departure_time, arrival_time = path_fixed[i]\n",
    "        next_stop, _ = path_fixed[i + 1]\n",
    "        transfer_time_inbetween = departure_time - current \n",
    "        \n",
    "        if route_id != last_route:\n",
    "                print(f\"lets go from{transfer_stop}\")\n",
    "                rel_before_trans *= (compute_transfer_probability_with_departure_delay(transfer_time_inbetween))\n",
    "                missed_trans_rel = 1 - (compute_transfer_probability_with_departure_delay(transfer_time_inbetween))\n",
    "                backup_time, backup_path, backup_reliability = a_star_with_reliability_fixed(\n",
    "                    graph, transfer_stop, path_fixed[-1][0], start_time_minutes = departure_time + 1 , stops_df=None, MIN_TRANSFER_TIME= 2,exclude_routes=set()\n",
    "                )\n",
    "                backup_routes.append([backup_time, backup_path, (missed_trans_rel * backup_reliability * rel_before_trans)])\n",
    "        last_route = route_id\n",
    "        \n",
    "    return backup_routes"
   ],
   "id": "e9734b29935e44",
   "outputs": [],
   "execution_count": 148
  },
  {
   "metadata": {},
   "cell_type": "markdown",
   "source": "Main",
   "id": "e8fcb93869d91084"
  },
  {
   "metadata": {
    "ExecuteTime": {
     "end_time": "2025-01-30T09:45:50.969926Z",
     "start_time": "2025-01-30T09:45:50.947346Z"
    }
   },
   "cell_type": "code",
   "source": [
    "\n",
    "# Hauptprogramm\n",
    "if __name__ == \"__main__\":\n",
    "\n",
    "    #agency, stops, routes, trips, stop_times, calendar, calendar_dates, shapes = import_data()\n",
    "    \n",
    "    \n",
    "    start_stop_name =  \"Flughafen Wien Bahnhof\"\n",
    "    end_stop_name = \"Schattendorf Kirchengasse\"\n",
    "    start_datetime = \"2024-12-12 14:30:00\"\n",
    "    '''\n",
    "    \n",
    "    #short\n",
    "    start_stop_name =  \"Wien Hauptbahnhof\"\n",
    "    end_stop_name =   \"Laa/Thaya Bahnhof\"  #\"Wien Leopoldau\"\n",
    "    start_datetime = \"2024-12-12 9:00:00\"\n",
    "    \n",
    "   \n",
    "    #long \n",
    "    start_stop_name = \"Kaindorf Bahnhof\"\n",
    "    end_stop_name = \"Graz Ostbahnhof\"\n",
    "    start_datetime = \"2024-12-12 14:00:00\"\n",
    "    '''\n",
    "\n",
    "    time_budget = \"2:30\"\n",
    "    time_budget_hours, time_budget_minutes = map(int, time_budget.split(\":\"))\n",
    "    time_budget_minutes = time_budget_hours * 60 + time_budget_minutes / 60\n",
    "\n",
    "    start_time_obj = datetime.strptime(start_datetime, \"%Y-%m-%d %H:%M:%S\")\n",
    "    start_time_minutes = start_time_obj.hour * 60 + start_time_obj.minute\n",
    "\n",
    "    # In ein reines date-Objekt umwandeln\n",
    "    start_time_obj = datetime.strptime(start_datetime, \"%Y-%m-%d %H:%M:%S\")\n",
    "    end_time_obj = start_time_obj + timedelta(minutes=time_budget_minutes)\n",
    "    date_obj = start_time_obj.date()\n",
    "\n",
    "    start_time_minutes = start_time_obj.hour * 60 + start_time_obj.minute\n",
    "\n",
    "\n",
    "'''\n",
    "    # Ergebnis anzeigen\n",
    "    if current_time_fast < float(\"inf\"):\n",
    "        arrival_time_fixed = minutes_to_time(current_time_fast)\n",
    "        print(f\"\\n📍 Optimierte zuverlässigste Route von {start_stop_name} nach {end_stop_name}:\")\n",
    "\n",
    "        last_route = None\n",
    "        grouped_routes = []\n",
    "\n",
    "        for i in range(1, len(best_result_fast) - 1, 2):\n",
    "            current_stop, current_time = best_result_fast[i - 1]\n",
    "            route_id, departure_time, arrival_time = best_result_fast[i]\n",
    "            next_stop, _ = best_result_fast[i + 1]\n",
    "\n",
    "            if route_id == last_route:\n",
    "                grouped_routes[-1][\"stops\"].append((next_stop, arrival_time))\n",
    "            else:\n",
    "                grouped_routes.append({\n",
    "                    \"route_id\": route_id,\n",
    "                    \"start_stop\": current_stop,\n",
    "                    \"departure_time\": departure_time,\n",
    "                    \"stops\": [(next_stop, arrival_time)]\n",
    "                })\n",
    "            last_route = route_id\n",
    "\n",
    "        for segment in grouped_routes:\n",
    "            start = segment[\"start_stop\"]\n",
    "            dep_time = minutes_to_time(segment[\"departure_time\"])\n",
    "            route = segment[\"route_id\"]\n",
    "            stops = \" → \".join([f\"{stop} (Ankunft: {minutes_to_time(arr)})\" for stop, arr in segment[\"stops\"]])\n",
    "            print(f\"  🚆 {start} (Abfahrt: {dep_time}) → {stops} mit Linie {route}\")\n",
    "\n",
    "        print(f\"\\n🎯 Endstation: {end_stop_name} (Ankunft: {arrival_time_fixed})\")\n",
    "        print(f\"🔹 Gesamt-Zuverlässigkeit der Route: {reliability_fast:.2f}\\n\")\n",
    "\n",
    "    \n",
    "    \n",
    "        \n",
    "        print(\"🔄 Backup-Routen:\")\n",
    "        if backup_routes:\n",
    "            print(\"\\n🔄 Backup-Routen:\")\n",
    "            for stop, path, reliability in backup_routes:\n",
    "                print(f\"  🔁 Backup von {stop}:\")\n",
    "                last_route = None\n",
    "                first_segment = True\n",
    "\n",
    "                for segment in path:\n",
    "                    start, dep_time, end, arr_time, route = segment\n",
    "\n",
    "                    if last_route == route:\n",
    "                        print(f\" → {end} (Ankunft: {arr_time})\", end=\"\")\n",
    "                    else:\n",
    "                        if not first_segment:\n",
    "                            print()\n",
    "                        print(f\"    🚆 {start} (Abfahrt: {dep_time}) → {end} (Ankunft: {arr_time}) mit Linie {route}\",\n",
    "                              end=\"\")\n",
    "                        first_segment = False\n",
    "\n",
    "                    last_route = route\n",
    "\n",
    "                print(f\"\\n    🔹 Zuverlässigkeit: {reliability:.2f}\\n\")\n",
    "        else:\n",
    "            print(\"  ❌ Keine Backup-Routen verfügbar.\")\n",
    "\n",
    "        print()\n",
    "    else:\n",
    "        print(f\"\\n⚠️ Keine zuverlässige Route von {start_stop_name} nach {end_stop_name} gefunden.\\n\")\n",
    "\n",
    "        '''"
   ],
   "id": "285f9d9eb8a52f34",
   "outputs": [
    {
     "data": {
      "text/plain": [
       "'\\n    # Ergebnis anzeigen\\n    if current_time_fast < float(\"inf\"):\\n        arrival_time_fixed = minutes_to_time(current_time_fast)\\n        print(f\"\\n📍 Optimierte zuverlässigste Route von {start_stop_name} nach {end_stop_name}:\")\\n\\n        last_route = None\\n        grouped_routes = []\\n\\n        for i in range(1, len(best_result_fast) - 1, 2):\\n            current_stop, current_time = best_result_fast[i - 1]\\n            route_id, departure_time, arrival_time = best_result_fast[i]\\n            next_stop, _ = best_result_fast[i + 1]\\n\\n            if route_id == last_route:\\n                grouped_routes[-1][\"stops\"].append((next_stop, arrival_time))\\n            else:\\n                grouped_routes.append({\\n                    \"route_id\": route_id,\\n                    \"start_stop\": current_stop,\\n                    \"departure_time\": departure_time,\\n                    \"stops\": [(next_stop, arrival_time)]\\n                })\\n            last_route = route_id\\n\\n        for segment in grouped_routes:\\n            start = segment[\"start_stop\"]\\n            dep_time = minutes_to_time(segment[\"departure_time\"])\\n            route = segment[\"route_id\"]\\n            stops = \" → \".join([f\"{stop} (Ankunft: {minutes_to_time(arr)})\" for stop, arr in segment[\"stops\"]])\\n            print(f\"  🚆 {start} (Abfahrt: {dep_time}) → {stops} mit Linie {route}\")\\n\\n        print(f\"\\n🎯 Endstation: {end_stop_name} (Ankunft: {arrival_time_fixed})\")\\n        print(f\"🔹 Gesamt-Zuverlässigkeit der Route: {reliability_fast:.2f}\\n\")\\n\\n    \\n    \\n        \\n        print(\"🔄 Backup-Routen:\")\\n        if backup_routes:\\n            print(\"\\n🔄 Backup-Routen:\")\\n            for stop, path, reliability in backup_routes:\\n                print(f\"  🔁 Backup von {stop}:\")\\n                last_route = None\\n                first_segment = True\\n\\n                for segment in path:\\n                    start, dep_time, end, arr_time, route = segment\\n\\n                    if last_route == route:\\n                        print(f\" → {end} (Ankunft: {arr_time})\", end=\"\")\\n                    else:\\n                        if not first_segment:\\n                            print()\\n                        print(f\"    🚆 {start} (Abfahrt: {dep_time}) → {end} (Ankunft: {arr_time}) mit Linie {route}\",\\n                              end=\"\")\\n                        first_segment = False\\n\\n                    last_route = route\\n\\n                print(f\"\\n    🔹 Zuverlässigkeit: {reliability:.2f}\\n\")\\n        else:\\n            print(\"  ❌ Keine Backup-Routen verfügbar.\")\\n\\n        print()\\n    else:\\n        print(f\"\\n⚠️ Keine zuverlässige Route von {start_stop_name} nach {end_stop_name} gefunden.\\n\")\\n\\n        '"
      ]
     },
     "execution_count": 212,
     "metadata": {},
     "output_type": "execute_result"
    }
   ],
   "execution_count": 212
  },
  {
   "metadata": {
    "ExecuteTime": {
     "end_time": "2025-01-30T09:46:02.248242Z",
     "start_time": "2025-01-30T09:45:52.074871Z"
    }
   },
   "cell_type": "code",
   "source": [
    "  #slow and correct\n",
    "print(\"creating graph\")\n",
    "graph = create_graph_with_schedule(stop_times, stops, trips, calendar, calendar_dates, start_time_obj, end_time_obj)\n",
    "#if start_stop_name not in graph or end_stop_name not in graph:\n",
    "#    print(\"🚨 Ungültige Start- oder Zielhaltestelle!\")\n",
    "        #sys.exit()"
   ],
   "id": "f0717de86c81f481",
   "outputs": [
    {
     "name": "stdout",
     "output_type": "stream",
     "text": [
      "creating graph\n",
      "1907\n",
      "Rows after time window and service filter: 20376\n"
     ]
    }
   ],
   "execution_count": 213
  },
  {
   "metadata": {
    "ExecuteTime": {
     "end_time": "2025-01-30T09:48:17.465682Z",
     "start_time": "2025-01-30T09:48:17.450527Z"
    }
   },
   "cell_type": "code",
   "source": [
    "\n",
    "\n",
    "def a_star_on_speed(graph, start_name, end_name, start_time_minutes, \n",
    "                                  exclude_routes=set(), MIN_TRANSFER_TIME=2, stops_df=None):\n",
    "    pq = [(start_time_minutes,start_time_minutes, start_name, [], 1.0, None)]  # (aktuelle Zeit, aktuelle Haltestelle, Pfad, Zuverlässigkeit, letzte Linie, Heuristik)\n",
    "    visited = set()\n",
    "    best_result = None  # Variable, um das beste Ergebnis zu speichern\n",
    "    count = 0\n",
    "    \n",
    "    while pq:\n",
    "        weight, current_time, current_stop, path, reliability, last_route = heapq.heappop(pq)\n",
    "\n",
    "        path_hash = tuple(path[-5:])# todo changr \n",
    "\n",
    "        if (current_stop, current_time,path_hash) in visited:\n",
    "            continue\n",
    "        visited.add((current_stop, current_time, path_hash))\n",
    "\n",
    "        path = path + [(current_stop, current_time)]\n",
    "        \n",
    "        # Überprüfe, ob das Ziel erreicht wurde\n",
    "        if current_stop == end_name:\n",
    "            print(\"possibility\")\n",
    "            count += 1\n",
    "            # Hier speichern wir das erste Ergebnis, wenn das Ziel erreicht wurde\n",
    "            if best_result is None or current_time < best_result[0]:\n",
    "                print(\"possibility is better then before\", best_result)\n",
    "                # Wenn das Ergebnis besser ist, wird es aktualisiert\n",
    "                best_result = (current_time, path, reliability) # Zähler zurücksetzen\n",
    "                \n",
    "        \n",
    "            # Überprüfung, ob maximale Anzahl an Iterationen ohne Verbesserung erreicht wurde\n",
    "        if count > 0:\n",
    "            print(\"max ieration for here\")\n",
    "            return best_result  # Rückgabe des aktuellen besten Ergebnisses\n",
    " \n",
    "        for neighbor, departure_time, arrival_time, route_id in graph[current_stop]:\n",
    "            \n",
    "            if departure_time >= current_time and route_id not in exclude_routes:\n",
    "                # Prüfe, ob es ein Umstieg ist (Linienwechsel)\n",
    "                is_transfer = last_route is not None and last_route != route_id\n",
    "                if is_transfer:\n",
    "                    transfer_time = departure_time - current_time\n",
    "                    #print(transfer_time)\n",
    "                    if transfer_time < MIN_TRANSFER_TIME:\n",
    "                        continue  # Zu wenig Zeit für Umstieg\n",
    "\n",
    "                if not is_transfer:\n",
    "                    transfer_reliability = 1.0\n",
    "                else:\n",
    "                    transfer_reliability = compute_transfer_probability_with_departure_delay(transfer_time)\n",
    "                    #print(transfer_reliability)\n",
    "\n",
    "                new_current_time = arrival_time\n",
    "                new_reliability = reliability * transfer_reliability\n",
    "                #print(new_reliability,reliability,transfer_reliability)\n",
    "                # Heuristik für A* (vereinfachte Schätzung der verbleibenden Zeit)\n",
    "                h = heuristic(neighbor, end_name, stops)\n",
    "\n",
    "                # Füge den nächsten Knoten zur Priority Queue hinzu\n",
    "                heapq.heappush(pq, (\n",
    "                    current_time+h, # Gesamtbewertung: aktuelle Zeit + Heuristik\n",
    "                    new_current_time,  \n",
    "                    neighbor,\n",
    "                    path + [(route_id, departure_time, arrival_time)],\n",
    "                    new_reliability,\n",
    "                    route_id\n",
    "                    \n",
    "                ))\n",
    "                \n",
    "                \n",
    "                \n",
    "    # Gibt das beste Ergebnis zurück, wenn es existiert, andernfalls eine Fehlermeldung\n",
    "    if best_result:\n",
    "        return best_result\n",
    "    else:\n",
    "        return float(\"inf\"), [], 0.0  # Keine Route gefunden\n",
    "\n",
    "\n"
   ],
   "id": "5c3dfb6d751b69ec",
   "outputs": [],
   "execution_count": 216
  },
  {
   "metadata": {
    "ExecuteTime": {
     "end_time": "2025-01-30T09:48:40.398483Z",
     "start_time": "2025-01-30T09:48:18.164190Z"
    }
   },
   "cell_type": "code",
   "source": [
    "\n",
    "\n",
    "    # Haupt-Dijkstra-Lauf\n",
    "    #print(\"A star\")\n",
    "    #current_time_fast, best_result_fast , reliability_fast = a_star(graph, start_stop_name, end_stop_name, start_time_minutes,  exclude_routes=set(), MIN_TRANSFER_TIME=3)\n",
    "\n",
    "current_time_fast, best_result_fast , reliability_fast = a_star_on_speed(graph, start_stop_name, end_stop_name, start_time_minutes,  exclude_routes=set(), MIN_TRANSFER_TIME=3,stops_df=None)\n",
    "\n",
    "\n"
   ],
   "id": "6301882f16b76b5d",
   "outputs": [
    {
     "ename": "KeyboardInterrupt",
     "evalue": "",
     "output_type": "error",
     "traceback": [
      "\u001B[0;31m---------------------------------------------------------------------------\u001B[0m",
      "\u001B[0;31mKeyboardInterrupt\u001B[0m                         Traceback (most recent call last)",
      "Cell \u001B[0;32mIn[217], line 5\u001B[0m\n\u001B[1;32m      1\u001B[0m \u001B[38;5;66;03m# Haupt-Dijkstra-Lauf\u001B[39;00m\n\u001B[1;32m      2\u001B[0m \u001B[38;5;66;03m#print(\"A star\")\u001B[39;00m\n\u001B[1;32m      3\u001B[0m \u001B[38;5;66;03m#current_time_fast, best_result_fast , reliability_fast = a_star(graph, start_stop_name, end_stop_name, start_time_minutes,  exclude_routes=set(), MIN_TRANSFER_TIME=3)\u001B[39;00m\n\u001B[0;32m----> 5\u001B[0m current_time_fast, best_result_fast , reliability_fast \u001B[38;5;241m=\u001B[39m \u001B[43ma_star_on_speed\u001B[49m\u001B[43m(\u001B[49m\u001B[43mgraph\u001B[49m\u001B[43m,\u001B[49m\u001B[43m \u001B[49m\u001B[43mstart_stop_name\u001B[49m\u001B[43m,\u001B[49m\u001B[43m \u001B[49m\u001B[43mend_stop_name\u001B[49m\u001B[43m,\u001B[49m\u001B[43m \u001B[49m\u001B[43mstart_time_minutes\u001B[49m\u001B[43m,\u001B[49m\u001B[43m  \u001B[49m\u001B[43mexclude_routes\u001B[49m\u001B[38;5;241;43m=\u001B[39;49m\u001B[38;5;28;43mset\u001B[39;49m\u001B[43m(\u001B[49m\u001B[43m)\u001B[49m\u001B[43m,\u001B[49m\u001B[43m \u001B[49m\u001B[43mMIN_TRANSFER_TIME\u001B[49m\u001B[38;5;241;43m=\u001B[39;49m\u001B[38;5;241;43m3\u001B[39;49m\u001B[43m,\u001B[49m\u001B[43mstops_df\u001B[49m\u001B[38;5;241;43m=\u001B[39;49m\u001B[38;5;28;43;01mNone\u001B[39;49;00m\u001B[43m)\u001B[49m\n",
      "Cell \u001B[0;32mIn[216], line 56\u001B[0m, in \u001B[0;36ma_star_on_speed\u001B[0;34m(graph, start_name, end_name, start_time_minutes, exclude_routes, MIN_TRANSFER_TIME, stops_df)\u001B[0m\n\u001B[1;32m     53\u001B[0m new_reliability \u001B[38;5;241m=\u001B[39m reliability \u001B[38;5;241m*\u001B[39m transfer_reliability\n\u001B[1;32m     54\u001B[0m \u001B[38;5;66;03m#print(new_reliability,reliability,transfer_reliability)\u001B[39;00m\n\u001B[1;32m     55\u001B[0m \u001B[38;5;66;03m# Heuristik für A* (vereinfachte Schätzung der verbleibenden Zeit)\u001B[39;00m\n\u001B[0;32m---> 56\u001B[0m h \u001B[38;5;241m=\u001B[39m \u001B[43mheuristic\u001B[49m\u001B[43m(\u001B[49m\u001B[43mneighbor\u001B[49m\u001B[43m,\u001B[49m\u001B[43m \u001B[49m\u001B[43mend_name\u001B[49m\u001B[43m,\u001B[49m\u001B[43m \u001B[49m\u001B[43mstops\u001B[49m\u001B[43m)\u001B[49m\n\u001B[1;32m     58\u001B[0m \u001B[38;5;66;03m# Füge den nächsten Knoten zur Priority Queue hinzu\u001B[39;00m\n\u001B[1;32m     59\u001B[0m heapq\u001B[38;5;241m.\u001B[39mheappush(pq, (\n\u001B[1;32m     60\u001B[0m     current_time\u001B[38;5;241m+\u001B[39mh, \u001B[38;5;66;03m# Gesamtbewertung: aktuelle Zeit + Heuristik\u001B[39;00m\n\u001B[1;32m     61\u001B[0m     new_current_time,  \n\u001B[0;32m   (...)\u001B[0m\n\u001B[1;32m     66\u001B[0m     \n\u001B[1;32m     67\u001B[0m ))\n",
      "Cell \u001B[0;32mIn[35], line 17\u001B[0m, in \u001B[0;36mheuristic\u001B[0;34m(current_stop, end_name, stops_df)\u001B[0m\n\u001B[1;32m     16\u001B[0m \u001B[38;5;28;01mdef\u001B[39;00m \u001B[38;5;21mheuristic\u001B[39m(current_stop, end_name, stops_df):\n\u001B[0;32m---> 17\u001B[0m     current_stop_row \u001B[38;5;241m=\u001B[39m stops_df[\u001B[43mstops_df\u001B[49m\u001B[43m[\u001B[49m\u001B[38;5;124;43m'\u001B[39;49m\u001B[38;5;124;43mstop_name\u001B[39;49m\u001B[38;5;124;43m'\u001B[39;49m\u001B[43m]\u001B[49m\u001B[43m \u001B[49m\u001B[38;5;241;43m==\u001B[39;49m\u001B[43m \u001B[49m\u001B[43mcurrent_stop\u001B[49m]\u001B[38;5;241m.\u001B[39miloc[\u001B[38;5;241m0\u001B[39m]\n\u001B[1;32m     18\u001B[0m     end_stop_row \u001B[38;5;241m=\u001B[39m stops_df[stops_df[\u001B[38;5;124m'\u001B[39m\u001B[38;5;124mstop_name\u001B[39m\u001B[38;5;124m'\u001B[39m] \u001B[38;5;241m==\u001B[39m end_name]\u001B[38;5;241m.\u001B[39miloc[\u001B[38;5;241m0\u001B[39m]\n\u001B[1;32m     20\u001B[0m     current_lat \u001B[38;5;241m=\u001B[39m current_stop_row[\u001B[38;5;124m'\u001B[39m\u001B[38;5;124mstop_lat\u001B[39m\u001B[38;5;124m'\u001B[39m]\n",
      "File \u001B[0;32m~/PycharmProjects/TRAPPIST/A&D_job_shop/pythonProject/lib/python3.11/site-packages/pandas/core/ops/common.py:76\u001B[0m, in \u001B[0;36m_unpack_zerodim_and_defer.<locals>.new_method\u001B[0;34m(self, other)\u001B[0m\n\u001B[1;32m     72\u001B[0m             \u001B[38;5;28;01mreturn\u001B[39;00m \u001B[38;5;28mNotImplemented\u001B[39m\n\u001B[1;32m     74\u001B[0m other \u001B[38;5;241m=\u001B[39m item_from_zerodim(other)\n\u001B[0;32m---> 76\u001B[0m \u001B[38;5;28;01mreturn\u001B[39;00m \u001B[43mmethod\u001B[49m\u001B[43m(\u001B[49m\u001B[38;5;28;43mself\u001B[39;49m\u001B[43m,\u001B[49m\u001B[43m \u001B[49m\u001B[43mother\u001B[49m\u001B[43m)\u001B[49m\n",
      "File \u001B[0;32m~/PycharmProjects/TRAPPIST/A&D_job_shop/pythonProject/lib/python3.11/site-packages/pandas/core/arraylike.py:40\u001B[0m, in \u001B[0;36mOpsMixin.__eq__\u001B[0;34m(self, other)\u001B[0m\n\u001B[1;32m     38\u001B[0m \u001B[38;5;129m@unpack_zerodim_and_defer\u001B[39m(\u001B[38;5;124m\"\u001B[39m\u001B[38;5;124m__eq__\u001B[39m\u001B[38;5;124m\"\u001B[39m)\n\u001B[1;32m     39\u001B[0m \u001B[38;5;28;01mdef\u001B[39;00m \u001B[38;5;21m__eq__\u001B[39m(\u001B[38;5;28mself\u001B[39m, other):\n\u001B[0;32m---> 40\u001B[0m     \u001B[38;5;28;01mreturn\u001B[39;00m \u001B[38;5;28;43mself\u001B[39;49m\u001B[38;5;241;43m.\u001B[39;49m\u001B[43m_cmp_method\u001B[49m\u001B[43m(\u001B[49m\u001B[43mother\u001B[49m\u001B[43m,\u001B[49m\u001B[43m \u001B[49m\u001B[43moperator\u001B[49m\u001B[38;5;241;43m.\u001B[39;49m\u001B[43meq\u001B[49m\u001B[43m)\u001B[49m\n",
      "File \u001B[0;32m~/PycharmProjects/TRAPPIST/A&D_job_shop/pythonProject/lib/python3.11/site-packages/pandas/core/series.py:6119\u001B[0m, in \u001B[0;36mSeries._cmp_method\u001B[0;34m(self, other, op)\u001B[0m\n\u001B[1;32m   6116\u001B[0m lvalues \u001B[38;5;241m=\u001B[39m \u001B[38;5;28mself\u001B[39m\u001B[38;5;241m.\u001B[39m_values\n\u001B[1;32m   6117\u001B[0m rvalues \u001B[38;5;241m=\u001B[39m extract_array(other, extract_numpy\u001B[38;5;241m=\u001B[39m\u001B[38;5;28;01mTrue\u001B[39;00m, extract_range\u001B[38;5;241m=\u001B[39m\u001B[38;5;28;01mTrue\u001B[39;00m)\n\u001B[0;32m-> 6119\u001B[0m res_values \u001B[38;5;241m=\u001B[39m \u001B[43mops\u001B[49m\u001B[38;5;241;43m.\u001B[39;49m\u001B[43mcomparison_op\u001B[49m\u001B[43m(\u001B[49m\u001B[43mlvalues\u001B[49m\u001B[43m,\u001B[49m\u001B[43m \u001B[49m\u001B[43mrvalues\u001B[49m\u001B[43m,\u001B[49m\u001B[43m \u001B[49m\u001B[43mop\u001B[49m\u001B[43m)\u001B[49m\n\u001B[1;32m   6121\u001B[0m \u001B[38;5;28;01mreturn\u001B[39;00m \u001B[38;5;28mself\u001B[39m\u001B[38;5;241m.\u001B[39m_construct_result(res_values, name\u001B[38;5;241m=\u001B[39mres_name)\n",
      "File \u001B[0;32m~/PycharmProjects/TRAPPIST/A&D_job_shop/pythonProject/lib/python3.11/site-packages/pandas/core/ops/array_ops.py:344\u001B[0m, in \u001B[0;36mcomparison_op\u001B[0;34m(left, right, op)\u001B[0m\n\u001B[1;32m    341\u001B[0m     \u001B[38;5;28;01mreturn\u001B[39;00m invalid_comparison(lvalues, rvalues, op)\n\u001B[1;32m    343\u001B[0m \u001B[38;5;28;01melif\u001B[39;00m lvalues\u001B[38;5;241m.\u001B[39mdtype \u001B[38;5;241m==\u001B[39m \u001B[38;5;28mobject\u001B[39m \u001B[38;5;129;01mor\u001B[39;00m \u001B[38;5;28misinstance\u001B[39m(rvalues, \u001B[38;5;28mstr\u001B[39m):\n\u001B[0;32m--> 344\u001B[0m     res_values \u001B[38;5;241m=\u001B[39m \u001B[43mcomp_method_OBJECT_ARRAY\u001B[49m\u001B[43m(\u001B[49m\u001B[43mop\u001B[49m\u001B[43m,\u001B[49m\u001B[43m \u001B[49m\u001B[43mlvalues\u001B[49m\u001B[43m,\u001B[49m\u001B[43m \u001B[49m\u001B[43mrvalues\u001B[49m\u001B[43m)\u001B[49m\n\u001B[1;32m    346\u001B[0m \u001B[38;5;28;01melse\u001B[39;00m:\n\u001B[1;32m    347\u001B[0m     res_values \u001B[38;5;241m=\u001B[39m _na_arithmetic_op(lvalues, rvalues, op, is_cmp\u001B[38;5;241m=\u001B[39m\u001B[38;5;28;01mTrue\u001B[39;00m)\n",
      "File \u001B[0;32m~/PycharmProjects/TRAPPIST/A&D_job_shop/pythonProject/lib/python3.11/site-packages/pandas/core/ops/array_ops.py:129\u001B[0m, in \u001B[0;36mcomp_method_OBJECT_ARRAY\u001B[0;34m(op, x, y)\u001B[0m\n\u001B[1;32m    127\u001B[0m     result \u001B[38;5;241m=\u001B[39m libops\u001B[38;5;241m.\u001B[39mvec_compare(x\u001B[38;5;241m.\u001B[39mravel(), y\u001B[38;5;241m.\u001B[39mravel(), op)\n\u001B[1;32m    128\u001B[0m \u001B[38;5;28;01melse\u001B[39;00m:\n\u001B[0;32m--> 129\u001B[0m     result \u001B[38;5;241m=\u001B[39m \u001B[43mlibops\u001B[49m\u001B[38;5;241;43m.\u001B[39;49m\u001B[43mscalar_compare\u001B[49m\u001B[43m(\u001B[49m\u001B[43mx\u001B[49m\u001B[38;5;241;43m.\u001B[39;49m\u001B[43mravel\u001B[49m\u001B[43m(\u001B[49m\u001B[43m)\u001B[49m\u001B[43m,\u001B[49m\u001B[43m \u001B[49m\u001B[43my\u001B[49m\u001B[43m,\u001B[49m\u001B[43m \u001B[49m\u001B[43mop\u001B[49m\u001B[43m)\u001B[49m\n\u001B[1;32m    130\u001B[0m \u001B[38;5;28;01mreturn\u001B[39;00m result\u001B[38;5;241m.\u001B[39mreshape(x\u001B[38;5;241m.\u001B[39mshape)\n",
      "\u001B[0;31mKeyboardInterrupt\u001B[0m: "
     ]
    }
   ],
   "execution_count": 217
  },
  {
   "metadata": {
    "ExecuteTime": {
     "end_time": "2025-01-30T09:48:01.241900Z",
     "start_time": "2025-01-30T09:48:01.241633Z"
    }
   },
   "cell_type": "code",
   "source": "minutes_to_time(current_time_fast)",
   "id": "adec820066cd5ee5",
   "outputs": [],
   "execution_count": null
  },
  {
   "metadata": {},
   "cell_type": "code",
   "source": "reliability_fast",
   "id": "c49b41105f4c1416",
   "outputs": [],
   "execution_count": null
  },
  {
   "metadata": {},
   "cell_type": "code",
   "source": "best_result_fast",
   "id": "35acc223e3de579b",
   "outputs": [],
   "execution_count": null
  },
  {
   "metadata": {},
   "cell_type": "code",
   "source": [
    "# Backup-Routen berechnen\n",
    "print(\"backups\")\n",
    "backup_routes = a_star_backups(graph,best_result_fast)"
   ],
   "id": "719510ae51c0d38e",
   "outputs": [],
   "execution_count": null
  },
  {
   "metadata": {
    "ExecuteTime": {
     "end_time": "2025-01-30T08:48:34.767353Z",
     "start_time": "2025-01-30T08:48:34.761107Z"
    }
   },
   "cell_type": "code",
   "source": "backup_routes",
   "id": "2cc14af1f098d22b",
   "outputs": [
    {
     "data": {
      "text/plain": [
       "[[inf, [], np.float64(0.0)]]"
      ]
     },
     "execution_count": 181,
     "metadata": {},
     "output_type": "execute_result"
    }
   ],
   "execution_count": 181
  },
  {
   "metadata": {
    "ExecuteTime": {
     "end_time": "2025-01-30T08:39:18.054995Z",
     "start_time": "2025-01-30T08:39:18.048534Z"
    }
   },
   "cell_type": "code",
   "source": "reliability_fast",
   "id": "c8ad4f0df098639c",
   "outputs": [
    {
     "data": {
      "text/plain": [
       "np.float64(0.8641117745995668)"
      ]
     },
     "execution_count": 171,
     "metadata": {},
     "output_type": "execute_result"
    }
   ],
   "execution_count": 171
  },
  {
   "metadata": {
    "ExecuteTime": {
     "end_time": "2025-01-30T08:39:18.692052Z",
     "start_time": "2025-01-30T08:39:18.688939Z"
    }
   },
   "cell_type": "code",
   "source": "total_reliability =compute_total_reliability(reliability_fast, backup_routes)",
   "id": "e9c55b91b8aa44c4",
   "outputs": [],
   "execution_count": 172
  },
  {
   "metadata": {
    "ExecuteTime": {
     "end_time": "2025-01-30T08:39:19.086094Z",
     "start_time": "2025-01-30T08:39:19.081883Z"
    }
   },
   "cell_type": "code",
   "source": "total_reliability",
   "id": "a25dcbcd5b1c5201",
   "outputs": [
    {
     "data": {
      "text/plain": [
       "np.float64(0.9743599293314814)"
      ]
     },
     "execution_count": 173,
     "metadata": {},
     "output_type": "execute_result"
    }
   ],
   "execution_count": 173
  },
  {
   "metadata": {
    "ExecuteTime": {
     "end_time": "2025-01-27T19:59:19.647651Z",
     "start_time": "2025-01-27T19:59:19.643018Z"
    }
   },
   "cell_type": "code",
   "source": "#current_time_fast, best_result_fast , reliability_fast = a_star_on_speed(graph, start_stop_name, end_stop_name, start_time_minutes,  exclude_routes=set(), MIN_TRANSFER_TIME=3)",
   "id": "a861f4b615aad01",
   "outputs": [],
   "execution_count": 65
  },
  {
   "metadata": {},
   "cell_type": "code",
   "source": "#current_time_slow, best_result_slow , reliability_slow = a_star(graph, start_stop_name, end_stop_name, start_time_minutes,  exclude_routes=set(), MIN_TRANSFER_TIME=3)",
   "id": "5a4534dacc921624",
   "outputs": [],
   "execution_count": null
  },
  {
   "metadata": {
    "ExecuteTime": {
     "end_time": "2025-01-28T15:31:55.838994Z",
     "start_time": "2025-01-28T15:31:55.829922Z"
    }
   },
   "cell_type": "code",
   "source": [
    "transfer_stop='Wiener Neustadt Hauptbahnhof'\n",
    "end_stop = 'Flughafen Wien Bahnhof'\n",
    "trip_id='10-A1-j24-1'\n",
    "\n"
   ],
   "id": "9d06b8dc04f80e48",
   "outputs": [],
   "execution_count": 227
  },
  {
   "metadata": {
    "ExecuteTime": {
     "end_time": "2025-01-28T19:00:34.792418Z",
     "start_time": "2025-01-28T19:00:07.761828Z"
    }
   },
   "cell_type": "code",
   "source": [
    "a_star_with_reliability_fixed(graph, 'Wiener Neustadt Hauptbahnhof', 'Flughafen Wien Bahnhof', 928, \n",
    "                                  exclude_routes=set(), MIN_TRANSFER_TIME=4, stops_df=None)"
   ],
   "id": "80f3f6d02965210c",
   "outputs": [
    {
     "name": "stdout",
     "output_type": "stream",
     "text": [
      "possibility\n",
      "possibility is better then before None\n",
      "possibility\n",
      "possibility\n",
      "possibility\n",
      "possibility\n",
      "possibility is better then before (984.0, [('Wiener Neustadt Hauptbahnhof', 928), ('10-A12-j24-1', 930.0, 955.0), ('Wien Meidling', 955.0), ('10-A12-j24-1', 957.0, 962.0), ('Wien Hauptbahnhof', 962.0), ('10-A3-j24-1', 969.0, 984.0), ('Flughafen Wien Bahnhof', 984.0)], np.float64(0.6767601071186498))\n",
      "possibility\n",
      "possibility is better then before (987.0, [('Wiener Neustadt Hauptbahnhof', 928), ('10-A12-j24-1', 930.0, 955.0), ('Wien Meidling', 955.0), ('10-A12-j24-1', 957.0, 962.0), ('Wien Hauptbahnhof', 962.0), ('10-A1-j24-1', 972.0, 987.0), ('Flughafen Wien Bahnhof', 987.0)], np.float64(0.8454126954952396))\n",
      "max ieration for here\n"
     ]
    },
    {
     "data": {
      "text/plain": [
       "(987.0,\n",
       " [('Wiener Neustadt Hauptbahnhof', 928),\n",
       "  ('10-A12-j24-1', 930.0, 955.0),\n",
       "  ('Wien Meidling', 955.0),\n",
       "  ('10-A12-j24-1', 957.0, 962.0),\n",
       "  ('Wien Hauptbahnhof', 962.0),\n",
       "  ('10-A12-j24-1', 972.0, 987.0),\n",
       "  ('Flughafen Wien Bahnhof', 987.0)],\n",
       " 1.0)"
      ]
     },
     "execution_count": 425,
     "metadata": {},
     "output_type": "execute_result"
    }
   ],
   "execution_count": 425
  },
  {
   "metadata": {
    "ExecuteTime": {
     "end_time": "2025-01-28T13:57:37.730070Z",
     "start_time": "2025-01-28T13:57:37.721837Z"
    }
   },
   "cell_type": "code",
   "source": [
    "end_time_obj\n",
    "\n"
   ],
   "id": "9b171166cca74488",
   "outputs": [
    {
     "data": {
      "text/plain": [
       "datetime.datetime(2024, 12, 12, 16, 30, 10)"
      ]
     },
     "execution_count": 162,
     "metadata": {},
     "output_type": "execute_result"
    }
   ],
   "execution_count": 162
  },
  {
   "metadata": {
    "ExecuteTime": {
     "end_time": "2025-01-30T09:04:35.623449Z",
     "start_time": "2025-01-30T09:04:35.613555Z"
    }
   },
   "cell_type": "code",
   "source": [
    "\n",
    "def generate_instructions(output):\n",
    "    \"\"\"Generiert Anweisungen basierend auf der Liste von Stops und Verbindungen.\"\"\"\n",
    "    instructions = []\n",
    "    start_time = None\n",
    "    current_line = None\n",
    "\n",
    "    for i, entry in enumerate(output):\n",
    "        if len(entry) == 2:  # Start oder Zwischenstopp ohne Verbindung\n",
    "            stop_name, dep_time = entry\n",
    "            if start_time is None:\n",
    "                start_time = dep_time\n",
    "                instructions.append(f\"Starte um {minutes_to_time(start_time)} in {stop_name}.\")\n",
    "            else:\n",
    "                instructions.append(f\"Fahre weiter bis {stop_name}.\")\n",
    "        elif len(entry) == 4:  # Verbindung mit Route\n",
    "            stop_name, dep_time, arr_time, route = entry\n",
    "            if current_line != route:\n",
    "                if current_line is not None:\n",
    "                    instructions[-1] += f\" Steige um in Linie {route} um {minutes_to_time(dep_time)}.\"\n",
    "                else:\n",
    "                    instructions.append(f\"Fahre mit Linie {route} um {minutes_to_time(dep_time)}.\")\n",
    "                current_line = route\n",
    "            instructions.append(f\"Halte in {stop_name} um {minutes_to_time(arr_time)}.\")\n",
    "\n",
    "    return \"\\n\".join(instructions)"
   ],
   "id": "d7673c08364834f3",
   "outputs": [],
   "execution_count": 202
  },
  {
   "metadata": {
    "ExecuteTime": {
     "end_time": "2025-01-28T18:09:58.412596Z",
     "start_time": "2025-01-28T18:09:58.355792Z"
    }
   },
   "cell_type": "code",
   "source": "get_available_service_ids(start_time_obj,calendar,calendar_dates)",
   "id": "2516a30bc187d76a",
   "outputs": [
    {
     "ename": "TypeError",
     "evalue": "strptime() argument 1 must be str, not datetime.datetime",
     "output_type": "error",
     "traceback": [
      "\u001B[0;31m---------------------------------------------------------------------------\u001B[0m",
      "\u001B[0;31mTypeError\u001B[0m                                 Traceback (most recent call last)",
      "Cell \u001B[0;32mIn[368], line 1\u001B[0m\n\u001B[0;32m----> 1\u001B[0m \u001B[43mget_available_service_ids\u001B[49m\u001B[43m(\u001B[49m\u001B[43mstart_time_obj\u001B[49m\u001B[43m,\u001B[49m\u001B[43mcalendar\u001B[49m\u001B[43m,\u001B[49m\u001B[43mcalendar_dates\u001B[49m\u001B[43m)\u001B[49m\n",
      "Cell \u001B[0;32mIn[364], line 19\u001B[0m, in \u001B[0;36mget_available_service_ids\u001B[0;34m(start_date, calendar, calendar_dates)\u001B[0m\n\u001B[1;32m     15\u001B[0m \u001B[38;5;250m\u001B[39m\u001B[38;5;124;03m\"\"\"\u001B[39;00m\n\u001B[1;32m     16\u001B[0m \u001B[38;5;124;03mGibt eine Liste der verfügbaren Service-IDs für das angegebene Datum zurück.\u001B[39;00m\n\u001B[1;32m     17\u001B[0m \u001B[38;5;124;03m\"\"\"\u001B[39;00m\n\u001B[1;32m     18\u001B[0m \u001B[38;5;66;03m# Konvertiere start_date zu einem Datum im Format YYYYMMDD\u001B[39;00m\n\u001B[0;32m---> 19\u001B[0m start_date_datetime \u001B[38;5;241m=\u001B[39m \u001B[43mdatetime\u001B[49m\u001B[38;5;241;43m.\u001B[39;49m\u001B[43mstrptime\u001B[49m\u001B[43m(\u001B[49m\u001B[43mstart_date\u001B[49m\u001B[43m,\u001B[49m\u001B[43m \u001B[49m\u001B[38;5;124;43m\"\u001B[39;49m\u001B[38;5;124;43m%\u001B[39;49m\u001B[38;5;124;43mY-\u001B[39;49m\u001B[38;5;124;43m%\u001B[39;49m\u001B[38;5;124;43mm-\u001B[39;49m\u001B[38;5;132;43;01m%d\u001B[39;49;00m\u001B[38;5;124;43m\"\u001B[39;49m\u001B[43m)\u001B[49m\n\u001B[1;32m     20\u001B[0m start_date_str \u001B[38;5;241m=\u001B[39m start_date_datetime\u001B[38;5;241m.\u001B[39mstrftime(\u001B[38;5;124m\"\u001B[39m\u001B[38;5;124m%\u001B[39m\u001B[38;5;124mY\u001B[39m\u001B[38;5;124m%\u001B[39m\u001B[38;5;124mm\u001B[39m\u001B[38;5;132;01m%d\u001B[39;00m\u001B[38;5;124m\"\u001B[39m)\n\u001B[1;32m     21\u001B[0m weekday \u001B[38;5;241m=\u001B[39m [\u001B[38;5;124m\"\u001B[39m\u001B[38;5;124mmonday\u001B[39m\u001B[38;5;124m\"\u001B[39m, \u001B[38;5;124m\"\u001B[39m\u001B[38;5;124mtuesday\u001B[39m\u001B[38;5;124m\"\u001B[39m, \u001B[38;5;124m\"\u001B[39m\u001B[38;5;124mwednesday\u001B[39m\u001B[38;5;124m\"\u001B[39m, \u001B[38;5;124m\"\u001B[39m\u001B[38;5;124mthursday\u001B[39m\u001B[38;5;124m\"\u001B[39m, \u001B[38;5;124m\"\u001B[39m\u001B[38;5;124mfriday\u001B[39m\u001B[38;5;124m\"\u001B[39m, \u001B[38;5;124m\"\u001B[39m\u001B[38;5;124msaturday\u001B[39m\u001B[38;5;124m\"\u001B[39m, \u001B[38;5;124m\"\u001B[39m\u001B[38;5;124msunday\u001B[39m\u001B[38;5;124m\"\u001B[39m][start_date_datetime\u001B[38;5;241m.\u001B[39mweekday()]\n",
      "\u001B[0;31mTypeError\u001B[0m: strptime() argument 1 must be str, not datetime.datetime"
     ]
    }
   ],
   "execution_count": 368
  },
  {
   "metadata": {
    "ExecuteTime": {
     "end_time": "2025-01-28T19:09:11.046897Z",
     "start_time": "2025-01-28T19:09:10.835490Z"
    }
   },
   "cell_type": "code",
   "source": "available_services = get_available_service_ids(start_time_obj.strftime(\"%Y-%m-%d\"), calendar, calendar_dates)",
   "id": "b5806bae7419be1b",
   "outputs": [],
   "execution_count": 436
  },
  {
   "metadata": {
    "ExecuteTime": {
     "end_time": "2025-01-28T19:17:39.689988Z",
     "start_time": "2025-01-28T19:17:39.685602Z"
    }
   },
   "cell_type": "code",
   "source": [
    "for i in range(len(available_services)):\n",
    "    if available_services[i] == \"TA+n4\":\n",
    "        print(available_services[i],\"available\")"
   ],
   "id": "fdfcfd164dd6398a",
   "outputs": [
    {
     "name": "stdout",
     "output_type": "stream",
     "text": [
      "TA+n4 available\n"
     ]
    }
   ],
   "execution_count": 444
  },
  {
   "metadata": {
    "ExecuteTime": {
     "end_time": "2025-01-30T09:44:49.627831Z",
     "start_time": "2025-01-30T09:44:49.606312Z"
    }
   },
   "cell_type": "code",
   "source": [
    "import folium\n",
    "\n",
    "def plot_route_on_map(route, stops_df):\n",
    "    \"\"\"\n",
    "    Erstellt eine interaktive Karte mit einer visualisierten ÖPNV-Route.\n",
    "    \n",
    "    :param route: Liste der Haltestellen und Routen [(stop_name, time), (route_id, dep_time, arr_time), ...]\n",
    "    :param stops_df: DataFrame mit Spalten [\"stop_name\", \"stop_lat\", \"stop_lon\"]\n",
    "    :return: Eine interaktive Folium-Karte\n",
    "    \"\"\"\n",
    "    \n",
    "    # Startpunkt finden (erste Haltestelle in der Route)\n",
    "    first_stop = next((stop for stop in route if isinstance(stop, tuple) and len(stop) == 2), None)\n",
    "    \n",
    "    if not first_stop:\n",
    "        print(\"Keine gültigen Haltestellen gefunden.\")\n",
    "        return None\n",
    "    \n",
    "    first_stop_name = first_stop[0]\n",
    "    \n",
    "    # Koordinaten des Startpunkts holen\n",
    "    start_coords = stops_df.loc[stops_df[\"stop_name\"] == first_stop_name, [\"stop_lat\", \"stop_lon\"]].values\n",
    "    if len(start_coords) == 0:\n",
    "        print(\"Startpunkt nicht gefunden.\")\n",
    "        return None\n",
    "    \n",
    "    start_lat, start_lon = start_coords[0]\n",
    "    \n",
    "    # Karte erstellen\n",
    "    route_map = folium.Map(location=[start_lat, start_lon], zoom_start=10)\n",
    "    \n",
    "    # Haltestellen speichern\n",
    "    route_coords = []\n",
    "    \n",
    "    for entry in route:\n",
    "        if isinstance(entry, tuple) and len(entry) == 2:  # Haltestellen\n",
    "            stop_name = entry[0]\n",
    "            stop_coords = stops_df.loc[stops_df[\"stop_name\"] == stop_name, [\"stop_lat\", \"stop_lon\"]].values\n",
    "            if len(stop_coords) > 0:\n",
    "                lat, lon = stop_coords[0]\n",
    "                route_coords.append((lat, lon))\n",
    "                folium.Marker(\n",
    "                    location=[lat, lon], \n",
    "                    popup=f\"{stop_name} ({entry[1]}) min\",\n",
    "                    icon=folium.Icon(color=\"blue\", icon=\"info-sign\")\n",
    "                ).add_to(route_map)\n",
    "\n",
    "    # Linie auf Karte zeichnen\n",
    "    folium.PolyLine(route_coords, color=\"blue\", weight=5, opacity=0.7).add_to(route_map)\n",
    "    \n",
    "    return route_map\n",
    "\n",
    "# Beispielaufruf:\n",
    "# stops_df muss ein DataFrame sein, das Koordinaten enthält\n",
    "# route_map = plot_route_on_map(route_data, stops_df)\n",
    "# route_map.save(\"route_map.html\")  # Falls du es als HTML speichern willst\n"
   ],
   "id": "c0a0f4830523a239",
   "outputs": [],
   "execution_count": 209
  },
  {
   "metadata": {
    "ExecuteTime": {
     "end_time": "2025-01-30T09:44:50.499568Z",
     "start_time": "2025-01-30T09:44:50.307630Z"
    }
   },
   "cell_type": "code",
   "source": "plot_route_on_map(best_result_fast,stops)",
   "id": "e45a6c7ede2e3790",
   "outputs": [
    {
     "data": {
      "text/plain": [
       "<folium.folium.Map at 0x1472650d0>"
      ],
      "text/html": [
       "<div style=\"width:100%;\"><div style=\"position:relative;width:100%;height:0;padding-bottom:60%;\"><span style=\"color:#565656\">Make this Notebook Trusted to load map: File -> Trust Notebook</span><iframe srcdoc=\"&lt;!DOCTYPE html&gt;\n",
       "&lt;html&gt;\n",
       "&lt;head&gt;\n",
       "    \n",
       "    &lt;meta http-equiv=&quot;content-type&quot; content=&quot;text/html; charset=UTF-8&quot; /&gt;\n",
       "    \n",
       "        &lt;script&gt;\n",
       "            L_NO_TOUCH = false;\n",
       "            L_DISABLE_3D = false;\n",
       "        &lt;/script&gt;\n",
       "    \n",
       "    &lt;style&gt;html, body {width: 100%;height: 100%;margin: 0;padding: 0;}&lt;/style&gt;\n",
       "    &lt;style&gt;#map {position:absolute;top:0;bottom:0;right:0;left:0;}&lt;/style&gt;\n",
       "    &lt;script src=&quot;https://cdn.jsdelivr.net/npm/leaflet@1.9.3/dist/leaflet.js&quot;&gt;&lt;/script&gt;\n",
       "    &lt;script src=&quot;https://code.jquery.com/jquery-3.7.1.min.js&quot;&gt;&lt;/script&gt;\n",
       "    &lt;script src=&quot;https://cdn.jsdelivr.net/npm/bootstrap@5.2.2/dist/js/bootstrap.bundle.min.js&quot;&gt;&lt;/script&gt;\n",
       "    &lt;script src=&quot;https://cdnjs.cloudflare.com/ajax/libs/Leaflet.awesome-markers/2.0.2/leaflet.awesome-markers.js&quot;&gt;&lt;/script&gt;\n",
       "    &lt;link rel=&quot;stylesheet&quot; href=&quot;https://cdn.jsdelivr.net/npm/leaflet@1.9.3/dist/leaflet.css&quot;/&gt;\n",
       "    &lt;link rel=&quot;stylesheet&quot; href=&quot;https://cdn.jsdelivr.net/npm/bootstrap@5.2.2/dist/css/bootstrap.min.css&quot;/&gt;\n",
       "    &lt;link rel=&quot;stylesheet&quot; href=&quot;https://netdna.bootstrapcdn.com/bootstrap/3.0.0/css/bootstrap-glyphicons.css&quot;/&gt;\n",
       "    &lt;link rel=&quot;stylesheet&quot; href=&quot;https://cdn.jsdelivr.net/npm/@fortawesome/fontawesome-free@6.2.0/css/all.min.css&quot;/&gt;\n",
       "    &lt;link rel=&quot;stylesheet&quot; href=&quot;https://cdnjs.cloudflare.com/ajax/libs/Leaflet.awesome-markers/2.0.2/leaflet.awesome-markers.css&quot;/&gt;\n",
       "    &lt;link rel=&quot;stylesheet&quot; href=&quot;https://cdn.jsdelivr.net/gh/python-visualization/folium/folium/templates/leaflet.awesome.rotate.min.css&quot;/&gt;\n",
       "    \n",
       "            &lt;meta name=&quot;viewport&quot; content=&quot;width=device-width,\n",
       "                initial-scale=1.0, maximum-scale=1.0, user-scalable=no&quot; /&gt;\n",
       "            &lt;style&gt;\n",
       "                #map_11a24cf482715969bafffd47e0e07d7a {\n",
       "                    position: relative;\n",
       "                    width: 100.0%;\n",
       "                    height: 100.0%;\n",
       "                    left: 0.0%;\n",
       "                    top: 0.0%;\n",
       "                }\n",
       "                .leaflet-container { font-size: 1rem; }\n",
       "            &lt;/style&gt;\n",
       "        \n",
       "&lt;/head&gt;\n",
       "&lt;body&gt;\n",
       "    \n",
       "    \n",
       "            &lt;div class=&quot;folium-map&quot; id=&quot;map_11a24cf482715969bafffd47e0e07d7a&quot; &gt;&lt;/div&gt;\n",
       "        \n",
       "&lt;/body&gt;\n",
       "&lt;script&gt;\n",
       "    \n",
       "    \n",
       "            var map_11a24cf482715969bafffd47e0e07d7a = L.map(\n",
       "                &quot;map_11a24cf482715969bafffd47e0e07d7a&quot;,\n",
       "                {\n",
       "                    center: [48.72373885, 16.40262624],\n",
       "                    crs: L.CRS.EPSG3857,\n",
       "                    ...{\n",
       "  &quot;zoom&quot;: 10,\n",
       "  &quot;zoomControl&quot;: true,\n",
       "  &quot;preferCanvas&quot;: false,\n",
       "}\n",
       "\n",
       "                }\n",
       "            );\n",
       "\n",
       "            \n",
       "\n",
       "        \n",
       "    \n",
       "            var tile_layer_9ca480c915038ba110dd54d3d187bf0b = L.tileLayer(\n",
       "                &quot;https://tile.openstreetmap.org/{z}/{x}/{y}.png&quot;,\n",
       "                {\n",
       "  &quot;minZoom&quot;: 0,\n",
       "  &quot;maxZoom&quot;: 19,\n",
       "  &quot;maxNativeZoom&quot;: 19,\n",
       "  &quot;noWrap&quot;: false,\n",
       "  &quot;attribution&quot;: &quot;\\u0026copy; \\u003ca href=\\&quot;https://www.openstreetmap.org/copyright\\&quot;\\u003eOpenStreetMap\\u003c/a\\u003e contributors&quot;,\n",
       "  &quot;subdomains&quot;: &quot;abc&quot;,\n",
       "  &quot;detectRetina&quot;: false,\n",
       "  &quot;tms&quot;: false,\n",
       "  &quot;opacity&quot;: 1,\n",
       "}\n",
       "\n",
       "            );\n",
       "        \n",
       "    \n",
       "            tile_layer_9ca480c915038ba110dd54d3d187bf0b.addTo(map_11a24cf482715969bafffd47e0e07d7a);\n",
       "        \n",
       "    \n",
       "            var marker_39d7c7daade92ad703b398eb1d76582c = L.marker(\n",
       "                [48.72373885, 16.40262624],\n",
       "                {\n",
       "}\n",
       "            ).addTo(map_11a24cf482715969bafffd47e0e07d7a);\n",
       "        \n",
       "    \n",
       "            var icon_05bd235aaf749cff51a30d319b66a6aa = L.AwesomeMarkers.icon(\n",
       "                {\n",
       "  &quot;markerColor&quot;: &quot;blue&quot;,\n",
       "  &quot;iconColor&quot;: &quot;white&quot;,\n",
       "  &quot;icon&quot;: &quot;info-sign&quot;,\n",
       "  &quot;prefix&quot;: &quot;glyphicon&quot;,\n",
       "  &quot;extraClasses&quot;: &quot;fa-rotate-0&quot;,\n",
       "}\n",
       "            );\n",
       "            marker_39d7c7daade92ad703b398eb1d76582c.setIcon(icon_05bd235aaf749cff51a30d319b66a6aa);\n",
       "        \n",
       "    \n",
       "        var popup_bca1c2bc58d55009820b2cc376a427a7 = L.popup({\n",
       "  &quot;maxWidth&quot;: &quot;100%&quot;,\n",
       "});\n",
       "\n",
       "        \n",
       "            \n",
       "                var html_f075774e1daa4b862aed3ce6f320b2f1 = $(`&lt;div id=&quot;html_f075774e1daa4b862aed3ce6f320b2f1&quot; style=&quot;width: 100.0%; height: 100.0%;&quot;&gt;Laa/Thaya Bahnhof (540) min&lt;/div&gt;`)[0];\n",
       "                popup_bca1c2bc58d55009820b2cc376a427a7.setContent(html_f075774e1daa4b862aed3ce6f320b2f1);\n",
       "            \n",
       "        \n",
       "\n",
       "        marker_39d7c7daade92ad703b398eb1d76582c.bindPopup(popup_bca1c2bc58d55009820b2cc376a427a7)\n",
       "        ;\n",
       "\n",
       "        \n",
       "    \n",
       "    \n",
       "            var marker_c30313a210169228292ef8a78a879dff = L.marker(\n",
       "                [48.70336672, 16.46489745],\n",
       "                {\n",
       "}\n",
       "            ).addTo(map_11a24cf482715969bafffd47e0e07d7a);\n",
       "        \n",
       "    \n",
       "            var icon_7bda7952781308549e327c0264341954 = L.AwesomeMarkers.icon(\n",
       "                {\n",
       "  &quot;markerColor&quot;: &quot;blue&quot;,\n",
       "  &quot;iconColor&quot;: &quot;white&quot;,\n",
       "  &quot;icon&quot;: &quot;info-sign&quot;,\n",
       "  &quot;prefix&quot;: &quot;glyphicon&quot;,\n",
       "  &quot;extraClasses&quot;: &quot;fa-rotate-0&quot;,\n",
       "}\n",
       "            );\n",
       "            marker_c30313a210169228292ef8a78a879dff.setIcon(icon_7bda7952781308549e327c0264341954);\n",
       "        \n",
       "    \n",
       "        var popup_3b1b930a881801d1687f030dfe9dd69a = L.popup({\n",
       "  &quot;maxWidth&quot;: &quot;100%&quot;,\n",
       "});\n",
       "\n",
       "        \n",
       "            \n",
       "                var html_f31a18a545ef7d8c710e1cd6bd03ea3b = $(`&lt;div id=&quot;html_f31a18a545ef7d8c710e1cd6bd03ea3b&quot; style=&quot;width: 100.0%; height: 100.0%;&quot;&gt;Kottingneusiedl Bahnhof (553.0) min&lt;/div&gt;`)[0];\n",
       "                popup_3b1b930a881801d1687f030dfe9dd69a.setContent(html_f31a18a545ef7d8c710e1cd6bd03ea3b);\n",
       "            \n",
       "        \n",
       "\n",
       "        marker_c30313a210169228292ef8a78a879dff.bindPopup(popup_3b1b930a881801d1687f030dfe9dd69a)\n",
       "        ;\n",
       "\n",
       "        \n",
       "    \n",
       "    \n",
       "            var marker_f88f2705bbbcb3256aadf41535828fdb = L.marker(\n",
       "                [48.69974428, 16.49260149],\n",
       "                {\n",
       "}\n",
       "            ).addTo(map_11a24cf482715969bafffd47e0e07d7a);\n",
       "        \n",
       "    \n",
       "            var icon_eca620eb8842c97aa0c40ded759c2936 = L.AwesomeMarkers.icon(\n",
       "                {\n",
       "  &quot;markerColor&quot;: &quot;blue&quot;,\n",
       "  &quot;iconColor&quot;: &quot;white&quot;,\n",
       "  &quot;icon&quot;: &quot;info-sign&quot;,\n",
       "  &quot;prefix&quot;: &quot;glyphicon&quot;,\n",
       "  &quot;extraClasses&quot;: &quot;fa-rotate-0&quot;,\n",
       "}\n",
       "            );\n",
       "            marker_f88f2705bbbcb3256aadf41535828fdb.setIcon(icon_eca620eb8842c97aa0c40ded759c2936);\n",
       "        \n",
       "    \n",
       "        var popup_e052c3a2eadd10d4efce29c11d4ffe77 = L.popup({\n",
       "  &quot;maxWidth&quot;: &quot;100%&quot;,\n",
       "});\n",
       "\n",
       "        \n",
       "            \n",
       "                var html_98e2498ce3138b1bb0529493674057f7 = $(`&lt;div id=&quot;html_98e2498ce3138b1bb0529493674057f7&quot; style=&quot;width: 100.0%; height: 100.0%;&quot;&gt;Staatz Bahnhof (555.0) min&lt;/div&gt;`)[0];\n",
       "                popup_e052c3a2eadd10d4efce29c11d4ffe77.setContent(html_98e2498ce3138b1bb0529493674057f7);\n",
       "            \n",
       "        \n",
       "\n",
       "        marker_f88f2705bbbcb3256aadf41535828fdb.bindPopup(popup_e052c3a2eadd10d4efce29c11d4ffe77)\n",
       "        ;\n",
       "\n",
       "        \n",
       "    \n",
       "    \n",
       "            var marker_fa1f5e497e895e45faa09f7ec7d042ef = L.marker(\n",
       "                [48.67258841, 16.51110679],\n",
       "                {\n",
       "}\n",
       "            ).addTo(map_11a24cf482715969bafffd47e0e07d7a);\n",
       "        \n",
       "    \n",
       "            var icon_c01cd04d53ff4608453ec6eebf9f4300 = L.AwesomeMarkers.icon(\n",
       "                {\n",
       "  &quot;markerColor&quot;: &quot;blue&quot;,\n",
       "  &quot;iconColor&quot;: &quot;white&quot;,\n",
       "  &quot;icon&quot;: &quot;info-sign&quot;,\n",
       "  &quot;prefix&quot;: &quot;glyphicon&quot;,\n",
       "  &quot;extraClasses&quot;: &quot;fa-rotate-0&quot;,\n",
       "}\n",
       "            );\n",
       "            marker_fa1f5e497e895e45faa09f7ec7d042ef.setIcon(icon_c01cd04d53ff4608453ec6eebf9f4300);\n",
       "        \n",
       "    \n",
       "        var popup_e683209264e551f5651c7469a8a077cb = L.popup({\n",
       "  &quot;maxWidth&quot;: &quot;100%&quot;,\n",
       "});\n",
       "\n",
       "        \n",
       "            \n",
       "                var html_f366b0bb017adc9957ca5d8d0337e3e6 = $(`&lt;div id=&quot;html_f366b0bb017adc9957ca5d8d0337e3e6&quot; style=&quot;width: 100.0%; height: 100.0%;&quot;&gt;Enzersdorf bei Staatz Bahnhof (559.0) min&lt;/div&gt;`)[0];\n",
       "                popup_e683209264e551f5651c7469a8a077cb.setContent(html_f366b0bb017adc9957ca5d8d0337e3e6);\n",
       "            \n",
       "        \n",
       "\n",
       "        marker_fa1f5e497e895e45faa09f7ec7d042ef.bindPopup(popup_e683209264e551f5651c7469a8a077cb)\n",
       "        ;\n",
       "\n",
       "        \n",
       "    \n",
       "    \n",
       "            var marker_690d85268ac527d6f08f4fe579156c0a = L.marker(\n",
       "                [48.64241453, 16.51357716],\n",
       "                {\n",
       "}\n",
       "            ).addTo(map_11a24cf482715969bafffd47e0e07d7a);\n",
       "        \n",
       "    \n",
       "            var icon_39a5c1146856b243f509215cdae09a6f = L.AwesomeMarkers.icon(\n",
       "                {\n",
       "  &quot;markerColor&quot;: &quot;blue&quot;,\n",
       "  &quot;iconColor&quot;: &quot;white&quot;,\n",
       "  &quot;icon&quot;: &quot;info-sign&quot;,\n",
       "  &quot;prefix&quot;: &quot;glyphicon&quot;,\n",
       "  &quot;extraClasses&quot;: &quot;fa-rotate-0&quot;,\n",
       "}\n",
       "            );\n",
       "            marker_690d85268ac527d6f08f4fe579156c0a.setIcon(icon_39a5c1146856b243f509215cdae09a6f);\n",
       "        \n",
       "    \n",
       "        var popup_74c1ffb76dc30af840527c95f6dc9b8c = L.popup({\n",
       "  &quot;maxWidth&quot;: &quot;100%&quot;,\n",
       "});\n",
       "\n",
       "        \n",
       "            \n",
       "                var html_2ec8795b5d8b9455d0029e901bb9d367 = $(`&lt;div id=&quot;html_2ec8795b5d8b9455d0029e901bb9d367&quot; style=&quot;width: 100.0%; height: 100.0%;&quot;&gt;Frättingsdorf Bahnhof (563.0) min&lt;/div&gt;`)[0];\n",
       "                popup_74c1ffb76dc30af840527c95f6dc9b8c.setContent(html_2ec8795b5d8b9455d0029e901bb9d367);\n",
       "            \n",
       "        \n",
       "\n",
       "        marker_690d85268ac527d6f08f4fe579156c0a.bindPopup(popup_74c1ffb76dc30af840527c95f6dc9b8c)\n",
       "        ;\n",
       "\n",
       "        \n",
       "    \n",
       "    \n",
       "            var marker_c6ae82d76b98936f1a2a055e49522720 = L.marker(\n",
       "                [48.62007363, 16.51667634],\n",
       "                {\n",
       "}\n",
       "            ).addTo(map_11a24cf482715969bafffd47e0e07d7a);\n",
       "        \n",
       "    \n",
       "            var icon_a0096946a5f489af636ab5d61de42d5a = L.AwesomeMarkers.icon(\n",
       "                {\n",
       "  &quot;markerColor&quot;: &quot;blue&quot;,\n",
       "  &quot;iconColor&quot;: &quot;white&quot;,\n",
       "  &quot;icon&quot;: &quot;info-sign&quot;,\n",
       "  &quot;prefix&quot;: &quot;glyphicon&quot;,\n",
       "  &quot;extraClasses&quot;: &quot;fa-rotate-0&quot;,\n",
       "}\n",
       "            );\n",
       "            marker_c6ae82d76b98936f1a2a055e49522720.setIcon(icon_a0096946a5f489af636ab5d61de42d5a);\n",
       "        \n",
       "    \n",
       "        var popup_4edf489d6d5dfe46b8b99612c5d39a5e = L.popup({\n",
       "  &quot;maxWidth&quot;: &quot;100%&quot;,\n",
       "});\n",
       "\n",
       "        \n",
       "            \n",
       "                var html_04d88b76fef1847302817535601713fa = $(`&lt;div id=&quot;html_04d88b76fef1847302817535601713fa&quot; style=&quot;width: 100.0%; height: 100.0%;&quot;&gt;Hörersdorf Bahnhof (567.0) min&lt;/div&gt;`)[0];\n",
       "                popup_4edf489d6d5dfe46b8b99612c5d39a5e.setContent(html_04d88b76fef1847302817535601713fa);\n",
       "            \n",
       "        \n",
       "\n",
       "        marker_c6ae82d76b98936f1a2a055e49522720.bindPopup(popup_4edf489d6d5dfe46b8b99612c5d39a5e)\n",
       "        ;\n",
       "\n",
       "        \n",
       "    \n",
       "    \n",
       "            var marker_28feafe38c71d7deeb61d76e835407ff = L.marker(\n",
       "                [48.61111788, 16.53189381],\n",
       "                {\n",
       "}\n",
       "            ).addTo(map_11a24cf482715969bafffd47e0e07d7a);\n",
       "        \n",
       "    \n",
       "            var icon_1317b35f630a93c48e4c7f5b40276d0f = L.AwesomeMarkers.icon(\n",
       "                {\n",
       "  &quot;markerColor&quot;: &quot;blue&quot;,\n",
       "  &quot;iconColor&quot;: &quot;white&quot;,\n",
       "  &quot;icon&quot;: &quot;info-sign&quot;,\n",
       "  &quot;prefix&quot;: &quot;glyphicon&quot;,\n",
       "  &quot;extraClasses&quot;: &quot;fa-rotate-0&quot;,\n",
       "}\n",
       "            );\n",
       "            marker_28feafe38c71d7deeb61d76e835407ff.setIcon(icon_1317b35f630a93c48e4c7f5b40276d0f);\n",
       "        \n",
       "    \n",
       "        var popup_2a21585a5162ac6cb236a9f41a65db66 = L.popup({\n",
       "  &quot;maxWidth&quot;: &quot;100%&quot;,\n",
       "});\n",
       "\n",
       "        \n",
       "            \n",
       "                var html_e754b8e0bfca6b6f029d6d982fd1c925 = $(`&lt;div id=&quot;html_e754b8e0bfca6b6f029d6d982fd1c925&quot; style=&quot;width: 100.0%; height: 100.0%;&quot;&gt;Siebenhirten (NÖ) Haltestelle (569.0) min&lt;/div&gt;`)[0];\n",
       "                popup_2a21585a5162ac6cb236a9f41a65db66.setContent(html_e754b8e0bfca6b6f029d6d982fd1c925);\n",
       "            \n",
       "        \n",
       "\n",
       "        marker_28feafe38c71d7deeb61d76e835407ff.bindPopup(popup_2a21585a5162ac6cb236a9f41a65db66)\n",
       "        ;\n",
       "\n",
       "        \n",
       "    \n",
       "    \n",
       "            var marker_2db9afa79420e5560b05e3ac122e71b2 = L.marker(\n",
       "                [48.57093402, 16.5689044],\n",
       "                {\n",
       "}\n",
       "            ).addTo(map_11a24cf482715969bafffd47e0e07d7a);\n",
       "        \n",
       "    \n",
       "            var icon_1ced906dc1f9abae633f3094a8ae1fff = L.AwesomeMarkers.icon(\n",
       "                {\n",
       "  &quot;markerColor&quot;: &quot;blue&quot;,\n",
       "  &quot;iconColor&quot;: &quot;white&quot;,\n",
       "  &quot;icon&quot;: &quot;info-sign&quot;,\n",
       "  &quot;prefix&quot;: &quot;glyphicon&quot;,\n",
       "  &quot;extraClasses&quot;: &quot;fa-rotate-0&quot;,\n",
       "}\n",
       "            );\n",
       "            marker_2db9afa79420e5560b05e3ac122e71b2.setIcon(icon_1ced906dc1f9abae633f3094a8ae1fff);\n",
       "        \n",
       "    \n",
       "        var popup_6f1c83b6992de4eafd6291f52569fe77 = L.popup({\n",
       "  &quot;maxWidth&quot;: &quot;100%&quot;,\n",
       "});\n",
       "\n",
       "        \n",
       "            \n",
       "                var html_5f6a82219d70b446d46cf5867bc3f39e = $(`&lt;div id=&quot;html_5f6a82219d70b446d46cf5867bc3f39e&quot; style=&quot;width: 100.0%; height: 100.0%;&quot;&gt;Mistelbach Stadt (574.0) min&lt;/div&gt;`)[0];\n",
       "                popup_6f1c83b6992de4eafd6291f52569fe77.setContent(html_5f6a82219d70b446d46cf5867bc3f39e);\n",
       "            \n",
       "        \n",
       "\n",
       "        marker_2db9afa79420e5560b05e3ac122e71b2.bindPopup(popup_6f1c83b6992de4eafd6291f52569fe77)\n",
       "        ;\n",
       "\n",
       "        \n",
       "    \n",
       "    \n",
       "            var marker_b212c8688d8c2e5c567a7e0b90099097 = L.marker(\n",
       "                [48.56567918, 16.56394569],\n",
       "                {\n",
       "}\n",
       "            ).addTo(map_11a24cf482715969bafffd47e0e07d7a);\n",
       "        \n",
       "    \n",
       "            var icon_4496f488cb1c87ba5dd6964e041d5309 = L.AwesomeMarkers.icon(\n",
       "                {\n",
       "  &quot;markerColor&quot;: &quot;blue&quot;,\n",
       "  &quot;iconColor&quot;: &quot;white&quot;,\n",
       "  &quot;icon&quot;: &quot;info-sign&quot;,\n",
       "  &quot;prefix&quot;: &quot;glyphicon&quot;,\n",
       "  &quot;extraClasses&quot;: &quot;fa-rotate-0&quot;,\n",
       "}\n",
       "            );\n",
       "            marker_b212c8688d8c2e5c567a7e0b90099097.setIcon(icon_4496f488cb1c87ba5dd6964e041d5309);\n",
       "        \n",
       "    \n",
       "        var popup_58b9d1ae2cfa06cc9c01c52111b1b09f = L.popup({\n",
       "  &quot;maxWidth&quot;: &quot;100%&quot;,\n",
       "});\n",
       "\n",
       "        \n",
       "            \n",
       "                var html_b4645948a517c0db6d80f6a63f858d16 = $(`&lt;div id=&quot;html_b4645948a517c0db6d80f6a63f858d16&quot; style=&quot;width: 100.0%; height: 100.0%;&quot;&gt;Mistelbach Bahnhof (576.0) min&lt;/div&gt;`)[0];\n",
       "                popup_58b9d1ae2cfa06cc9c01c52111b1b09f.setContent(html_b4645948a517c0db6d80f6a63f858d16);\n",
       "            \n",
       "        \n",
       "\n",
       "        marker_b212c8688d8c2e5c567a7e0b90099097.bindPopup(popup_58b9d1ae2cfa06cc9c01c52111b1b09f)\n",
       "        ;\n",
       "\n",
       "        \n",
       "    \n",
       "    \n",
       "            var marker_6e0f3f4b6e6952e50a45c208cffc15c2 = L.marker(\n",
       "                [48.37873663, 16.51261596],\n",
       "                {\n",
       "}\n",
       "            ).addTo(map_11a24cf482715969bafffd47e0e07d7a);\n",
       "        \n",
       "    \n",
       "            var icon_1b5a7e5ffbaafca076c826c60869811b = L.AwesomeMarkers.icon(\n",
       "                {\n",
       "  &quot;markerColor&quot;: &quot;blue&quot;,\n",
       "  &quot;iconColor&quot;: &quot;white&quot;,\n",
       "  &quot;icon&quot;: &quot;info-sign&quot;,\n",
       "  &quot;prefix&quot;: &quot;glyphicon&quot;,\n",
       "  &quot;extraClasses&quot;: &quot;fa-rotate-0&quot;,\n",
       "}\n",
       "            );\n",
       "            marker_6e0f3f4b6e6952e50a45c208cffc15c2.setIcon(icon_1b5a7e5ffbaafca076c826c60869811b);\n",
       "        \n",
       "    \n",
       "        var popup_5caecd9692026ab2cf4a1c2c974a1ec9 = L.popup({\n",
       "  &quot;maxWidth&quot;: &quot;100%&quot;,\n",
       "});\n",
       "\n",
       "        \n",
       "            \n",
       "                var html_5bcf2222e172a2cfd64d31cca0e6283c = $(`&lt;div id=&quot;html_5bcf2222e172a2cfd64d31cca0e6283c&quot; style=&quot;width: 100.0%; height: 100.0%;&quot;&gt;Wolkersdorf Bahnhof (598.0) min&lt;/div&gt;`)[0];\n",
       "                popup_5caecd9692026ab2cf4a1c2c974a1ec9.setContent(html_5bcf2222e172a2cfd64d31cca0e6283c);\n",
       "            \n",
       "        \n",
       "\n",
       "        marker_6e0f3f4b6e6952e50a45c208cffc15c2.bindPopup(popup_5caecd9692026ab2cf4a1c2c974a1ec9)\n",
       "        ;\n",
       "\n",
       "        \n",
       "    \n",
       "    \n",
       "            var marker_167ee361a425a1050233fcbb77e0d40e = L.marker(\n",
       "                [48.36230185, 16.51673024],\n",
       "                {\n",
       "}\n",
       "            ).addTo(map_11a24cf482715969bafffd47e0e07d7a);\n",
       "        \n",
       "    \n",
       "            var icon_5e1c7531108041b3b5353cfefbe84b27 = L.AwesomeMarkers.icon(\n",
       "                {\n",
       "  &quot;markerColor&quot;: &quot;blue&quot;,\n",
       "  &quot;iconColor&quot;: &quot;white&quot;,\n",
       "  &quot;icon&quot;: &quot;info-sign&quot;,\n",
       "  &quot;prefix&quot;: &quot;glyphicon&quot;,\n",
       "  &quot;extraClasses&quot;: &quot;fa-rotate-0&quot;,\n",
       "}\n",
       "            );\n",
       "            marker_167ee361a425a1050233fcbb77e0d40e.setIcon(icon_5e1c7531108041b3b5353cfefbe84b27);\n",
       "        \n",
       "    \n",
       "        var popup_3ea325a4ca71b141eb4619b8ba5ca77a = L.popup({\n",
       "  &quot;maxWidth&quot;: &quot;100%&quot;,\n",
       "});\n",
       "\n",
       "        \n",
       "            \n",
       "                var html_375b412d9a6f0e0f60a669db5987fb05 = $(`&lt;div id=&quot;html_375b412d9a6f0e0f60a669db5987fb05&quot; style=&quot;width: 100.0%; height: 100.0%;&quot;&gt;Obersdorf Bahnhof (603.0) min&lt;/div&gt;`)[0];\n",
       "                popup_3ea325a4ca71b141eb4619b8ba5ca77a.setContent(html_375b412d9a6f0e0f60a669db5987fb05);\n",
       "            \n",
       "        \n",
       "\n",
       "        marker_167ee361a425a1050233fcbb77e0d40e.bindPopup(popup_3ea325a4ca71b141eb4619b8ba5ca77a)\n",
       "        ;\n",
       "\n",
       "        \n",
       "    \n",
       "    \n",
       "            var marker_429a80f581c9e2532ad2f15fed57954f = L.marker(\n",
       "                [48.27776461, 16.45011118],\n",
       "                {\n",
       "}\n",
       "            ).addTo(map_11a24cf482715969bafffd47e0e07d7a);\n",
       "        \n",
       "    \n",
       "            var icon_d0bb57ca2ce17be15beb5c774cdd4e65 = L.AwesomeMarkers.icon(\n",
       "                {\n",
       "  &quot;markerColor&quot;: &quot;blue&quot;,\n",
       "  &quot;iconColor&quot;: &quot;white&quot;,\n",
       "  &quot;icon&quot;: &quot;info-sign&quot;,\n",
       "  &quot;prefix&quot;: &quot;glyphicon&quot;,\n",
       "  &quot;extraClasses&quot;: &quot;fa-rotate-0&quot;,\n",
       "}\n",
       "            );\n",
       "            marker_429a80f581c9e2532ad2f15fed57954f.setIcon(icon_d0bb57ca2ce17be15beb5c774cdd4e65);\n",
       "        \n",
       "    \n",
       "        var popup_b6bfae0c5b48bd72cf7aa6398445866f = L.popup({\n",
       "  &quot;maxWidth&quot;: &quot;100%&quot;,\n",
       "});\n",
       "\n",
       "        \n",
       "            \n",
       "                var html_5449063b31e87031ad8f1f9c265e5481 = $(`&lt;div id=&quot;html_5449063b31e87031ad8f1f9c265e5481&quot; style=&quot;width: 100.0%; height: 100.0%;&quot;&gt;Wien Leopoldau (613.0) min&lt;/div&gt;`)[0];\n",
       "                popup_b6bfae0c5b48bd72cf7aa6398445866f.setContent(html_5449063b31e87031ad8f1f9c265e5481);\n",
       "            \n",
       "        \n",
       "\n",
       "        marker_429a80f581c9e2532ad2f15fed57954f.bindPopup(popup_b6bfae0c5b48bd72cf7aa6398445866f)\n",
       "        ;\n",
       "\n",
       "        \n",
       "    \n",
       "    \n",
       "            var poly_line_4d81ce5ba0f1cba5d323618fa007c2ea = L.polyline(\n",
       "                [[48.72373885, 16.40262624], [48.70336672, 16.46489745], [48.69974428, 16.49260149], [48.67258841, 16.51110679], [48.64241453, 16.51357716], [48.62007363, 16.51667634], [48.61111788, 16.53189381], [48.57093402, 16.5689044], [48.56567918, 16.56394569], [48.37873663, 16.51261596], [48.36230185, 16.51673024], [48.27776461, 16.45011118]],\n",
       "                {&quot;bubblingMouseEvents&quot;: true, &quot;color&quot;: &quot;blue&quot;, &quot;dashArray&quot;: null, &quot;dashOffset&quot;: null, &quot;fill&quot;: false, &quot;fillColor&quot;: &quot;blue&quot;, &quot;fillOpacity&quot;: 0.2, &quot;fillRule&quot;: &quot;evenodd&quot;, &quot;lineCap&quot;: &quot;round&quot;, &quot;lineJoin&quot;: &quot;round&quot;, &quot;noClip&quot;: false, &quot;opacity&quot;: 0.7, &quot;smoothFactor&quot;: 1.0, &quot;stroke&quot;: true, &quot;weight&quot;: 5}\n",
       "            ).addTo(map_11a24cf482715969bafffd47e0e07d7a);\n",
       "        \n",
       "&lt;/script&gt;\n",
       "&lt;/html&gt;\" style=\"position:absolute;width:100%;height:100%;left:0;top:0;border:none !important;\" allowfullscreen webkitallowfullscreen mozallowfullscreen></iframe></div></div>"
      ]
     },
     "execution_count": 210,
     "metadata": {},
     "output_type": "execute_result"
    }
   ],
   "execution_count": 210
  },
  {
   "metadata": {
    "ExecuteTime": {
     "end_time": "2025-01-28T18:31:13.794569Z",
     "start_time": "2025-01-28T18:31:13.790476Z"
    }
   },
   "cell_type": "code",
   "source": "len(calendar)",
   "id": "c13bb606feaa20bd",
   "outputs": [
    {
     "data": {
      "text/plain": [
       "3351"
      ]
     },
     "execution_count": 403,
     "metadata": {},
     "output_type": "execute_result"
    }
   ],
   "execution_count": 403
  },
  {
   "metadata": {},
   "cell_type": "code",
   "outputs": [],
   "execution_count": null,
   "source": "",
   "id": "cb7f747212efb186"
  }
 ],
 "metadata": {
  "kernelspec": {
   "display_name": "Python 3",
   "language": "python",
   "name": "python3"
  },
  "language_info": {
   "codemirror_mode": {
    "name": "ipython",
    "version": 2
   },
   "file_extension": ".py",
   "mimetype": "text/x-python",
   "name": "python",
   "nbconvert_exporter": "python",
   "pygments_lexer": "ipython2",
   "version": "2.7.6"
  }
 },
 "nbformat": 4,
 "nbformat_minor": 5
}
