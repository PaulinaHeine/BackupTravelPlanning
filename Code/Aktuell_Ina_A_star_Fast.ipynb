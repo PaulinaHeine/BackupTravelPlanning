{
 "cells": [
  {
   "metadata": {},
   "cell_type": "markdown",
   "source": "Import of Packages",
   "id": "1aa238fa957aaa40"
  },
  {
   "cell_type": "code",
   "id": "initial_id",
   "metadata": {
    "collapsed": true,
    "ExecuteTime": {
     "end_time": "2025-01-25T11:43:14.238118Z",
     "start_time": "2025-01-25T11:43:10.996782Z"
    }
   },
   "source": [
    "import scipy.stats as stats\n",
    "import heapq\n",
    "from collections import defaultdict\n",
    "#from Code.import_data import import_data\n",
    "from datetime import datetime, timedelta\n",
    "import pandas as pd"
   ],
   "outputs": [],
   "execution_count": 1
  },
  {
   "metadata": {},
   "cell_type": "markdown",
   "source": "Import of Data",
   "id": "a7476dc616a344e5"
  },
  {
   "metadata": {
    "ExecuteTime": {
     "end_time": "2025-01-25T11:43:44.940889Z",
     "start_time": "2025-01-25T11:43:44.934756Z"
    }
   },
   "cell_type": "code",
   "source": [
    "\n",
    "def import_data():\n",
    "    # @diana and denis, change to your directory\n",
    "    gtfs_dir = '/Users/paulinaheine/Codes/BackupTravelPlanning/GTFS_OP_2024_obb-2/'\n",
    "\n",
    "    # Load data\n",
    "    agency_df = pd.read_csv(gtfs_dir + 'agency.txt')\n",
    "    stops_df = pd.read_csv(gtfs_dir + 'stops.txt')\n",
    "    routes_df = pd.read_csv(gtfs_dir + 'routes.txt')\n",
    "    trips_df = pd.read_csv(gtfs_dir + 'trips.txt')\n",
    "    stop_times_df = pd.read_csv(gtfs_dir + 'stop_times.txt')\n",
    "    calendar_df = pd.read_csv(gtfs_dir + 'calendar.txt')\n",
    "    calendar_dates_df = pd.read_csv(gtfs_dir + 'calendar_dates.txt')\n",
    "    shapes_df = pd.read_csv(gtfs_dir + 'shapes.txt')\n",
    "    \n",
    "    # Return all DataFrames\n",
    "    return agency_df, stops_df, routes_df, trips_df, stop_times_df, calendar_df, calendar_dates_df, shapes_df\n",
    "\n",
    "# Import and display data\n"
   ],
   "id": "6dbda37a5cf4a02",
   "outputs": [],
   "execution_count": 2
  },
  {
   "metadata": {},
   "cell_type": "markdown",
   "source": "Helping Functions",
   "id": "db438fd723298b46"
  },
  {
   "metadata": {
    "ExecuteTime": {
     "end_time": "2025-01-25T11:43:46.234833Z",
     "start_time": "2025-01-25T11:43:46.221197Z"
    }
   },
   "cell_type": "code",
   "source": [
    "def time_to_minutes(time_str):\n",
    "    hours, minutes, seconds = map(int, time_str.split(\":\"))\n",
    "    return hours * 60 + minutes + seconds / 60\n",
    "\n",
    "def minutes_to_time(minutes):\n",
    "    hours = int(minutes // 60)\n",
    "    minutes = int(minutes % 60)\n",
    "    return f\"{hours:02d}:{minutes:02d}\"\n",
    "\n",
    "def get_weekday(date):\n",
    "    weekdays = [\"monday\", \"tuesday\", \"wednesday\", \"thursday\", \"friday\", \"saturday\", \"sunday\"]\n",
    "    return weekdays[date.weekday()]\n",
    "\n",
    "def is_service_available(service_id, start_time_obj, calendar, calendar_dates):\n",
    "    #date_str = date.strftime(\"%Y%m%d\")\n",
    "    #date = date.date()\n",
    "    # Convert date to string in YYYYMMDD format\n",
    "    date_str = start_time_obj.strftime(\"%Y%m%d\")\n",
    "    weekday = [\"monday\", \"tuesday\", \"wednesday\", \"thursday\", \"friday\", \"saturday\", \"sunday\"][start_time_obj.weekday()]\n",
    "\n",
    "    # Step 1: Check for exceptions in calendar_dates\n",
    "    if service_id in calendar_dates[\"service_id\"].values:\n",
    "        exceptions = calendar_dates[calendar_dates[\"service_id\"] == service_id]\n",
    "        for _, exception in exceptions.iterrows():\n",
    "            if exception[\"date\"] == int(date_str):\n",
    "                if exception[\"exception_type\"] == 2:  # Service is added as an exception\n",
    "                    return True\n",
    "                elif exception[\"exception_type\"] == 1:  # Service is removed as an exception\n",
    "                    return False\n",
    "\n",
    "    # Step 2: Check for regular service in calendar\n",
    "    if service_id in calendar[\"service_id\"].values:\n",
    "        service = calendar[calendar[\"service_id\"] == service_id]\n",
    "        # Check if date is within start_date and end_date\n",
    "        if int(service[\"start_date\"].iloc[0]) <= int(date_str) <= int(service[\"end_date\"].iloc[0]):\n",
    "            # Check if the service operates on this weekday\n",
    "            is_available = (service[weekday].iloc[0] == 1)\n",
    "            if is_available == 1:\n",
    "                return True\n",
    "    return False\n",
    "\n",
    "def prepare_calendar_dates(calendar_dates):\n",
    "    grouped = calendar_dates.groupby(\"service_id\")\n",
    "    calendar_dates_dict = {}\n",
    "    for service_id, group in grouped:\n",
    "        exceptions = group.to_dict(orient=\"records\")\n",
    "        calendar_dates_dict[service_id] = exceptions\n",
    "    return calendar_dates_dict"
   ],
   "id": "4ea20b531303739b",
   "outputs": [],
   "execution_count": 3
  },
  {
   "metadata": {
    "ExecuteTime": {
     "end_time": "2025-01-25T11:44:07.824575Z",
     "start_time": "2025-01-25T11:43:46.793108Z"
    }
   },
   "cell_type": "code",
   "source": "agency, stops, routes, trips, stop_times, calendar, calendar_dates, shapes = import_data()",
   "id": "b3dfb65b16f2be1",
   "outputs": [],
   "execution_count": 4
  },
  {
   "metadata": {},
   "cell_type": "markdown",
   "source": "Create Graph",
   "id": "79f58bfb3daae85b"
  },
  {
   "metadata": {
    "ExecuteTime": {
     "end_time": "2025-01-25T11:44:07.837212Z",
     "start_time": "2025-01-25T11:44:07.827209Z"
    }
   },
   "cell_type": "code",
   "source": [
    "def create_graph_with_schedule(stop_times, stops, trips, calendar, calendar_dates, start_time_obj, end_time_obj):\n",
    "    '''\n",
    "    funktioniert endlich, if not wurde entfernt weil es mich genervt hat 3-4 min \n",
    "    '''\n",
    "\n",
    "    graph = defaultdict(list)\n",
    "    stop_id_to_name = stops.set_index(\"stop_id\")[\"stop_name\"].to_dict()\n",
    "    # Filter for active trips today using is_service\n",
    "    trip_id_to_service = trips.set_index(\"trip_id\")[\"service_id\"].to_dict()\n",
    "    trip_id_to_route = trips.set_index(\"trip_id\")[\"route_id\"].to_dict()\n",
    "\n",
    "    calendar_dates_2 = prepare_calendar_dates(calendar_dates)\n",
    "    stop_times = stop_times.sort_values(by=[\"trip_id\", \"stop_sequence\"])\n",
    "\n",
    "    #####\n",
    "    #Filter\n",
    "    #####\n",
    "\n",
    "    stop_times_copy = stop_times.copy()\n",
    "    # Filter out stops outside the time window\n",
    "    stop_times_copy[\"arrival_minutes\"] = stop_times_copy[\"arrival_time\"].apply(time_to_minutes)\n",
    "    stop_times_copy[\"departure_minutes\"] = stop_times_copy[\"departure_time\"].apply(time_to_minutes)\n",
    "\n",
    "    start_minutes = time_to_minutes(start_time_obj.strftime(\"%H:%M:%S\"))\n",
    "    end_minutes = time_to_minutes(end_time_obj.strftime(\"%H:%M:%S\"))\n",
    "\n",
    "    stop_times = stop_times_copy[\n",
    "        (stop_times_copy[\"arrival_minutes\"] >= start_minutes) &\n",
    "        (stop_times_copy[\"departure_minutes\"] <= end_minutes)\n",
    "        ]\n",
    "\n",
    "    print(f\"Rows after time window filter: {len(stop_times)}\")\n",
    "\n",
    "\n",
    "    #trip_id_to_service = trips.set_index(\"trip_id\")[\"service_id\"].to_dict()\n",
    "    stop_times[\"service_id\"] = stop_times[\"trip_id\"].map(trip_id_to_service)\n",
    "\n",
    "    grouped = stop_times.groupby(\"trip_id\")\n",
    "    for trip_id, group in grouped:\n",
    "        service_id = trip_id_to_service.get(trip_id)\n",
    "        \n",
    "        if is_service_available(service_id, start_time_obj, calendar, calendar_dates) == True:\n",
    "    \n",
    "            stops = group[\"stop_id\"].tolist()\n",
    "            departures = group[\"departure_time\"].apply(time_to_minutes).tolist()\n",
    "            arrivals = group[\"arrival_time\"].apply(time_to_minutes).tolist()\n",
    "    \n",
    "            for start, end, dep, arr in zip(stops[:-1], stops[1:], departures[:-1], arrivals[1:]):\n",
    "                travel_time = arr - dep\n",
    "                if travel_time > 0:\n",
    "                    graph[stop_id_to_name[start]].append(\n",
    "                        (stop_id_to_name[end], dep, arr, trip_id_to_route.get(trip_id))\n",
    "                    )\n",
    "\n",
    "    return graph\n"
   ],
   "id": "10f80925c6c5125e",
   "outputs": [],
   "execution_count": 5
  },
  {
   "metadata": {},
   "cell_type": "markdown",
   "source": "Reliability function",
   "id": "9b8a7414cde9e2db"
  },
  {
   "metadata": {
    "ExecuteTime": {
     "end_time": "2025-01-25T12:54:05.141679Z",
     "start_time": "2025-01-25T12:54:05.138111Z"
    }
   },
   "cell_type": "code",
   "source": [
    "def compute_transfer_probability_with_departure_delay(transfer_time):\n",
    "    #transfer_window = departure_time - scheduled_arrival\n",
    "    #if transfer_window < 0:\n",
    "    #    return 0.1  # No chance of a successful transfer if arrival is after departure\n",
    "    return stats.gamma.cdf(transfer_time, a=2, scale=3)\n"
   ],
   "id": "b9209559e07202bf",
   "outputs": [],
   "execution_count": 62
  },
  {
   "metadata": {},
   "cell_type": "markdown",
   "source": "A*",
   "id": "fbb06bcf904f5157"
  },
  {
   "metadata": {
    "ExecuteTime": {
     "end_time": "2025-01-25T12:32:07.869852Z",
     "start_time": "2025-01-25T12:32:07.862777Z"
    }
   },
   "cell_type": "code",
   "source": "",
   "id": "3ea48c3a57a253ae",
   "outputs": [
    {
     "data": {
      "text/plain": [
       "(inf, [], 0.0)"
      ]
     },
     "execution_count": 42,
     "metadata": {},
     "output_type": "execute_result"
    }
   ],
   "execution_count": 42
  },
  {
   "metadata": {},
   "cell_type": "markdown",
   "source": "A*",
   "id": "ee7bb4a7c2644aad"
  },
  {
   "metadata": {},
   "cell_type": "markdown",
   "source": "MAIN",
   "id": "5e8dc3f300be25f4"
  },
  {
   "metadata": {
    "ExecuteTime": {
     "end_time": "2025-01-22T13:36:57.023554Z",
     "start_time": "2025-01-22T13:36:57.016565Z"
    }
   },
   "cell_type": "code",
   "source": [
    "\n",
    "    backup_routes = []\n",
    "\n",
    "    last_route = None    \n",
    "\n",
    "    for i in range(1, len(path_fixed) - 1, 2):  # Alle Umstiegspunkte durchgehen\n",
    "        transfer_stop, transfer_time = path_fixed[i - 1]\n",
    "    # Identifiziere alle Umstiegspunkte in der Route\n",
    "   # for i in range(1, len(path_fixed) - 1, 2):\n",
    "        \n",
    "        #adjusted_transfer_time = MIN_TRANSFER_TIME + 15\n",
    "        current_stop, current_time = path_fixed[i - 1]\n",
    "        route_id, departure_time, arrival_time = path_fixed[i]\n",
    "        next_stop, _ = path_fixed[i + 1]\n",
    "\n",
    "        if route_id != last_route:\n",
    "            print(current_stop, current_time,route_id, departure_time, arrival_time,next_stop)\n",
    "        last_route = route_id    "
   ],
   "id": "aeffb3c155428ef6",
   "outputs": [
    {
     "name": "stdout",
     "output_type": "stream",
     "text": [
      "Schattendorf Kirchengasse 870 20-SV5-L-j24-1 883.0 888.0 Loipersbach-Schattendorf Bhf.\n",
      "Loipersbach-Schattendorf Bhf. 888.0 3-R93-A-j24-1 894.0 898.0 Marz-Rohrbach Bahnhof\n",
      "Wiener Neustadt Hauptbahnhof 925.0 10-A12-j24-1 930.0 955.0 Wien Meidling\n",
      "Wien Hauptbahnhof 962.0 10-A3-j24-1 969.0 984.0 Flughafen Wien Bahnhof\n"
     ]
    }
   ],
   "execution_count": 128
  },
  {
   "metadata": {},
   "cell_type": "markdown",
   "source": "# A* ",
   "id": "7cb26a7347ab37"
  },
  {
   "metadata": {
    "ExecuteTime": {
     "end_time": "2025-01-25T16:12:26.921577Z",
     "start_time": "2025-01-25T16:12:26.897713Z"
    }
   },
   "cell_type": "code",
   "source": [
    "import heapq\n",
    "import math\n",
    "\n",
    "def haversine(lat1, lon1, lat2, lon2):\n",
    "    R = 6371  # Radius der Erde in Kilometern\n",
    "    phi1 = math.radians(lat1)\n",
    "    phi2 = math.radians(lat2)\n",
    "    delta_phi = math.radians(lat2 - lat1)\n",
    "    delta_lambda = math.radians(lon2 - lon1)\n",
    "\n",
    "    a = math.sin(delta_phi / 2)**2 + math.cos(phi1) * math.cos(phi2) * math.sin(delta_lambda / 2)**2\n",
    "    c = 2 * math.atan2(math.sqrt(a), math.sqrt(1 - a))\n",
    "    \n",
    "    return R * c  # Entfernung in Kilometern\n",
    "\n",
    "def heuristic(current_stop, end_name, stops_df):\n",
    "    current_stop_row = stops_df[stops_df['stop_name'] == current_stop].iloc[0]\n",
    "    end_stop_row = stops_df[stops_df['stop_name'] == end_name].iloc[0]\n",
    "\n",
    "    current_lat = current_stop_row['stop_lat']\n",
    "    current_lon = current_stop_row['stop_lon']\n",
    "    end_lat = end_stop_row['stop_lat']\n",
    "    end_lon = end_stop_row['stop_lon']\n",
    "\n",
    "    distance_km = haversine(current_lat, current_lon, end_lat, end_lon)\n",
    "\n",
    "    average_speed = 60  # km/h\n",
    "    estimated_time_minutes = (distance_km / average_speed) * 60\n",
    "    return estimated_time_minutes\n",
    "\n",
    "#heuristic(\"Wien Handelskai\", end_stop_name,  stops)\n",
    "\n",
    "def a_star_on_speed_fixed(graph, start_name, end_name, start_time_minutes, \n",
    "                                  exclude_routes=set(), MIN_TRANSFER_TIME=2, stops_df=None):\n",
    "    pq = [(start_time_minutes, start_name, [], 1.0, None, 0)]  # (aktuelle Zeit, aktuelle Haltestelle, Pfad, Zuverlässigkeit, letzte Linie, Heuristik)\n",
    "    visited = set()\n",
    "    best_result = None  # Variable, um das beste Ergebnis zu speichern\n",
    "\n",
    "    while pq:\n",
    "        current_time, current_stop, path, reliability, last_route, _ = heapq.heappop(pq)\n",
    "\n",
    "        if (current_stop, current_time) in visited:\n",
    "            continue\n",
    "        visited.add((current_stop, current_time))\n",
    "\n",
    "        path = path + [(current_stop, current_time)]\n",
    "\n",
    "        # Überprüfe, ob das Ziel erreicht wurde\n",
    "        if current_stop == end_name:\n",
    "            # Hier speichern wir das erste Ergebnis, wenn das Ziel erreicht wurde\n",
    "            if best_result is None or new_current_time < best_result[0]:  # Wenn das Ziel früher erreicht wird\n",
    "                best_result = (current_time, path, reliability)\n",
    "\n",
    "\n",
    "        for neighbor, departure_time, arrival_time, route_id in graph[current_stop]:\n",
    "            if departure_time >= current_time and route_id not in exclude_routes:\n",
    "                # Prüfe, ob es ein Umstieg ist (Linienwechsel)\n",
    "                is_transfer = last_route is not None and last_route != route_id\n",
    "                if is_transfer:\n",
    "                    transfer_time = departure_time - current_time\n",
    "                    if transfer_time < MIN_TRANSFER_TIME:\n",
    "                        continue  # Zu wenig Zeit für Umstieg\n",
    "\n",
    "                if not is_transfer:\n",
    "                    transfer_reliability = 1.0\n",
    "                else:\n",
    "                    transfer_reliability = compute_transfer_probability_with_departure_delay(transfer_time)\n",
    "\n",
    "                new_current_time = arrival_time\n",
    "                new_reliability = reliability * transfer_reliability\n",
    "\n",
    "                # Heuristik für A* (vereinfachte Schätzung der verbleibenden Zeit)\n",
    "                h = heuristic(neighbor, end_name, stops)\n",
    "\n",
    "                # Füge den nächsten Knoten zur Priority Queue hinzu\n",
    "                heapq.heappush(pq, (\n",
    "                    new_current_time,  # Gesamtbewertung: aktuelle Zeit + Heuristik\n",
    "                    neighbor,\n",
    "                    path + [(route_id, departure_time, arrival_time)],\n",
    "                    new_reliability,\n",
    "                    route_id,\n",
    "                    h\n",
    "                ))\n",
    "\n",
    "    # Gibt das beste Ergebnis zurück, wenn es existiert, andernfalls eine Fehlermeldung\n",
    "    if best_result:\n",
    "        return best_result_fast\n",
    "    else:\n",
    "        return float(\"inf\"), [], 0.0  # Keine Route gefunden\n"
   ],
   "id": "5f45cf3fe13f6bb2",
   "outputs": [],
   "execution_count": 198
  },
  {
   "metadata": {
    "ExecuteTime": {
     "end_time": "2025-01-25T16:14:50.575045Z",
     "start_time": "2025-01-25T16:12:28.800951Z"
    }
   },
   "cell_type": "code",
   "source": [
    "'''\n",
    "current_time_fast, best_result_fast , reliability_fast = a_star_on_speed_fixed(graph, start_stop_name, end_stop_name, start_time_minutes,  exclude_routes=set(), MIN_TRANSFER_TIME=3)\n",
    "'''"
   ],
   "id": "616aa47ff76a7f32",
   "outputs": [],
   "execution_count": 199
  },
  {
   "metadata": {
    "ExecuteTime": {
     "end_time": "2025-01-25T16:14:50.592219Z",
     "start_time": "2025-01-25T16:14:50.579653Z"
    }
   },
   "cell_type": "code",
   "source": "#current_time_fast, best_result_fast , reliability_fast",
   "id": "e09b50b68ed890fe",
   "outputs": [
    {
     "data": {
      "text/plain": [
       "(984.0,\n",
       " [('Schattendorf Kirchengasse', 870),\n",
       "  ('20-SV5-L-j24-1', 883.0, 888.0),\n",
       "  ('Loipersbach-Schattendorf Bhf.', 888.0),\n",
       "  ('3-R93-A-j24-1', 894.0, 898.0),\n",
       "  ('Marz-Rohrbach Bahnhof', 898.0),\n",
       "  ('3-R93-A-j24-1', 899.0, 901.0),\n",
       "  ('Mattersburg Bahnhof', 901.0),\n",
       "  ('3-R93-A-j24-1', 902.0, 903.0),\n",
       "  ('Mattersburg Nord Bahnhof', 903.0),\n",
       "  ('3-R93-A-j24-1', 904.0, 907.0),\n",
       "  ('Wiesen-Sigleß Bahnhof', 907.0),\n",
       "  ('3-R93-A-j24-1', 907.0, 911.0),\n",
       "  ('Bad Sauerbrunn Bahnhof', 911.0),\n",
       "  ('3-R93-A-j24-1', 913.0, 916.0),\n",
       "  ('Neudörfl Bahnhof', 916.0),\n",
       "  ('3-R93-A-j24-1', 917.0, 920.0),\n",
       "  ('Katzelsdorf Bahnhof', 920.0),\n",
       "  ('3-R93-A-j24-1', 920.0, 925.0),\n",
       "  ('Wiener Neustadt Hauptbahnhof', 925.0),\n",
       "  ('10-A12-j24-1', 930.0, 955.0),\n",
       "  ('Wien Meidling', 955.0),\n",
       "  ('10-A1-j24-1', 958.0, 963.0),\n",
       "  ('Wien Hauptbahnhof', 963.0),\n",
       "  ('10-A3-j24-1', 969.0, 984.0),\n",
       "  ('Flughafen Wien Bahnhof', 984.0)],\n",
       " np.float64(0.0462739710004139))"
      ]
     },
     "execution_count": 200,
     "metadata": {},
     "output_type": "execute_result"
    }
   ],
   "execution_count": 200
  },
  {
   "metadata": {
    "ExecuteTime": {
     "end_time": "2025-01-25T16:14:50.614618Z",
     "start_time": "2025-01-25T16:14:50.595241Z"
    }
   },
   "cell_type": "code",
   "source": [
    "\n",
    "\n",
    "def a_star_with_reliability_fixed(graph, start_name, end_name, start_time_minutes, \n",
    "                                  exclude_routes=set(), MIN_TRANSFER_TIME=7, stops_df=None):\n",
    "    pq = [(start_time_minutes, start_name, [], 1.0, None, 0)]  # (aktuelle Zeit, aktuelle Haltestelle, Pfad, Zuverlässigkeit, letzte Linie, Heuristik)\n",
    "    visited = set()\n",
    "    best_result = None  # Variable, um das beste Ergebnis zu speichern\n",
    "\n",
    "    while pq:\n",
    "        current_time, current_stop, path, reliability, last_route, _ = heapq.heappop(pq)\n",
    "\n",
    "        if (current_stop, current_time) in visited:\n",
    "            continue\n",
    "        visited.add((current_stop, current_time))\n",
    "\n",
    "        path = path + [(current_stop, current_time)]\n",
    "\n",
    "        # Überprüfe, ob das Ziel erreicht wurde\n",
    "        if current_stop == end_name:\n",
    "            # Hier speichern wir das erste Ergebnis, wenn das Ziel erreicht wurde\n",
    "            if best_result is None or new_reliability > best_result[2]:  # Wenn das Ziel früher erreicht wird\n",
    "                best_result = (current_time, path, reliability)\n",
    "\n",
    "\n",
    "        for neighbor, departure_time, arrival_time, route_id in graph[current_stop]:\n",
    "            if departure_time >= current_time and route_id not in exclude_routes:\n",
    "                # Prüfe, ob es ein Umstieg ist (Linienwechsel)\n",
    "                is_transfer = last_route is not None and last_route != route_id\n",
    "                if is_transfer:\n",
    "                    transfer_time = departure_time - current_time\n",
    "                    if transfer_time <= MIN_TRANSFER_TIME:\n",
    "                        continue  # Zu wenig Zeit für Umstieg\n",
    "\n",
    "                if not is_transfer:\n",
    "                    transfer_reliability = 1.0\n",
    "                else:\n",
    "                    transfer_reliability = compute_transfer_probability_with_departure_delay(transfer_time)\n",
    "\n",
    "                new_current_time = arrival_time\n",
    "                new_reliability = reliability * transfer_reliability\n",
    "\n",
    "                # Heuristik für A* (vereinfachte Schätzung der verbleibenden Zeit)\n",
    "                h = heuristic(neighbor, end_name, stops)\n",
    "\n",
    "                # Füge den nächsten Knoten zur Priority Queue hinzu\n",
    "                heapq.heappush(pq, (\n",
    "                    new_current_time,  # Gesamtbewertung: aktuelle Zeit + Heuristik\n",
    "                    neighbor,\n",
    "                    path + [(route_id, departure_time, arrival_time)],\n",
    "                    new_reliability,\n",
    "                    route_id,\n",
    "                    h\n",
    "                ))\n",
    "\n",
    "    # Gibt das beste Ergebnis zurück, wenn es existiert, andernfalls eine Fehlermeldung\n",
    "    if best_result:\n",
    "        return best_result\n",
    "    else:\n",
    "        return float(\"inf\"), [], 0.0  # Keine Route gefunden\n"
   ],
   "id": "5dab0cf3e50a4cd5",
   "outputs": [],
   "execution_count": 201
  },
  {
   "metadata": {
    "ExecuteTime": {
     "end_time": "2025-01-25T16:14:58.697293Z",
     "start_time": "2025-01-25T16:14:50.624871Z"
    }
   },
   "cell_type": "code",
   "source": [
    "''''\n",
    "current_time_rel, best_result_rel , reliability_rel = a_star_with_reliability_fixed(graph, start_stop_name, end_stop_name, start_time_minutes, exclude_routes=set(), MIN_TRANSFER_TIME=7)\n",
    "'''"
   ],
   "id": "c268e48717ae35f6",
   "outputs": [],
   "execution_count": 202
  },
  {
   "metadata": {
    "ExecuteTime": {
     "end_time": "2025-01-25T16:14:58.710565Z",
     "start_time": "2025-01-25T16:14:58.700344Z"
    }
   },
   "cell_type": "code",
   "source": "#current_time_rel, best_result_rel , reliability_rel",
   "id": "2712e7ee6351cefb",
   "outputs": [
    {
     "data": {
      "text/plain": [
       "(inf, [], 0.0)"
      ]
     },
     "execution_count": 203,
     "metadata": {},
     "output_type": "execute_result"
    }
   ],
   "execution_count": 203
  },
  {
   "metadata": {
    "ExecuteTime": {
     "end_time": "2025-01-25T16:16:28.031834Z",
     "start_time": "2025-01-25T16:16:28.025244Z"
    }
   },
   "cell_type": "code",
   "source": [
    "\n",
    "\n",
    "def a_star_backups(graph, path_fixed = best_result_fast):\n",
    "\n",
    "    backup_routes = []\n",
    "    \n",
    "    last_route = None\n",
    "    \n",
    "    for i in range(1, len(path_fixed) - 1, 2):  # Alle Umstiegspunkte durchgehen\n",
    "        transfer_stop, transfer_time = path_fixed[i - 1]\n",
    "        # Identifiziere alle Umstiegspunkte in der Route\n",
    "        # for i in range(1, len(path_fixed) - 1, 2):\n",
    "    \n",
    "        #adjusted_transfer_time = MIN_TRANSFER_TIME + 15\n",
    "        current_stop, current_time = path_fixed[i - 1]\n",
    "        route_id, departure_time, arrival_time = path_fixed[i]\n",
    "        next_stop, _ = path_fixed[i + 1]\n",
    "    \n",
    "        if route_id != last_route:\n",
    "                backup_time, backup_path, backup_reliability = a_star_with_reliability_fixed(\n",
    "                    graph, transfer_stop, path_fixed[-1][0], transfer_time, stops_df=None,MIN_TRANSFER_TIME=7\n",
    "                )\n",
    "                backup_routes.append([backup_time, backup_path, backup_reliability])\n",
    "        last_route = route_id\n",
    "        \n",
    "    return backup_routes"
   ],
   "id": "e9734b29935e44",
   "outputs": [],
   "execution_count": 206
  },
  {
   "metadata": {},
   "cell_type": "markdown",
   "source": "Main",
   "id": "e8fcb93869d91084"
  },
  {
   "metadata": {
    "ExecuteTime": {
     "end_time": "2025-01-25T16:46:40.950024Z",
     "start_time": "2025-01-25T16:35:15.005090Z"
    }
   },
   "cell_type": "code",
   "source": [
    "\n",
    "# Hauptpro©ƒgramm\n",
    "if __name__ == \"__main__\":\n",
    "\n",
    "    agency, stops, routes, trips, stop_times, calendar, calendar_dates, shapes = import_data()\n",
    "    '''\n",
    "    start_stop_name = \"Schattendorf Kirchengasse\"\n",
    "    end_stop_name = \"Flughafen Wien Bahnhof\"\n",
    "    start_datetime = \"2024-12-12 14:30:00\"\n",
    "    '''\n",
    "    start_stop_name = \"Wien Hauptbahnhof\"\n",
    "    end_stop_name = \"Eisenstadt Bahnhof\"\n",
    "    start_datetime = \"2024-12-12 14:30:00\"\n",
    "\n",
    "    time_budget = \"2:10\"\n",
    "    time_budget_hours, time_budget_minutes = map(int, time_budget.split(\":\"))\n",
    "    time_budget_minutes = time_budget_hours * 60 + time_budget_minutes / 60\n",
    "\n",
    "    start_time_obj = datetime.strptime(start_datetime, \"%Y-%m-%d %H:%M:%S\")\n",
    "    start_time_minutes = start_time_obj.hour * 60 + start_time_obj.minute\n",
    "\n",
    "    # In ein reines date-Objekt umwandeln\n",
    "    start_time_obj = datetime.strptime(start_datetime, \"%Y-%m-%d %H:%M:%S\")\n",
    "    end_time_obj = start_time_obj + timedelta(minutes=time_budget_minutes)\n",
    "    date_obj = start_time_obj.date()\n",
    "\n",
    "    start_time_minutes = start_time_obj.hour * 60 + start_time_obj.minute\n",
    "\n",
    "\n",
    "    #slow and correct\n",
    "    print(\"creating graph\")\n",
    "    graph = create_graph_with_schedule(stop_times, stops, trips, calendar, calendar_dates, start_time_obj, end_time_obj)\n",
    "    if start_stop_name not in graph or end_stop_name not in graph:\n",
    "        print(\"🚨 Ungültige Start- oder Zielhaltestelle!\")\n",
    "        #sys.exit()\n",
    "\n",
    "    # Haupt-Dijkstra-Lauf\n",
    "    print(\"A star\")\n",
    "    current_time_fast, best_result_fast , reliability_fast = a_star_on_speed_fixed(graph, start_stop_name, end_stop_name, start_time_minutes,  exclude_routes=set(), MIN_TRANSFER_TIME=3)\n",
    "\n",
    "    # Backup-Routen berechnen\n",
    "    print(\"backups\")\n",
    "    backup_routes = a_star_backups(graph,path_fixed = best_result_fast)\n",
    "\n",
    "    # Ergebnis anzeigen\n",
    "    if current_time_fast < float(\"inf\"):\n",
    "        arrival_time_fixed = minutes_to_time(current_time_fast)\n",
    "        print(f\"\\n📍 Optimierte zuverlässigste Route von {start_stop_name} nach {end_stop_name}:\")\n",
    "\n",
    "        last_route = None\n",
    "        grouped_routes = []\n",
    "\n",
    "        for i in range(1, len(best_result_fast) - 1, 2):\n",
    "            current_stop, current_time = best_result_fast[i - 1]\n",
    "            route_id, departure_time, arrival_time = best_result_fast[i]\n",
    "            next_stop, _ = best_result_fast[i + 1]\n",
    "\n",
    "            if route_id == last_route:\n",
    "                grouped_routes[-1][\"stops\"].append((next_stop, arrival_time))\n",
    "            else:\n",
    "                grouped_routes.append({\n",
    "                    \"route_id\": route_id,\n",
    "                    \"start_stop\": current_stop,\n",
    "                    \"departure_time\": departure_time,\n",
    "                    \"stops\": [(next_stop, arrival_time)]\n",
    "                })\n",
    "            last_route = route_id\n",
    "\n",
    "        for segment in grouped_routes:\n",
    "            start = segment[\"start_stop\"]\n",
    "            dep_time = minutes_to_time(segment[\"departure_time\"])\n",
    "            route = segment[\"route_id\"]\n",
    "            stops = \" → \".join([f\"{stop} (Ankunft: {minutes_to_time(arr)})\" for stop, arr in segment[\"stops\"]])\n",
    "            print(f\"  🚆 {start} (Abfahrt: {dep_time}) → {stops} mit Linie {route}\")\n",
    "\n",
    "        print(f\"\\n🎯 Endstation: {end_stop_name} (Ankunft: {arrival_time_fixed})\")\n",
    "        print(f\"🔹 Gesamt-Zuverlässigkeit der Route: {reliability_fast:.2f}\\n\")\n",
    "\n",
    "    \n",
    "    \n",
    "    \n",
    "        print(\"🔄 Backup-Routen:\")\n",
    "        if backup_routes:\n",
    "            print(\"\\n🔄 Backup-Routen:\")\n",
    "            for stop, path, reliability in backup_routes:\n",
    "                print(f\"  🔁 Backup von {stop}:\")\n",
    "                last_route = None\n",
    "                first_segment = True\n",
    "\n",
    "                for segment in path:\n",
    "                    start, dep_time, end, arr_time, route = segment\n",
    "\n",
    "                    if last_route == route:\n",
    "                        print(f\" → {end} (Ankunft: {arr_time})\", end=\"\")\n",
    "                    else:\n",
    "                        if not first_segment:\n",
    "                            print()\n",
    "                        print(f\"    🚆 {start} (Abfahrt: {dep_time}) → {end} (Ankunft: {arr_time}) mit Linie {route}\",\n",
    "                              end=\"\")\n",
    "                        first_segment = False\n",
    "\n",
    "                    last_route = route\n",
    "\n",
    "                print(f\"\\n    🔹 Zuverlässigkeit: {reliability:.2f}\\n\")\n",
    "        else:\n",
    "            print(\"  ❌ Keine Backup-Routen verfügbar.\")\n",
    "\n",
    "        print()\n",
    "    else:\n",
    "        print(f\"\\n⚠️ Keine zuverlässige Route von {start_stop_name} nach {end_stop_name} gefunden.\\n\")\n",
    "\n"
   ],
   "id": "285f9d9eb8a52f34",
   "outputs": [
    {
     "name": "stdout",
     "output_type": "stream",
     "text": [
      "creating graph\n",
      "Rows after time window filter: 32584\n"
     ]
    },
    {
     "name": "stderr",
     "output_type": "stream",
     "text": [
      "/var/folders/qw/jbl_sx2j4r114n9k1myblk6c0000gn/T/ipykernel_81996/2638892618.py:36: SettingWithCopyWarning: \n",
      "A value is trying to be set on a copy of a slice from a DataFrame.\n",
      "Try using .loc[row_indexer,col_indexer] = value instead\n",
      "\n",
      "See the caveats in the documentation: https://pandas.pydata.org/pandas-docs/stable/user_guide/indexing.html#returning-a-view-versus-a-copy\n",
      "  stop_times[\"service_id\"] = stop_times[\"trip_id\"].map(trip_id_to_service)\n"
     ]
    },
    {
     "name": "stdout",
     "output_type": "stream",
     "text": [
      "djikstra\n",
      "backups\n",
      "\n",
      "📍 Optimierte zuverlässigste Route von Flughafen Wien Bahnhof nach Seyring Bahnhof:\n",
      "  🚆 Flughafen Wien Bahnhof (Abfahrt: 14:33) → Wien Hauptbahnhof (Ankunft: 14:48) mit Linie 10-A1-j24-1\n",
      "  🚆 Wien Hauptbahnhof (Abfahrt: 14:57) → Wien Quartier Belvedere (Ankunft: 14:58) → Wien Rennweg (Ankunft: 15:01) → Wien Mitte-Landstraße (Ankunft: 15:03) → Wien Praterstern (Ankunft: 15:07) mit Linie 1-S3-W-j24-1\n",
      "  🚆 Wien Praterstern (Abfahrt: 15:17) → Wien Traisengasse (Ankunft: 15:20) → Wien Handelskai (Ankunft: 15:21) → Wien Floridsdorf (Ankunft: 15:25) → Wien Siemensstraße (Ankunft: 15:29) → Wien Leopoldau (Ankunft: 15:32) → Gerasdorf Bahnhof (Ankunft: 15:37) → Kapellerfeld Bahnhof (Ankunft: 15:39) → Seyring Bahnhof (Ankunft: 15:42) mit Linie 1-S2-W-j24-1\n",
      "\n",
      "🎯 Endstation: Seyring Bahnhof (Ankunft: 15:42)\n",
      "🔹 Gesamt-Zuverlässigkeit der Route: 0.68\n",
      "\n",
      "🔄 Backup-Routen:\n",
      "\n",
      "🔄 Backup-Routen:\n",
      "  🔁 Backup von 981.0:\n"
     ]
    },
    {
     "ename": "ValueError",
     "evalue": "not enough values to unpack (expected 5, got 2)",
     "output_type": "error",
     "traceback": [
      "\u001B[0;31m---------------------------------------------------------------------------\u001B[0m",
      "\u001B[0;31mValueError\u001B[0m                                Traceback (most recent call last)",
      "Cell \u001B[0;32mIn[209], line 90\u001B[0m\n\u001B[1;32m     87\u001B[0m first_segment \u001B[38;5;241m=\u001B[39m \u001B[38;5;28;01mTrue\u001B[39;00m\n\u001B[1;32m     89\u001B[0m \u001B[38;5;28;01mfor\u001B[39;00m segment \u001B[38;5;129;01min\u001B[39;00m path:\n\u001B[0;32m---> 90\u001B[0m     start, dep_time, end, arr_time, route \u001B[38;5;241m=\u001B[39m segment\n\u001B[1;32m     92\u001B[0m     \u001B[38;5;28;01mif\u001B[39;00m last_route \u001B[38;5;241m==\u001B[39m route:\n\u001B[1;32m     93\u001B[0m         \u001B[38;5;28mprint\u001B[39m(\u001B[38;5;124mf\u001B[39m\u001B[38;5;124m\"\u001B[39m\u001B[38;5;124m → \u001B[39m\u001B[38;5;132;01m{\u001B[39;00mend\u001B[38;5;132;01m}\u001B[39;00m\u001B[38;5;124m (Ankunft: \u001B[39m\u001B[38;5;132;01m{\u001B[39;00marr_time\u001B[38;5;132;01m}\u001B[39;00m\u001B[38;5;124m)\u001B[39m\u001B[38;5;124m\"\u001B[39m, end\u001B[38;5;241m=\u001B[39m\u001B[38;5;124m\"\u001B[39m\u001B[38;5;124m\"\u001B[39m)\n",
      "\u001B[0;31mValueError\u001B[0m: not enough values to unpack (expected 5, got 2)"
     ]
    }
   ],
   "execution_count": 209
  },
  {
   "metadata": {
    "ExecuteTime": {
     "end_time": "2025-01-25T17:59:05.998319Z",
     "start_time": "2025-01-25T17:59:05.990353Z"
    }
   },
   "cell_type": "code",
   "source": [
    "for i in range(len(backup_routes)):\n",
    "    print(\"Backup\")\n",
    "    for j in range(len(backup_routes[i])):\n",
    "        print(backup_routes[i][j])"
   ],
   "id": "fe07e5c86327a3a",
   "outputs": [
    {
     "name": "stdout",
     "output_type": "stream",
     "text": [
      "Backup\n",
      "981.0\n",
      "[('Flughafen Wien Bahnhof', 870), ('1-S7-W-j24-1', 885.0, 890.0), ('Fischamend Bahnhof', 890.0), ('1-S7-W-j24-1', 911.0, 915.0), ('Flughafen Wien Bahnhof', 915.0), ('1-S7-W-j24-1', 919.0, 923.0), ('Mannswörth Bahnhof', 923.0), ('1-S7-W-j24-1', 923.0, 925.0), ('Schwechat Bahnhof', 925.0), ('1-S7-W-j24-1', 926.0, 928.0), ('Wien Kaiserebersdorf', 928.0), ('1-S7-W-j24-1', 929.0, 932.0), ('Wien Zentralfriedhof', 932.0), ('1-S7-W-j24-1', 932.0, 935.0), ('Wien Geiselbergstraße', 935.0), ('1-S7-W-j24-1', 935.0, 937.0), ('Wien St. Marx', 937.0), ('1-S7-W-j24-1', 938.0, 940.0), ('Wien Rennweg', 940.0), ('1-S2-W-j24-1', 948.0, 950.0), ('Wien Mitte-Landstraße', 950.0), ('1-S2-W-j24-1', 951.0, 954.0), ('Wien Praterstern', 954.0), ('1-S2-W-j24-1', 956.0, 959.0), ('Wien Traisengasse', 959.0), ('1-S2-W-j24-1', 959.0, 960.0), ('Wien Handelskai', 960.0), ('1-S2-W-j24-1', 961.0, 964.0), ('Wien Floridsdorf', 964.0), ('1-S2-W-j24-1', 965.0, 968.0), ('Wien Siemensstraße', 968.0), ('1-S2-W-j24-1', 968.0, 971.0), ('Wien Leopoldau', 971.0), ('1-S2-W-j24-1', 972.0, 976.0), ('Gerasdorf Bahnhof', 976.0), ('1-S2-W-j24-1', 976.0, 978.0), ('Kapellerfeld Bahnhof', 978.0), ('1-S2-W-j24-1', 979.0, 981.0), ('Seyring Bahnhof', 981.0)]\n",
      "0.7452273455163944\n",
      "Backup\n",
      "979.0\n",
      "[('Wien Hauptbahnhof', 888.0), ('1-S2-W-j24-1', 890.0, 892.0), ('Wien Matzleinsdorfer Platz', 892.0), ('1-S2-W-j24-1', 893.0, 895.0), ('Wien Meidling', 895.0), ('1-S2-W-j24-1', 897.0, 900.0), ('Wien Hetzendorf', 900.0), ('1-S2-W-j24-1', 903.0, 906.0), ('Wien Meidling', 906.0), ('1-S2-W-j24-1', 908.0, 910.0), ('Wien Matzleinsdorfer Platz', 910.0), ('1-S2-W-j24-1', 911.0, 913.0), ('Wien Hauptbahnhof', 913.0), ('1-S2-W-j24-1', 914.0, 915.0), ('Wien Quartier Belvedere', 915.0), ('1-S2-W-j24-1', 915.0, 918.0), ('Wien Rennweg', 918.0), ('1-S2-W-j24-1', 918.0, 920.0), ('Wien Mitte-Landstraße', 920.0), ('1-S2-W-j24-1', 921.0, 924.0), ('Wien Praterstern', 924.0), ('1-S2-W-j24-1', 926.0, 929.0), ('Wien Traisengasse', 929.0), ('1-S2-W-j24-1', 929.0, 930.0), ('Wien Handelskai', 930.0), ('1-S2-W-j24-1', 931.0, 934.0), ('Wien Floridsdorf', 934.0), ('1-S2-W-j24-1', 935.0, 938.0), ('Wien Siemensstraße', 938.0), ('1-S2-W-j24-1', 938.0, 941.0), ('Wien Leopoldau', 941.0), ('1-S2-W-j24-1', 942.0, 946.0), ('Gerasdorf Bahnhof', 946.0), ('1-S2-W-j24-1', 946.0, 948.0), ('Kapellerfeld Bahnhof', 948.0), ('1-S2-W-j24-1', 949.0, 951.0), ('Seyring Bahnhof', 951.0), ('1-S2-W-j24-1', 951.0, 954.0), ('Obersdorf Bahnhof', 954.0), ('1-S2-W-j24-1', 954.0, 957.0), ('Wolkersdorf Bahnhof', 957.0), ('1-S2-W-j24-1', 959.0, 961.0), ('Ulrichskirchen Bahnhof', 961.0), ('1-S2-W-j24-1', 962.0, 964.0), ('Schleinbach Bahnhof', 964.0), ('1-S2-W-j24-1', 965.0, 968.0), ('Ulrichskirchen Bahnhof', 968.0), ('1-S2-W-j24-1', 968.0, 971.0), ('Wolkersdorf Bahnhof', 971.0), ('1-S2-W-j24-1', 973.0, 976.0), ('Obersdorf Bahnhof', 976.0), ('1-S2-W-j24-1', 976.0, 979.0), ('Seyring Bahnhof', 979.0)]\n",
      "1.0\n",
      "Backup\n",
      "942.0\n",
      "[('Wien Praterstern', 907.0), ('1-S2-W-j24-1', 917.0, 920.0), ('Wien Traisengasse', 920.0), ('1-S2-W-j24-1', 920.0, 921.0), ('Wien Handelskai', 921.0), ('1-S2-W-j24-1', 922.0, 925.0), ('Wien Floridsdorf', 925.0), ('1-S2-W-j24-1', 926.0, 929.0), ('Wien Siemensstraße', 929.0), ('1-S2-W-j24-1', 929.0, 932.0), ('Wien Leopoldau', 932.0), ('1-S2-W-j24-1', 933.0, 937.0), ('Gerasdorf Bahnhof', 937.0), ('1-S2-W-j24-1', 937.0, 939.0), ('Kapellerfeld Bahnhof', 939.0), ('1-S2-W-j24-1', 940.0, 942.0), ('Seyring Bahnhof', 942.0)]\n",
      "1.0\n"
     ]
    }
   ],
   "execution_count": 256
  },
  {
   "metadata": {
    "ExecuteTime": {
     "end_time": "2025-01-25T16:54:54.620275Z",
     "start_time": "2025-01-25T16:54:54.581105Z"
    }
   },
   "cell_type": "code",
   "source": [
    "from tabulate import tabulate\n",
    "\n",
    "def format_route_data(backup_routes):\n",
    "    # Wandelt die Daten in ein DataFrame um\n",
    "    result_data = []\n",
    "    for route in backup_routes:\n",
    "        reliability = route[2]  # Zuverlässigkeit\n",
    "        path = route[1]  # Pfadinformation\n",
    "        result_data.append([reliability, path])\n",
    "\n",
    "    df = pd.DataFrame(result_data, columns=[\"Reliability\", \"Path\"])\n",
    "\n",
    "    # Ausgabe der Tabelle mit tabulate\n",
    "    table = tabulate(df, headers='keys', tablefmt='pretty', showindex=False)\n",
    "    return table\n",
    "\n",
    "# Aufrufen der Funktion\n",
    "formatted_output = format_route_data(backup_routes)\n",
    "print(formatted_output)"
   ],
   "id": "1ed8489bfbeacf3c",
   "outputs": [
    {
     "name": "stdout",
     "output_type": "stream",
     "text": [
      "+--------------------+----------------------------------------------------------------------------------------------------------------------------------------------------------------------------------------------------------------------------------------------------------------------------------------------------------------------------------------------------------------------------------------------------------------------------------------------------------------------------------------------------------------------------------------------------------------------------------------------------------------------------------------------------------------------------------------------------------------------------------------------------------------------------------------------------------------------------------------------------------------------------------------------------------------------------------------------------------------------------------------------------------------------------------------------------------------------------------------------------------------------------------------------------------------------------------------------------------------------------------------------------------------------------------------------------------------------------------------------------------------------------------------------------------------------------------------------------------------------------------------------------------------------------------------------------------------------------------------------------------------------------------------------------------------------------------------------------------------------------------+\n",
      "|    Reliability     |                                                                                                                                                                                                                                                                                                                                                                                                                                                                                                                                                                                                                                                                                                                                                                                                                                                               Path                                                                                                                                                                                                                                                                                                                                                                                                                                                                                                                                                                                                                                                                                                                                                                                                                                                               |\n",
      "+--------------------+----------------------------------------------------------------------------------------------------------------------------------------------------------------------------------------------------------------------------------------------------------------------------------------------------------------------------------------------------------------------------------------------------------------------------------------------------------------------------------------------------------------------------------------------------------------------------------------------------------------------------------------------------------------------------------------------------------------------------------------------------------------------------------------------------------------------------------------------------------------------------------------------------------------------------------------------------------------------------------------------------------------------------------------------------------------------------------------------------------------------------------------------------------------------------------------------------------------------------------------------------------------------------------------------------------------------------------------------------------------------------------------------------------------------------------------------------------------------------------------------------------------------------------------------------------------------------------------------------------------------------------------------------------------------------------------------------------------------------------+\n",
      "| 0.7452273455163944 |                                                                                                                                                                                                                                [('Flughafen Wien Bahnhof', 870), ('1-S7-W-j24-1', 885.0, 890.0), ('Fischamend Bahnhof', 890.0), ('1-S7-W-j24-1', 911.0, 915.0), ('Flughafen Wien Bahnhof', 915.0), ('1-S7-W-j24-1', 919.0, 923.0), ('Mannswörth Bahnhof', 923.0), ('1-S7-W-j24-1', 923.0, 925.0), ('Schwechat Bahnhof', 925.0), ('1-S7-W-j24-1', 926.0, 928.0), ('Wien Kaiserebersdorf', 928.0), ('1-S7-W-j24-1', 929.0, 932.0), ('Wien Zentralfriedhof', 932.0), ('1-S7-W-j24-1', 932.0, 935.0), ('Wien Geiselbergstraße', 935.0), ('1-S7-W-j24-1', 935.0, 937.0), ('Wien St. Marx', 937.0), ('1-S7-W-j24-1', 938.0, 940.0), ('Wien Rennweg', 940.0), ('1-S2-W-j24-1', 948.0, 950.0), ('Wien Mitte-Landstraße', 950.0), ('1-S2-W-j24-1', 951.0, 954.0), ('Wien Praterstern', 954.0), ('1-S2-W-j24-1', 956.0, 959.0), ('Wien Traisengasse', 959.0), ('1-S2-W-j24-1', 959.0, 960.0), ('Wien Handelskai', 960.0), ('1-S2-W-j24-1', 961.0, 964.0), ('Wien Floridsdorf', 964.0), ('1-S2-W-j24-1', 965.0, 968.0), ('Wien Siemensstraße', 968.0), ('1-S2-W-j24-1', 968.0, 971.0), ('Wien Leopoldau', 971.0), ('1-S2-W-j24-1', 972.0, 976.0), ('Gerasdorf Bahnhof', 976.0), ('1-S2-W-j24-1', 976.0, 978.0), ('Kapellerfeld Bahnhof', 978.0), ('1-S2-W-j24-1', 979.0, 981.0), ('Seyring Bahnhof', 981.0)]                                                                                                                                                                                                                                |\n",
      "|        1.0         | [('Wien Hauptbahnhof', 888.0), ('1-S2-W-j24-1', 890.0, 892.0), ('Wien Matzleinsdorfer Platz', 892.0), ('1-S2-W-j24-1', 893.0, 895.0), ('Wien Meidling', 895.0), ('1-S2-W-j24-1', 897.0, 900.0), ('Wien Hetzendorf', 900.0), ('1-S2-W-j24-1', 903.0, 906.0), ('Wien Meidling', 906.0), ('1-S2-W-j24-1', 908.0, 910.0), ('Wien Matzleinsdorfer Platz', 910.0), ('1-S2-W-j24-1', 911.0, 913.0), ('Wien Hauptbahnhof', 913.0), ('1-S2-W-j24-1', 914.0, 915.0), ('Wien Quartier Belvedere', 915.0), ('1-S2-W-j24-1', 915.0, 918.0), ('Wien Rennweg', 918.0), ('1-S2-W-j24-1', 918.0, 920.0), ('Wien Mitte-Landstraße', 920.0), ('1-S2-W-j24-1', 921.0, 924.0), ('Wien Praterstern', 924.0), ('1-S2-W-j24-1', 926.0, 929.0), ('Wien Traisengasse', 929.0), ('1-S2-W-j24-1', 929.0, 930.0), ('Wien Handelskai', 930.0), ('1-S2-W-j24-1', 931.0, 934.0), ('Wien Floridsdorf', 934.0), ('1-S2-W-j24-1', 935.0, 938.0), ('Wien Siemensstraße', 938.0), ('1-S2-W-j24-1', 938.0, 941.0), ('Wien Leopoldau', 941.0), ('1-S2-W-j24-1', 942.0, 946.0), ('Gerasdorf Bahnhof', 946.0), ('1-S2-W-j24-1', 946.0, 948.0), ('Kapellerfeld Bahnhof', 948.0), ('1-S2-W-j24-1', 949.0, 951.0), ('Seyring Bahnhof', 951.0), ('1-S2-W-j24-1', 951.0, 954.0), ('Obersdorf Bahnhof', 954.0), ('1-S2-W-j24-1', 954.0, 957.0), ('Wolkersdorf Bahnhof', 957.0), ('1-S2-W-j24-1', 959.0, 961.0), ('Ulrichskirchen Bahnhof', 961.0), ('1-S2-W-j24-1', 962.0, 964.0), ('Schleinbach Bahnhof', 964.0), ('1-S2-W-j24-1', 965.0, 968.0), ('Ulrichskirchen Bahnhof', 968.0), ('1-S2-W-j24-1', 968.0, 971.0), ('Wolkersdorf Bahnhof', 971.0), ('1-S2-W-j24-1', 973.0, 976.0), ('Obersdorf Bahnhof', 976.0), ('1-S2-W-j24-1', 976.0, 979.0), ('Seyring Bahnhof', 979.0)] |\n",
      "|        1.0         |                                                                                                                                                                                                                                                                                                                                                                                                                                                                                                                                                                                            [('Wien Praterstern', 907.0), ('1-S2-W-j24-1', 917.0, 920.0), ('Wien Traisengasse', 920.0), ('1-S2-W-j24-1', 920.0, 921.0), ('Wien Handelskai', 921.0), ('1-S2-W-j24-1', 922.0, 925.0), ('Wien Floridsdorf', 925.0), ('1-S2-W-j24-1', 926.0, 929.0), ('Wien Siemensstraße', 929.0), ('1-S2-W-j24-1', 929.0, 932.0), ('Wien Leopoldau', 932.0), ('1-S2-W-j24-1', 933.0, 937.0), ('Gerasdorf Bahnhof', 937.0), ('1-S2-W-j24-1', 937.0, 939.0), ('Kapellerfeld Bahnhof', 939.0), ('1-S2-W-j24-1', 940.0, 942.0), ('Seyring Bahnhof', 942.0)]                                                                                                                                                                                                                                                                                                                                                                                                                                                                                                                                                                                             |\n",
      "+--------------------+----------------------------------------------------------------------------------------------------------------------------------------------------------------------------------------------------------------------------------------------------------------------------------------------------------------------------------------------------------------------------------------------------------------------------------------------------------------------------------------------------------------------------------------------------------------------------------------------------------------------------------------------------------------------------------------------------------------------------------------------------------------------------------------------------------------------------------------------------------------------------------------------------------------------------------------------------------------------------------------------------------------------------------------------------------------------------------------------------------------------------------------------------------------------------------------------------------------------------------------------------------------------------------------------------------------------------------------------------------------------------------------------------------------------------------------------------------------------------------------------------------------------------------------------------------------------------------------------------------------------------------------------------------------------------------------------------------------------------------+\n"
     ]
    }
   ],
   "execution_count": 213
  },
  {
   "metadata": {
    "ExecuteTime": {
     "end_time": "2025-01-25T17:21:04.308142Z",
     "start_time": "2025-01-25T17:21:04.279808Z"
    }
   },
   "cell_type": "code",
   "source": [
    "for i in range(1, len(backup_routes[2]) - 1, 2):\n",
    "    brf = backup_routes[2]\n",
    "    current_stop, current_time = brf[i - 1]\n",
    "    route_id, departure_time, arrival_time = brf[i]\n",
    "    next_stop, _ = brf[i + 1]"
   ],
   "id": "6286fcf6b5058afb",
   "outputs": [
    {
     "ename": "TypeError",
     "evalue": "cannot unpack non-iterable float object",
     "output_type": "error",
     "traceback": [
      "\u001B[0;31m---------------------------------------------------------------------------\u001B[0m",
      "\u001B[0;31mTypeError\u001B[0m                                 Traceback (most recent call last)",
      "Cell \u001B[0;32mIn[239], line 5\u001B[0m\n\u001B[1;32m      3\u001B[0m     \u001B[38;5;28;01mcontinue\u001B[39;00m\n\u001B[1;32m      4\u001B[0m brf \u001B[38;5;241m=\u001B[39m backup_routes[\u001B[38;5;241m2\u001B[39m]\n\u001B[0;32m----> 5\u001B[0m current_stop, current_time \u001B[38;5;241m=\u001B[39m brf[i \u001B[38;5;241m-\u001B[39m \u001B[38;5;241m1\u001B[39m]\n\u001B[1;32m      6\u001B[0m route_id, departure_time, arrival_time \u001B[38;5;241m=\u001B[39m brf[i]\n\u001B[1;32m      7\u001B[0m next_stop, _ \u001B[38;5;241m=\u001B[39m brf[i \u001B[38;5;241m+\u001B[39m \u001B[38;5;241m1\u001B[39m]\n",
      "\u001B[0;31mTypeError\u001B[0m: cannot unpack non-iterable float object"
     ]
    }
   ],
   "execution_count": 239
  },
  {
   "metadata": {
    "ExecuteTime": {
     "end_time": "2025-01-25T17:19:40.364761Z",
     "start_time": "2025-01-25T17:19:40.355612Z"
    }
   },
   "cell_type": "code",
   "source": "brf[i - 1]",
   "id": "ef66d434a2347ad0",
   "outputs": [
    {
     "data": {
      "text/plain": [
       "942.0"
      ]
     },
     "execution_count": 238,
     "metadata": {},
     "output_type": "execute_result"
    }
   ],
   "execution_count": 238
  },
  {
   "metadata": {
    "ExecuteTime": {
     "end_time": "2025-01-25T17:27:49.308251Z",
     "start_time": "2025-01-25T17:27:49.296802Z"
    }
   },
   "cell_type": "code",
   "source": "backup_routes\n",
   "id": "c1502ddb7caf6170",
   "outputs": [
    {
     "data": {
      "text/plain": [
       "[[[('Flughafen Wien Bahnhof', 870),\n",
       "   ('1-S7-W-j24-1', 885.0, 890.0),\n",
       "   ('Fischamend Bahnhof', 890.0),\n",
       "   ('1-S7-W-j24-1', 911.0, 915.0),\n",
       "   ('Flughafen Wien Bahnhof', 915.0),\n",
       "   ('1-S7-W-j24-1', 919.0, 923.0),\n",
       "   ('Mannswörth Bahnhof', 923.0),\n",
       "   ('1-S7-W-j24-1', 923.0, 925.0),\n",
       "   ('Schwechat Bahnhof', 925.0),\n",
       "   ('1-S7-W-j24-1', 926.0, 928.0),\n",
       "   ('Wien Kaiserebersdorf', 928.0),\n",
       "   ('1-S7-W-j24-1', 929.0, 932.0),\n",
       "   ('Wien Zentralfriedhof', 932.0),\n",
       "   ('1-S7-W-j24-1', 932.0, 935.0),\n",
       "   ('Wien Geiselbergstraße', 935.0),\n",
       "   ('1-S7-W-j24-1', 935.0, 937.0),\n",
       "   ('Wien St. Marx', 937.0),\n",
       "   ('1-S7-W-j24-1', 938.0, 940.0),\n",
       "   ('Wien Rennweg', 940.0),\n",
       "   ('1-S2-W-j24-1', 948.0, 950.0),\n",
       "   ('Wien Mitte-Landstraße', 950.0),\n",
       "   ('1-S2-W-j24-1', 951.0, 954.0),\n",
       "   ('Wien Praterstern', 954.0),\n",
       "   ('1-S2-W-j24-1', 956.0, 959.0),\n",
       "   ('Wien Traisengasse', 959.0),\n",
       "   ('1-S2-W-j24-1', 959.0, 960.0),\n",
       "   ('Wien Handelskai', 960.0),\n",
       "   ('1-S2-W-j24-1', 961.0, 964.0),\n",
       "   ('Wien Floridsdorf', 964.0),\n",
       "   ('1-S2-W-j24-1', 965.0, 968.0),\n",
       "   ('Wien Siemensstraße', 968.0),\n",
       "   ('1-S2-W-j24-1', 968.0, 971.0),\n",
       "   ('Wien Leopoldau', 971.0),\n",
       "   ('1-S2-W-j24-1', 972.0, 976.0),\n",
       "   ('Gerasdorf Bahnhof', 976.0),\n",
       "   ('1-S2-W-j24-1', 976.0, 978.0),\n",
       "   ('Kapellerfeld Bahnhof', 978.0),\n",
       "   ('1-S2-W-j24-1', 979.0, 981.0),\n",
       "   ('Seyring Bahnhof', 981.0)],\n",
       "  np.float64(0.7452273455163944)],\n",
       " [[('Wien Hauptbahnhof', 888.0),\n",
       "   ('1-S2-W-j24-1', 890.0, 892.0),\n",
       "   ('Wien Matzleinsdorfer Platz', 892.0),\n",
       "   ('1-S2-W-j24-1', 893.0, 895.0),\n",
       "   ('Wien Meidling', 895.0),\n",
       "   ('1-S2-W-j24-1', 897.0, 900.0),\n",
       "   ('Wien Hetzendorf', 900.0),\n",
       "   ('1-S2-W-j24-1', 903.0, 906.0),\n",
       "   ('Wien Meidling', 906.0),\n",
       "   ('1-S2-W-j24-1', 908.0, 910.0),\n",
       "   ('Wien Matzleinsdorfer Platz', 910.0),\n",
       "   ('1-S2-W-j24-1', 911.0, 913.0),\n",
       "   ('Wien Hauptbahnhof', 913.0),\n",
       "   ('1-S2-W-j24-1', 914.0, 915.0),\n",
       "   ('Wien Quartier Belvedere', 915.0),\n",
       "   ('1-S2-W-j24-1', 915.0, 918.0),\n",
       "   ('Wien Rennweg', 918.0),\n",
       "   ('1-S2-W-j24-1', 918.0, 920.0),\n",
       "   ('Wien Mitte-Landstraße', 920.0),\n",
       "   ('1-S2-W-j24-1', 921.0, 924.0),\n",
       "   ('Wien Praterstern', 924.0),\n",
       "   ('1-S2-W-j24-1', 926.0, 929.0),\n",
       "   ('Wien Traisengasse', 929.0),\n",
       "   ('1-S2-W-j24-1', 929.0, 930.0),\n",
       "   ('Wien Handelskai', 930.0),\n",
       "   ('1-S2-W-j24-1', 931.0, 934.0),\n",
       "   ('Wien Floridsdorf', 934.0),\n",
       "   ('1-S2-W-j24-1', 935.0, 938.0),\n",
       "   ('Wien Siemensstraße', 938.0),\n",
       "   ('1-S2-W-j24-1', 938.0, 941.0),\n",
       "   ('Wien Leopoldau', 941.0),\n",
       "   ('1-S2-W-j24-1', 942.0, 946.0),\n",
       "   ('Gerasdorf Bahnhof', 946.0),\n",
       "   ('1-S2-W-j24-1', 946.0, 948.0),\n",
       "   ('Kapellerfeld Bahnhof', 948.0),\n",
       "   ('1-S2-W-j24-1', 949.0, 951.0),\n",
       "   ('Seyring Bahnhof', 951.0),\n",
       "   ('1-S2-W-j24-1', 951.0, 954.0),\n",
       "   ('Obersdorf Bahnhof', 954.0),\n",
       "   ('1-S2-W-j24-1', 954.0, 957.0),\n",
       "   ('Wolkersdorf Bahnhof', 957.0),\n",
       "   ('1-S2-W-j24-1', 959.0, 961.0),\n",
       "   ('Ulrichskirchen Bahnhof', 961.0),\n",
       "   ('1-S2-W-j24-1', 962.0, 964.0),\n",
       "   ('Schleinbach Bahnhof', 964.0),\n",
       "   ('1-S2-W-j24-1', 965.0, 968.0),\n",
       "   ('Ulrichskirchen Bahnhof', 968.0),\n",
       "   ('1-S2-W-j24-1', 968.0, 971.0),\n",
       "   ('Wolkersdorf Bahnhof', 971.0),\n",
       "   ('1-S2-W-j24-1', 973.0, 976.0),\n",
       "   ('Obersdorf Bahnhof', 976.0),\n",
       "   ('1-S2-W-j24-1', 976.0, 979.0),\n",
       "   ('Seyring Bahnhof', 979.0)],\n",
       "  1.0],\n",
       " [[('Wien Praterstern', 907.0),\n",
       "   ('1-S2-W-j24-1', 917.0, 920.0),\n",
       "   ('Wien Traisengasse', 920.0),\n",
       "   ('1-S2-W-j24-1', 920.0, 921.0),\n",
       "   ('Wien Handelskai', 921.0),\n",
       "   ('1-S2-W-j24-1', 922.0, 925.0),\n",
       "   ('Wien Floridsdorf', 925.0),\n",
       "   ('1-S2-W-j24-1', 926.0, 929.0),\n",
       "   ('Wien Siemensstraße', 929.0),\n",
       "   ('1-S2-W-j24-1', 929.0, 932.0),\n",
       "   ('Wien Leopoldau', 932.0),\n",
       "   ('1-S2-W-j24-1', 933.0, 937.0),\n",
       "   ('Gerasdorf Bahnhof', 937.0),\n",
       "   ('1-S2-W-j24-1', 937.0, 939.0),\n",
       "   ('Kapellerfeld Bahnhof', 939.0),\n",
       "   ('1-S2-W-j24-1', 940.0, 942.0),\n",
       "   ('Seyring Bahnhof', 942.0)],\n",
       "  1.0]]"
      ]
     },
     "execution_count": 247,
     "metadata": {},
     "output_type": "execute_result"
    }
   ],
   "execution_count": 247
  },
  {
   "metadata": {
    "ExecuteTime": {
     "end_time": "2025-01-25T17:51:44.008131Z",
     "start_time": "2025-01-25T17:51:43.958613Z"
    }
   },
   "cell_type": "code",
   "source": [
    "\n",
    "    \n",
    "        \n",
    "print(f\"\\n📍 Optimierte zuverlässigste Route von {start_stop_name} nach {end_stop_name}:\")\n",
    "for x in range(len(backup_routes)):\n",
    "    print(\"Backup ab X\")\n",
    "    \n",
    "    last_route = None\n",
    "    grouped_routes = []\n",
    "    brf = backup_routes[x]\n",
    "    brf.pop(0)\n",
    "\n",
    "    for i in range(1, len(backup_routes[x]) - 1, 2):\n",
    "        \n",
    "        current_stop, current_time = brf[i - 1]\n",
    "        route_id, departure_time, arrival_time = brf[i]\n",
    "        next_stop, _ = brf[i + 1]\n",
    "\n",
    "        if route_id == last_route:\n",
    "            grouped_routes[-1][\"stops\"].append((next_stop, arrival_time))\n",
    "        else:\n",
    "            grouped_routes.append({\n",
    "                \"route_id\": route_id,\n",
    "                \"start_stop\": current_stop,\n",
    "                \"departure_time\": departure_time,\n",
    "                \"stops\": [(next_stop, arrival_time)]\n",
    "            })\n",
    "        \n",
    "        last_route = route_id\n",
    "        \n",
    "        for segment in grouped_routes:\n",
    "            start = segment[\"start_stop\"]\n",
    "            dep_time = minutes_to_time(segment[\"departure_time\"])\n",
    "            route = segment[\"route_id\"]\n",
    "            stops = \" → \".join([f\"{stop} (Ankunft: {minutes_to_time(arr)})\" for stop, arr in segment[\"stops\"]])\n",
    "            print(f\"  🚆 {start} (Abfahrt: {dep_time}) → {stops} mit Linie {route}\")\n",
    "    \n",
    "        print(f\"\\n🎯 Endstation: {end_stop_name} (Ankunft: {arrival_time_fixed})\")\n",
    "        print(f\"🔹 Gesamt-Zuverlässigkeit der Route: {reliability_fast:.2f}\\n\")\n",
    "        last_route = route_id\n",
    "\n",
    "\n",
    "# Generiere die formattierte Ausgabe\n",
    "\n",
    "\n"
   ],
   "id": "ca9aa8c723e5180a",
   "outputs": [
    {
     "name": "stdout",
     "output_type": "stream",
     "text": [
      "\n",
      "📍 Optimierte zuverlässigste Route von Flughafen Wien Bahnhof nach Seyring Bahnhof:\n",
      "Backup ab X\n",
      "Backup ab X\n",
      "Backup ab X\n"
     ]
    }
   ],
   "execution_count": 250
  },
  {
   "metadata": {},
   "cell_type": "code",
   "outputs": [],
   "execution_count": null,
   "source": [
    "for x in range(len(backup_routes)):\n",
    "    print(\"Backup ab X\")\n",
    "    \n",
    "    last_route = None\n",
    "    grouped_routes = []\n",
    "    brf = backup_routes[x]\n",
    "    brf.pop(0)\n",
    "\n",
    "    for i in range(1, len(backup_routes[x]) - 1, 2):\n",
    "        \n",
    "        current_stop, current_time = brf[i - 1]\n",
    "        route_id, departure_time, arrival_time = brf[i]\n",
    "        next_stop, _ = brf[i + 1]\n",
    "\n",
    "        if route_id == last_route:\n",
    "            grouped_routes[-1][\"stops\"].append((next_stop, arrival_time))\n",
    "        else:\n",
    "            grouped_routes.append({\n",
    "                \"route_id\": route_id,\n",
    "                \"start_stop\": current_stop,\n",
    "                \"departure_time\": departure_time,\n",
    "                \"stops\": [(next_stop, arrival_time)]\n",
    "            })"
   ],
   "id": "ac091b89e7a30f5a"
  },
  {
   "metadata": {
    "ExecuteTime": {
     "end_time": "2025-01-25T17:52:33.015076Z",
     "start_time": "2025-01-25T17:52:32.993333Z"
    }
   },
   "cell_type": "code",
   "source": [
    "backup_routes= [[981.0,\n",
    "  [('Flughafen Wien Bahnhof', 870),\n",
    "   ('1-S7-W-j24-1', 885.0, 890.0),\n",
    "   ('Fischamend Bahnhof', 890.0),\n",
    "   ('1-S7-W-j24-1', 911.0, 915.0),\n",
    "   ('Flughafen Wien Bahnhof', 915.0),\n",
    "   ('1-S7-W-j24-1', 919.0, 923.0),\n",
    "   ('Mannswörth Bahnhof', 923.0),\n",
    "   ('1-S7-W-j24-1', 923.0, 925.0),\n",
    "   ('Schwechat Bahnhof', 925.0),\n",
    "   ('1-S7-W-j24-1', 926.0, 928.0),\n",
    "   ('Wien Kaiserebersdorf', 928.0),\n",
    "   ('1-S7-W-j24-1', 929.0, 932.0),\n",
    "   ('Wien Zentralfriedhof', 932.0),\n",
    "   ('1-S7-W-j24-1', 932.0, 935.0),\n",
    "   ('Wien Geiselbergstraße', 935.0),\n",
    "   ('1-S7-W-j24-1', 935.0, 937.0),\n",
    "   ('Wien St. Marx', 937.0),\n",
    "   ('1-S7-W-j24-1', 938.0, 940.0),\n",
    "   ('Wien Rennweg', 940.0),\n",
    "   ('1-S2-W-j24-1', 948.0, 950.0),\n",
    "   ('Wien Mitte-Landstraße', 950.0),\n",
    "   ('1-S2-W-j24-1', 951.0, 954.0),\n",
    "   ('Wien Praterstern', 954.0),\n",
    "   ('1-S2-W-j24-1', 956.0, 959.0),\n",
    "   ('Wien Traisengasse', 959.0),\n",
    "   ('1-S2-W-j24-1', 959.0, 960.0),\n",
    "   ('Wien Handelskai', 960.0),\n",
    "   ('1-S2-W-j24-1', 961.0, 964.0),\n",
    "   ('Wien Floridsdorf', 964.0),\n",
    "   ('1-S2-W-j24-1', 965.0, 968.0),\n",
    "   ('Wien Siemensstraße', 968.0),\n",
    "   ('1-S2-W-j24-1', 968.0, 971.0),\n",
    "   ('Wien Leopoldau', 971.0),\n",
    "   ('1-S2-W-j24-1', 972.0, 976.0),\n",
    "   ('Gerasdorf Bahnhof', 976.0),\n",
    "   ('1-S2-W-j24-1', 976.0, 978.0),\n",
    "   ('Kapellerfeld Bahnhof', 978.0),\n",
    "   ('1-S2-W-j24-1', 979.0, 981.0),\n",
    "   ('Seyring Bahnhof', 981.0)],\n",
    "  np.float64(0.7452273455163944)],\n",
    " [979.0,\n",
    "  [('Wien Hauptbahnhof', 888.0),\n",
    "   ('1-S2-W-j24-1', 890.0, 892.0),\n",
    "   ('Wien Matzleinsdorfer Platz', 892.0),\n",
    "   ('1-S2-W-j24-1', 893.0, 895.0),\n",
    "   ('Wien Meidling', 895.0),\n",
    "   ('1-S2-W-j24-1', 897.0, 900.0),\n",
    "   ('Wien Hetzendorf', 900.0),\n",
    "   ('1-S2-W-j24-1', 903.0, 906.0),\n",
    "   ('Wien Meidling', 906.0),\n",
    "   ('1-S2-W-j24-1', 908.0, 910.0),\n",
    "   ('Wien Matzleinsdorfer Platz', 910.0),\n",
    "   ('1-S2-W-j24-1', 911.0, 913.0),\n",
    "   ('Wien Hauptbahnhof', 913.0),\n",
    "   ('1-S2-W-j24-1', 914.0, 915.0),\n",
    "   ('Wien Quartier Belvedere', 915.0),\n",
    "   ('1-S2-W-j24-1', 915.0, 918.0),\n",
    "   ('Wien Rennweg', 918.0),\n",
    "   ('1-S2-W-j24-1', 918.0, 920.0),\n",
    "   ('Wien Mitte-Landstraße', 920.0),\n",
    "   ('1-S2-W-j24-1', 921.0, 924.0),\n",
    "   ('Wien Praterstern', 924.0),\n",
    "   ('1-S2-W-j24-1', 926.0, 929.0),\n",
    "   ('Wien Traisengasse', 929.0),\n",
    "   ('1-S2-W-j24-1', 929.0, 930.0),\n",
    "   ('Wien Handelskai', 930.0),\n",
    "   ('1-S2-W-j24-1', 931.0, 934.0),\n",
    "   ('Wien Floridsdorf', 934.0),\n",
    "   ('1-S2-W-j24-1', 935.0, 938.0),\n",
    "   ('Wien Siemensstraße', 938.0),\n",
    "   ('1-S2-W-j24-1', 938.0, 941.0),\n",
    "   ('Wien Leopoldau', 941.0),\n",
    "   ('1-S2-W-j24-1', 942.0, 946.0),\n",
    "   ('Gerasdorf Bahnhof', 946.0),\n",
    "   ('1-S2-W-j24-1', 946.0, 948.0),\n",
    "   ('Kapellerfeld Bahnhof', 948.0),\n",
    "   ('1-S2-W-j24-1', 949.0, 951.0),\n",
    "   ('Seyring Bahnhof', 951.0),\n",
    "   ('1-S2-W-j24-1', 951.0, 954.0),\n",
    "   ('Obersdorf Bahnhof', 954.0),\n",
    "   ('1-S2-W-j24-1', 954.0, 957.0),\n",
    "   ('Wolkersdorf Bahnhof', 957.0),\n",
    "   ('1-S2-W-j24-1', 959.0, 961.0),\n",
    "   ('Ulrichskirchen Bahnhof', 961.0),\n",
    "   ('1-S2-W-j24-1', 962.0, 964.0),\n",
    "   ('Schleinbach Bahnhof', 964.0),\n",
    "   ('1-S2-W-j24-1', 965.0, 968.0),\n",
    "   ('Ulrichskirchen Bahnhof', 968.0),\n",
    "   ('1-S2-W-j24-1', 968.0, 971.0),\n",
    "   ('Wolkersdorf Bahnhof', 971.0),\n",
    "   ('1-S2-W-j24-1', 973.0, 976.0),\n",
    "   ('Obersdorf Bahnhof', 976.0),\n",
    "   ('1-S2-W-j24-1', 976.0, 979.0),\n",
    "   ('Seyring Bahnhof', 979.0)],\n",
    "  1.0],\n",
    " [942.0,\n",
    "  [('Wien Praterstern', 907.0),\n",
    "   ('1-S2-W-j24-1', 917.0, 920.0),\n",
    "   ('Wien Traisengasse', 920.0),\n",
    "   ('1-S2-W-j24-1', 920.0, 921.0),\n",
    "   ('Wien Handelskai', 921.0),\n",
    "   ('1-S2-W-j24-1', 922.0, 925.0),\n",
    "   ('Wien Floridsdorf', 925.0),\n",
    "   ('1-S2-W-j24-1', 926.0, 929.0),\n",
    "   ('Wien Siemensstraße', 929.0),\n",
    "   ('1-S2-W-j24-1', 929.0, 932.0),\n",
    "   ('Wien Leopoldau', 932.0),\n",
    "   ('1-S2-W-j24-1', 933.0, 937.0),\n",
    "   ('Gerasdorf Bahnhof', 937.0),\n",
    "   ('1-S2-W-j24-1', 937.0, 939.0),\n",
    "   ('Kapellerfeld Bahnhof', 939.0),\n",
    "   ('1-S2-W-j24-1', 940.0, 942.0),\n",
    "   ('Seyring Bahnhof', 942.0)],\n",
    "  1.0]]\n"
   ],
   "id": "88f8dcc6285fd67a",
   "outputs": [],
   "execution_count": 251
  },
  {
   "metadata": {
    "ExecuteTime": {
     "end_time": "2025-01-25T17:04:36.247732Z",
     "start_time": "2025-01-25T17:04:36.239208Z"
    }
   },
   "cell_type": "code",
   "source": "import numpy as np",
   "id": "3988aa73bf74dd36",
   "outputs": [],
   "execution_count": 220
  }
 ],
 "metadata": {
  "kernelspec": {
   "display_name": "Python 3",
   "language": "python",
   "name": "python3"
  },
  "language_info": {
   "codemirror_mode": {
    "name": "ipython",
    "version": 2
   },
   "file_extension": ".py",
   "mimetype": "text/x-python",
   "name": "python",
   "nbconvert_exporter": "python",
   "pygments_lexer": "ipython2",
   "version": "2.7.6"
  }
 },
 "nbformat": 4,
 "nbformat_minor": 5
}
