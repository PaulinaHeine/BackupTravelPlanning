{
 "cells": [
  {
   "metadata": {},
   "cell_type": "markdown",
   "source": "Import of Packages",
   "id": "1aa238fa957aaa40"
  },
  {
   "cell_type": "code",
   "id": "initial_id",
   "metadata": {
    "collapsed": true,
    "ExecuteTime": {
     "end_time": "2025-01-22T09:30:56.926064Z",
     "start_time": "2025-01-22T09:30:54.529793Z"
    }
   },
   "source": [
    "import scipy.stats as stats\n",
    "import heapq\n",
    "from collections import defaultdict\n",
    "#from Code.import_data import import_data\n",
    "from datetime import datetime, timedelta\n",
    "import pandas as pd"
   ],
   "outputs": [],
   "execution_count": 2
  },
  {
   "metadata": {},
   "cell_type": "markdown",
   "source": "Import of Data",
   "id": "a7476dc616a344e5"
  },
  {
   "metadata": {
    "ExecuteTime": {
     "end_time": "2025-01-22T09:30:56.941624Z",
     "start_time": "2025-01-22T09:30:56.931850Z"
    }
   },
   "cell_type": "code",
   "source": [
    "\n",
    "def import_data():\n",
    "    # @diana and denis, change to your directory\n",
    "    gtfs_dir = '/Users/paulinaheine/Codes/BackupTravelPlanning/GTFS_OP_2024_obb-2/'\n",
    "\n",
    "    # Load data\n",
    "    agency_df = pd.read_csv(gtfs_dir + 'agency.txt')\n",
    "    stops_df = pd.read_csv(gtfs_dir + 'stops.txt')\n",
    "    routes_df = pd.read_csv(gtfs_dir + 'routes.txt')\n",
    "    trips_df = pd.read_csv(gtfs_dir + 'trips.txt')\n",
    "    stop_times_df = pd.read_csv(gtfs_dir + 'stop_times.txt')\n",
    "    calendar_df = pd.read_csv(gtfs_dir + 'calendar.txt')\n",
    "    calendar_dates_df = pd.read_csv(gtfs_dir + 'calendar_dates.txt')\n",
    "    shapes_df = pd.read_csv(gtfs_dir + 'shapes.txt')\n",
    "    \n",
    "    # Return all DataFrames\n",
    "    return agency_df, stops_df, routes_df, trips_df, stop_times_df, calendar_df, calendar_dates_df, shapes_df\n",
    "\n",
    "# Import and display data\n"
   ],
   "id": "6dbda37a5cf4a02",
   "outputs": [],
   "execution_count": 3
  },
  {
   "metadata": {},
   "cell_type": "markdown",
   "source": "Helping Functions",
   "id": "db438fd723298b46"
  },
  {
   "metadata": {
    "ExecuteTime": {
     "end_time": "2025-01-22T09:30:56.959153Z",
     "start_time": "2025-01-22T09:30:56.945159Z"
    }
   },
   "cell_type": "code",
   "source": [
    "def time_to_minutes(time_str):\n",
    "    hours, minutes, seconds = map(int, time_str.split(\":\"))\n",
    "    return hours * 60 + minutes + seconds / 60\n",
    "\n",
    "def minutes_to_time(minutes):\n",
    "    hours = int(minutes // 60)\n",
    "    minutes = int(minutes % 60)\n",
    "    return f\"{hours:02d}:{minutes:02d}\"\n",
    "\n",
    "def get_weekday(date):\n",
    "    weekdays = [\"monday\", \"tuesday\", \"wednesday\", \"thursday\", \"friday\", \"saturday\", \"sunday\"]\n",
    "    return weekdays[date.weekday()]\n",
    "\n",
    "def is_service_available(service_id, start_time_obj, calendar, calendar_dates):\n",
    "    #date_str = date.strftime(\"%Y%m%d\")\n",
    "    #date = date.date()\n",
    "    # Convert date to string in YYYYMMDD format\n",
    "    date_str = start_time_obj.strftime(\"%Y%m%d\")\n",
    "    weekday = [\"monday\", \"tuesday\", \"wednesday\", \"thursday\", \"friday\", \"saturday\", \"sunday\"][start_time_obj.weekday()]\n",
    "\n",
    "    # Step 1: Check for exceptions in calendar_dates\n",
    "    if service_id in calendar_dates[\"service_id\"].values:\n",
    "        exceptions = calendar_dates[calendar_dates[\"service_id\"] == service_id]\n",
    "        for _, exception in exceptions.iterrows():\n",
    "            if exception[\"date\"] == int(date_str):\n",
    "                if exception[\"exception_type\"] == 2:  # Service is added as an exception\n",
    "                    return True\n",
    "                #elif exception[\"exception_type\"] == 1:  # Service is removed as an exception\n",
    "                #    return False\n",
    "\n",
    "    # Step 2: Check for regular service in calendar\n",
    "    if service_id in calendar[\"service_id\"].values:\n",
    "        service = calendar[calendar[\"service_id\"] == service_id]\n",
    "        # Check if date is within start_date and end_date\n",
    "        if int(service[\"start_date\"].iloc[0]) <= int(date_str) <= int(service[\"end_date\"].iloc[0]):\n",
    "            # Check if the service operates on this weekday\n",
    "            is_available = (service[weekday].iloc[0] == 1)\n",
    "            if is_available == 1:\n",
    "                return True\n",
    "    return False\n",
    "\n",
    "def prepare_calendar_dates(calendar_dates):\n",
    "    grouped = calendar_dates.groupby(\"service_id\")\n",
    "    calendar_dates_dict = {}\n",
    "    for service_id, group in grouped:\n",
    "        exceptions = group.to_dict(orient=\"records\")\n",
    "        calendar_dates_dict[service_id] = exceptions\n",
    "    return calendar_dates_dict"
   ],
   "id": "4ea20b531303739b",
   "outputs": [],
   "execution_count": 4
  },
  {
   "metadata": {
    "ExecuteTime": {
     "end_time": "2025-01-22T09:31:16.562438Z",
     "start_time": "2025-01-22T09:31:02.038113Z"
    }
   },
   "cell_type": "code",
   "source": "agency, stops, routes, trips, stop_times, calendar, calendar_dates, shapes = import_data()",
   "id": "b3dfb65b16f2be1",
   "outputs": [],
   "execution_count": 6
  },
  {
   "metadata": {},
   "cell_type": "markdown",
   "source": "Create Graph",
   "id": "79f58bfb3daae85b"
  },
  {
   "metadata": {
    "ExecuteTime": {
     "end_time": "2025-01-22T09:31:16.594063Z",
     "start_time": "2025-01-22T09:31:16.570132Z"
    }
   },
   "cell_type": "code",
   "source": [
    "def create_graph_with_schedule(stop_times, stops, trips, calendar, calendar_dates, start_time_obj, end_time_obj):\n",
    "    '''\n",
    "    funktioniert endlich, if not wurde entfernt weil es mich genervt hat 3-4 min \n",
    "    '''\n",
    "\n",
    "    graph = defaultdict(list)\n",
    "    stop_id_to_name = stops.set_index(\"stop_id\")[\"stop_name\"].to_dict()\n",
    "    # Filter for active trips today using is_service\n",
    "    trip_id_to_service = trips.set_index(\"trip_id\")[\"service_id\"].to_dict()\n",
    "    trip_id_to_route = trips.set_index(\"trip_id\")[\"route_id\"].to_dict()\n",
    "\n",
    "    calendar_dates_2 = prepare_calendar_dates(calendar_dates)\n",
    "    stop_times = stop_times.sort_values(by=[\"trip_id\", \"stop_sequence\"])\n",
    "\n",
    "    #####\n",
    "    #Filter\n",
    "    #####\n",
    "\n",
    "    stop_times_copy = stop_times.copy()\n",
    "    # Filter out stops outside the time window\n",
    "    stop_times_copy[\"arrival_minutes\"] = stop_times_copy[\"arrival_time\"].apply(time_to_minutes)\n",
    "    stop_times_copy[\"departure_minutes\"] = stop_times_copy[\"departure_time\"].apply(time_to_minutes)\n",
    "\n",
    "    start_minutes = time_to_minutes(start_time_obj.strftime(\"%H:%M:%S\"))\n",
    "    end_minutes = time_to_minutes(end_time_obj.strftime(\"%H:%M:%S\"))\n",
    "\n",
    "    stop_times = stop_times_copy[\n",
    "        (stop_times_copy[\"arrival_minutes\"] >= start_minutes) &\n",
    "        (stop_times_copy[\"departure_minutes\"] <= end_minutes)\n",
    "        ]\n",
    "\n",
    "    print(f\"Rows after time window filter: {len(stop_times)}\")\n",
    "\n",
    "\n",
    "    #trip_id_to_service = trips.set_index(\"trip_id\")[\"service_id\"].to_dict()\n",
    "    stop_times[\"service_id\"] = stop_times[\"trip_id\"].map(trip_id_to_service)\n",
    "\n",
    "    grouped = stop_times.groupby(\"trip_id\")\n",
    "    for trip_id, group in grouped:\n",
    "        service_id = trip_id_to_service.get(trip_id)\n",
    "        \n",
    "        if is_service_available(service_id, start_time_obj, calendar, calendar_dates) == True:\n",
    "    \n",
    "            stops = group[\"stop_id\"].tolist()\n",
    "            departures = group[\"departure_time\"].apply(time_to_minutes).tolist()\n",
    "            arrivals = group[\"arrival_time\"].apply(time_to_minutes).tolist()\n",
    "    \n",
    "            for start, end, dep, arr in zip(stops[:-1], stops[1:], departures[:-1], arrivals[1:]):\n",
    "                travel_time = arr - dep\n",
    "                if travel_time > 0:\n",
    "                    graph[stop_id_to_name[start]].append(\n",
    "                        (stop_id_to_name[end], dep, arr, trip_id_to_route.get(trip_id))\n",
    "                    )\n",
    "\n",
    "    return graph\n"
   ],
   "id": "10f80925c6c5125e",
   "outputs": [],
   "execution_count": 7
  },
  {
   "metadata": {},
   "cell_type": "markdown",
   "source": "Reliability function",
   "id": "9b8a7414cde9e2db"
  },
  {
   "metadata": {
    "ExecuteTime": {
     "end_time": "2025-01-22T09:31:16.601007Z",
     "start_time": "2025-01-22T09:31:16.596675Z"
    }
   },
   "cell_type": "code",
   "source": [
    "def compute_transfer_probability_with_departure_delay(transfer_time):\n",
    "    #transfer_window = departure_time - scheduled_arrival\n",
    "    #if transfer_window < 0:\n",
    "    #    return 0.1  # No chance of a successful transfer if arrival is after departure\n",
    "    return stats.gamma.cdf(transfer_time, a=2, scale=3)\n"
   ],
   "id": "b9209559e07202bf",
   "outputs": [],
   "execution_count": 8
  },
  {
   "metadata": {},
   "cell_type": "markdown",
   "source": "Djikstra",
   "id": "ee7bb4a7c2644aad"
  },
  {
   "metadata": {
    "ExecuteTime": {
     "end_time": "2025-01-22T11:11:02.362846Z",
     "start_time": "2025-01-22T11:11:02.349284Z"
    }
   },
   "cell_type": "code",
   "source": [
    "def dijkstra_with_reliability_fixed(graph, start_name, end_name, start_time_minutes, time_budget_minutes,\n",
    "                                    exclude_routes=set(), MIN_TRANSFER_TIME= 2):\n",
    "    pq = [(start_time_minutes, start_name, [], 1.0,\n",
    "           None)]  # (aktuelle Zeit, aktuelle Haltestelle, Pfad, Zuverlässigkeit, letzte Linie)\n",
    "    visited = set()\n",
    "    # Mindestumstiegszeit in Minuten\n",
    "\n",
    "    while pq:\n",
    "        current_time, current_stop, path, reliability, last_route = heapq.heappop(pq)\n",
    "\n",
    "        if (current_stop, current_time) in visited:\n",
    "            continue\n",
    "        visited.add((current_stop, current_time))\n",
    "\n",
    "        path = path + [(current_stop, current_time)]\n",
    "\n",
    "        if current_time - start_time_minutes > time_budget_minutes:\n",
    "            continue  # Pruning: Abbruch, wenn Zeitbudget überschritten\n",
    "\n",
    "        for neighbor, departure_time, arrival_time, route_id in graph[current_stop]:\n",
    "            if departure_time >= current_time and route_id not in exclude_routes:\n",
    "                # Prüfe, ob es ein Umstieg ist (Linienwechsel)\n",
    "                is_transfer = last_route is not None and last_route != route_id\n",
    "                if is_transfer:\n",
    "                    # Mindestumstiegszeit von 5 Minuten nur bei Umstiegen\n",
    "                    transfer_time = departure_time - current_time\n",
    "                    if transfer_time < MIN_TRANSFER_TIME:\n",
    "                        continue  # Pruning: Zu wenig Zeit für Umstieg\n",
    "\n",
    "                # Berechne neue Zuverlässigkeit mit Transferwahrscheinlichkeit\n",
    "                if not is_transfer:  # Keine Zuverlässigkeitsänderung bei gleicher Linie\n",
    "                    transfer_reliability = 1.0\n",
    "                else:\n",
    "                    transfer_reliability = compute_transfer_probability_with_departure_delay(transfer_time)\n",
    "\n",
    "                new_current_time = arrival_time\n",
    "                new_reliability = reliability * transfer_reliability\n",
    "\n",
    "                heapq.heappush(pq, (\n",
    "                    new_current_time, neighbor, path + [(route_id, departure_time, arrival_time)], new_reliability,\n",
    "                    route_id))\n",
    "\n",
    "        if current_stop == end_name:\n",
    "            return current_time, path, reliability\n",
    "\n",
    "    return float(\"inf\"), [], 0.0  # Keine Route gefunden"
   ],
   "id": "f536d986d8217fcb",
   "outputs": [],
   "execution_count": 102
  },
  {
   "metadata": {},
   "cell_type": "markdown",
   "source": "Backup Djikstra",
   "id": "680e98e7ec562ee5"
  },
  {
   "metadata": {
    "ExecuteTime": {
     "end_time": "2025-01-22T09:31:16.633422Z",
     "start_time": "2025-01-22T09:31:16.619915Z"
    }
   },
   "cell_type": "code",
   "source": [
    "\n",
    "def find_backup_routes(graph, primary_path, start_time_minutes, time_budget_minutes):\n",
    "    backup_routes = []\n",
    "    used_routes = {segment[0] for segment in primary_path if isinstance(segment, tuple) and len(segment) == 3}\n",
    "\n",
    "    for i in range(1, len(primary_path) - 1, 2):  # Alle Umstiegspunkte durchgehen\n",
    "        transfer_stop, transfer_time = primary_path[i - 1]\n",
    "\n",
    "        if transfer_stop in graph:\n",
    "            backup_time, backup_path, backup_reliability = dijkstra_with_reliability_fixed(\n",
    "                graph, transfer_stop, primary_path[-1][0], transfer_time, time_budget_minutes, used_routes\n",
    "            )\n",
    "\n",
    "            if backup_time < float(\"inf\") and backup_path and backup_path != primary_path:\n",
    "                alternative_path = []\n",
    "                alternative_routes = set()\n",
    "\n",
    "                for j in range(1, len(backup_path) - 1, 2):\n",
    "                    stop1, time1 = backup_path[j - 1]\n",
    "                    route, dep, arr = backup_path[j]\n",
    "                    stop2, _ = backup_path[j + 1]\n",
    "\n",
    "                    # **Kriterium für alternative Backup-Route:**\n",
    "                    # - Die Route darf nicht exakt der Primärroute entsprechen.\n",
    "                    # - Die Haltestellen dürfen wiederverwendet werden, aber nicht in identischen Abschnitten.\n",
    "                    if route not in used_routes:\n",
    "                        alternative_path.append((stop1, minutes_to_time(dep), stop2, minutes_to_time(arr), route))\n",
    "                        alternative_routes.add(route)\n",
    "\n",
    "                if alternative_path:\n",
    "                    backup_routes.append((transfer_stop, alternative_path, backup_reliability))\n",
    "                    used_routes.update(alternative_routes)  # Speichere die genutzten alternativen Linien\n",
    "\n",
    "    return backup_routes  # Gibt jetzt echte alternative Backup-Routen zurück\n",
    "\n",
    "# TODO Only exlude route before transfer and one after\n",
    "# TODO search for mreliable\n",
    "# TODO Backup rout would start at leats at departure time of missed connection\n",
    "\n"
   ],
   "id": "b40257c013a3ed4b",
   "outputs": [],
   "execution_count": 10
  },
  {
   "metadata": {},
   "cell_type": "markdown",
   "source": "MAIN",
   "id": "5e8dc3f300be25f4"
  },
  {
   "metadata": {
    "ExecuteTime": {
     "end_time": "2025-01-22T09:35:08.030550Z",
     "start_time": "2025-01-22T09:31:16.639162Z"
    }
   },
   "cell_type": "code",
   "source": [
    "\n",
    "# Hauptprogramm\n",
    "if __name__ == \"__main__\":\n",
    "\n",
    "    agency, stops, routes, trips, stop_times, calendar, calendar_dates, shapes = import_data()\n",
    "\n",
    "    start_stop_name = \"Schattendorf Kirchengasse\"\n",
    "    end_stop_name = \"Flughafen Wien Bahnhof\"\n",
    "    start_datetime = \"2024-12-12 14:30:00\"\n",
    "\n",
    "    time_budget = \"2:10\"\n",
    "    time_budget_hours, time_budget_minutes = map(int, time_budget.split(\":\"))\n",
    "    time_budget_minutes = time_budget_hours * 60 + time_budget_minutes / 60\n",
    "\n",
    "    start_time_obj = datetime.strptime(start_datetime, \"%Y-%m-%d %H:%M:%S\")\n",
    "    start_time_minutes = start_time_obj.hour * 60 + start_time_obj.minute\n",
    "\n",
    "    # In ein reines date-Objekt umwandeln\n",
    "    start_time_obj = datetime.strptime(start_datetime, \"%Y-%m-%d %H:%M:%S\")\n",
    "    end_time_obj = start_time_obj + timedelta(minutes=time_budget_minutes)\n",
    "    date_obj = start_time_obj.date()\n",
    "\n",
    "    start_time_minutes = start_time_obj.hour * 60 + start_time_obj.minute\n",
    "\n",
    "    #fast and weird\n",
    "    #graph = create_graph_with_schedule(stop_times, stops, trips, calendar, calendar_dates, start_time_obj)\n",
    "\n",
    "    #slow and correct\n",
    "    print(\"creating graph\")\n",
    "    graph = create_graph_with_schedule(stop_times, stops, trips, calendar, calendar_dates, start_time_obj, end_time_obj)\n",
    "    if start_stop_name not in graph or end_stop_name not in graph:\n",
    "        print(\"🚨 Ungültige Start- oder Zielhaltestelle!\")\n",
    "        #sys.exit()\n",
    "\n",
    "    # Haupt-Dijkstra-Lauf\n",
    "    print(\"djikstra\")\n",
    "    arrival_time_minutes_fixed, path_fixed, reliability_fixed = dijkstra_with_reliability_fixed(\n",
    "        graph, start_stop_name, end_stop_name, start_time_minutes, time_budget_minutes,MIN_TRANSFER_TIME=5\n",
    "    )\n",
    "\n",
    "    # Backup-Routen berechnen\n",
    "    print(\"backups\")\n",
    "    backup_routes = find_backup_routes(graph, path_fixed, start_time_minutes, time_budget_minutes = 3000, MIN_TRANSFER_TIME= 10)\n",
    "\n",
    "    # Ergebnis anzeigen\n",
    "    if arrival_time_minutes_fixed < float(\"inf\"):\n",
    "        arrival_time_fixed = minutes_to_time(arrival_time_minutes_fixed)\n",
    "        print(f\"\\n📍 Optimierte zuverlässigste Route von {start_stop_name} nach {end_stop_name}:\")\n",
    "\n",
    "        last_route = None\n",
    "        grouped_routes = []\n",
    "\n",
    "        for i in range(1, len(path_fixed) - 1, 2):\n",
    "            current_stop, current_time = path_fixed[i - 1]\n",
    "            route_id, departure_time, arrival_time = path_fixed[i]\n",
    "            next_stop, _ = path_fixed[i + 1]\n",
    "\n",
    "            if route_id == last_route:\n",
    "                grouped_routes[-1][\"stops\"].append((next_stop, arrival_time))\n",
    "            else:\n",
    "                grouped_routes.append({\n",
    "                    \"route_id\": route_id,\n",
    "                    \"start_stop\": current_stop,\n",
    "                    \"departure_time\": departure_time,\n",
    "                    \"stops\": [(next_stop, arrival_time)]\n",
    "                })\n",
    "            last_route = route_id\n",
    "\n",
    "        for segment in grouped_routes:\n",
    "            start = segment[\"start_stop\"]\n",
    "            dep_time = minutes_to_time(segment[\"departure_time\"])\n",
    "            route = segment[\"route_id\"]\n",
    "            stops = \" → \".join([f\"{stop} (Ankunft: {minutes_to_time(arr)})\" for stop, arr in segment[\"stops\"]])\n",
    "            print(f\"  🚆 {start} (Abfahrt: {dep_time}) → {stops} mit Linie {route}\")\n",
    "\n",
    "        print(f\"\\n🎯 Endstation: {end_stop_name} (Ankunft: {arrival_time_fixed})\")\n",
    "        print(f\"🔹 Gesamt-Zuverlässigkeit der Route: {reliability_fixed:.2f}\\n\")\n",
    "\n",
    "\n",
    "        print(\"🔄 Backup-Routen:\")\n",
    "        if backup_routes:\n",
    "            print(\"\\n🔄 Backup-Routen:\")\n",
    "            for stop, path, reliability in backup_routes:\n",
    "                print(f\"  🔁 Backup von {stop}:\")\n",
    "                last_route = None\n",
    "                first_segment = True\n",
    "\n",
    "                for segment in path:\n",
    "                    start, dep_time, end, arr_time, route = segment\n",
    "\n",
    "                    if last_route == route:\n",
    "                        print(f\" → {end} (Ankunft: {arr_time})\", end=\"\")\n",
    "                    else:\n",
    "                        if not first_segment:\n",
    "                            print()\n",
    "                        print(f\"    🚆 {start} (Abfahrt: {dep_time}) → {end} (Ankunft: {arr_time}) mit Linie {route}\",\n",
    "                              end=\"\")\n",
    "                        first_segment = False\n",
    "\n",
    "                    last_route = route\n",
    "\n",
    "                print(f\"\\n    🔹 Zuverlässigkeit: {reliability:.2f}\\n\")\n",
    "        else:\n",
    "            print(\"  ❌ Keine Backup-Routen verfügbar.\")\n",
    "\n",
    "        print()\n",
    "    else:\n",
    "        print(f\"\\n⚠️ Keine zuverlässige Route von {start_stop_name} nach {end_stop_name} gefunden.\\n\")\n",
    "\n"
   ],
   "id": "285f9d9eb8a52f34",
   "outputs": [
    {
     "name": "stdout",
     "output_type": "stream",
     "text": [
      "creating graph\n",
      "Rows after time window filter: 32584\n"
     ]
    },
    {
     "name": "stderr",
     "output_type": "stream",
     "text": [
      "/var/folders/qw/jbl_sx2j4r114n9k1myblk6c0000gn/T/ipykernel_54612/2638892618.py:36: SettingWithCopyWarning: \n",
      "A value is trying to be set on a copy of a slice from a DataFrame.\n",
      "Try using .loc[row_indexer,col_indexer] = value instead\n",
      "\n",
      "See the caveats in the documentation: https://pandas.pydata.org/pandas-docs/stable/user_guide/indexing.html#returning-a-view-versus-a-copy\n",
      "  stop_times[\"service_id\"] = stop_times[\"trip_id\"].map(trip_id_to_service)\n"
     ]
    },
    {
     "name": "stdout",
     "output_type": "stream",
     "text": [
      "djikstra\n",
      "backups\n"
     ]
    },
    {
     "ename": "TypeError",
     "evalue": "find_backup_routes() got an unexpected keyword argument 'MIN_TRANSFER_TIME'",
     "output_type": "error",
     "traceback": [
      "\u001B[0;31m---------------------------------------------------------------------------\u001B[0m",
      "\u001B[0;31mTypeError\u001B[0m                                 Traceback (most recent call last)",
      "Cell \u001B[0;32mIn[11], line 42\u001B[0m\n\u001B[1;32m     40\u001B[0m \u001B[38;5;66;03m# Backup-Routen berechnen\u001B[39;00m\n\u001B[1;32m     41\u001B[0m \u001B[38;5;28mprint\u001B[39m(\u001B[38;5;124m\"\u001B[39m\u001B[38;5;124mbackups\u001B[39m\u001B[38;5;124m\"\u001B[39m)\n\u001B[0;32m---> 42\u001B[0m backup_routes \u001B[38;5;241m=\u001B[39m \u001B[43mfind_backup_routes\u001B[49m\u001B[43m(\u001B[49m\u001B[43mgraph\u001B[49m\u001B[43m,\u001B[49m\u001B[43m \u001B[49m\u001B[43mpath_fixed\u001B[49m\u001B[43m,\u001B[49m\u001B[43m \u001B[49m\u001B[43mstart_time_minutes\u001B[49m\u001B[43m,\u001B[49m\u001B[43m \u001B[49m\u001B[43mtime_budget_minutes\u001B[49m\u001B[43m \u001B[49m\u001B[38;5;241;43m=\u001B[39;49m\u001B[43m \u001B[49m\u001B[38;5;241;43m3000\u001B[39;49m\u001B[43m,\u001B[49m\u001B[43m \u001B[49m\u001B[43mMIN_TRANSFER_TIME\u001B[49m\u001B[38;5;241;43m=\u001B[39;49m\u001B[43m \u001B[49m\u001B[38;5;241;43m10\u001B[39;49m\u001B[43m)\u001B[49m\n\u001B[1;32m     44\u001B[0m \u001B[38;5;66;03m# Ergebnis anzeigen\u001B[39;00m\n\u001B[1;32m     45\u001B[0m \u001B[38;5;28;01mif\u001B[39;00m arrival_time_minutes_fixed \u001B[38;5;241m<\u001B[39m \u001B[38;5;28mfloat\u001B[39m(\u001B[38;5;124m\"\u001B[39m\u001B[38;5;124minf\u001B[39m\u001B[38;5;124m\"\u001B[39m):\n",
      "\u001B[0;31mTypeError\u001B[0m: find_backup_routes() got an unexpected keyword argument 'MIN_TRANSFER_TIME'"
     ]
    }
   ],
   "execution_count": 11
  },
  {
   "metadata": {
    "ExecuteTime": {
     "end_time": "2025-01-22T10:45:14.168112Z",
     "start_time": "2025-01-22T10:45:14.136629Z"
    }
   },
   "cell_type": "code",
   "source": [
    "def find_backup_routes(graph, path_fixed, start_time_minutes, time_budget_minutes=3000, MIN_TRANSFER_TIME=10):\n",
    "    \"\"\"\n",
    "    Findet die zuverlässigsten Backup-Routen für jeden Umstiegspunkt in der Primärroute.\n",
    "\n",
    "    :param graph: Der Transportgraph.\n",
    "    :param path_fixed: Die Primärroute, berechnet durch Dijkstra.\n",
    "    :param start_time_minutes: Startzeit in Minuten.\n",
    "    :param time_budget_minutes: Zeitbudget in Minuten.\n",
    "    :param MIN_TRANSFER_TIME: Minimale Transferzeit in Minuten.\n",
    "    :return: Liste der zuverlässigsten Backup-Routen für jeden Umstiegspunkt.\n",
    "    \"\"\"\n",
    "    # Berechne used_routes: Nur die ersten Legs nach jedem Transfer ausschließen\n",
    "    used_routes = set()\n",
    "    for i in range(1, len(path_fixed) - 1, 2):\n",
    "        current_leg = path_fixed[i]\n",
    "        next_leg = path_fixed[i + 1] if i + 1 < len(path_fixed) else None\n",
    "\n",
    "        if next_leg and isinstance(next_leg, tuple) and next_leg[0] != current_leg[2]:\n",
    "            used_routes.add(current_leg)\n",
    "\n",
    "    # Sicherstellen, dass spezifische Legs ausgeschlossen werden\n",
    "    specific_exclusions = {\n",
    "        ('3-R93-A-j24-1', 894.0, 898.0),\n",
    "        ('10-A12-j24-1', 930.0, 955.0),\n",
    "        ('10-A3-j24-1', 969.0, 984.0)\n",
    "    }\n",
    "    used_routes.update(specific_exclusions)\n",
    "\n",
    "    backup_routes = []\n",
    "    last_route = None    \n",
    "\n",
    "    for i in range(1, len(path_fixed) - 1, 2):  # Alle Umstiegspunkte durchgehen\n",
    "        transfer_stop, transfer_time = path_fixed[i - 1]\n",
    "        \n",
    "        adjusted_transfer_time = MIN_TRANSFER_TIME + 15\n",
    "        current_stop, current_time = path_fixed[i - 1]\n",
    "        route_id, departure_time, arrival_time = path_fixed[i]\n",
    "        next_stop, _ = path_fixed[i + 1]\n",
    "\n",
    "        if route_id != last_route:\n",
    "            # Berechne Backup-Route ab dem aktuellen Umstiegspunkt\n",
    "            backup_time, backup_path, backup_reliability = dijkstra_with_reliability_fixed(\n",
    "                graph, transfer_stop, path_fixed[-1][0], transfer_time, time_budget_minutes, used_routes\n",
    "            )\n",
    "\n",
    "            if backup_time < float(\"inf\") and backup_path and backup_path != path_fixed:\n",
    "                alternative_path = []\n",
    "                alternative_routes = set()\n",
    "\n",
    "                for j in range(1, len(backup_path) - 1, 2):\n",
    "                    stop1, time1 = backup_path[j - 1]\n",
    "                    route, dep, arr = backup_path[j]\n",
    "                    stop2, _ = backup_path[j + 1]\n",
    "\n",
    "                    # **Kriterium für alternative Backup-Route:**\n",
    "                    if route not in used_routes:\n",
    "                        alternative_path.append((stop1, minutes_to_time(dep), stop2, minutes_to_time(arr), route))\n",
    "                        alternative_routes.add(route)\n",
    "\n",
    "                if alternative_path:\n",
    "                    backup_routes.append((transfer_stop, alternative_path, backup_reliability))\n",
    "                    used_routes.update(alternative_routes)  # Speichere die genutzten alternativen Linien\n",
    "\n",
    "            last_route = route_id\n",
    "        \n",
    "    return backup_routes\n",
    "\n"
   ],
   "id": "7ea58021f19f42a8",
   "outputs": [],
   "execution_count": 96
  },
  {
   "metadata": {
    "ExecuteTime": {
     "end_time": "2025-01-22T11:17:59.254458Z",
     "start_time": "2025-01-22T11:17:59.244540Z"
    }
   },
   "cell_type": "code",
   "source": [
    "def find_backup_routes(graph, path_fixed, time_budget_minutes = 3000, MIN_TRANSFER_TIME = 15):\n",
    "    \"\"\"\n",
    "    (graph, start_name, end_name, start_time_minutes, time_budget_minutes,\n",
    "                                    exclude_routes=set()):\n",
    "    Findet die zuverlässigste Backup-Route für jeden Umstiegspunkt in der Primärroute.\n",
    "\n",
    "    :param graph: Der Transportgraph.\n",
    "    :param primary_path: Die Primärroute, berechnet durch Dijkstra.\n",
    "    :param start_time_minutes: Startzeit in Minuten.\n",
    "    :param time_budget_minutes: Zeitbudget in Minuten.\n",
    "    :param min_transfer_time: Minimale Transferzeit in Minuten.\n",
    "    :return: Liste der zuverlässigsten Backup-Routen für jeden Umstiegspunkt.\n",
    "    \"\"\"\n",
    "    backup_routes = []\n",
    "\n",
    "    last_route = None    \n",
    "\n",
    "\n",
    "        \n",
    "    for i in range(1, len(path_fixed) - 1, 2):  # Alle Umstiegspunkte durchgehen\n",
    "        transfer_stop, transfer_time = path_fixed[i - 1]\n",
    "    # Identifiziere alle Umstiegspunkte in der Route\n",
    "   # for i in range(1, len(path_fixed) - 1, 2):\n",
    "        \n",
    "        #adjusted_transfer_time = MIN_TRANSFER_TIME + 15\n",
    "        current_stop, current_time = path_fixed[i - 1]\n",
    "        route_id, departure_time, arrival_time = path_fixed[i]\n",
    "        next_stop, _ = path_fixed[i + 1]\n",
    "\n",
    "        if route_id != last_route:\n",
    "\n",
    "        \n",
    "            # Berechne Backup-Route ab dem aktuellen Umstiegspunkt\n",
    "\n",
    "            backup_time, backup_path, backup_reliability = dijkstra_with_reliability_fixed(\n",
    "                graph, transfer_stop, path_fixed[-1][0], current_time, time_budget_minutes,\n",
    "                                    exclude_routes=set(), MIN_TRANSFER_TIME= 15\n",
    "            )\n",
    "\n",
    "            '''\n",
    "            if backup_time < float(\"inf\") and backup_path and backup_path !=path_fixed:\n",
    "                alternative_path = []\n",
    "                alternative_routes = set()\n",
    "\n",
    "                for j in range(1, len(backup_path) - 1, 2):\n",
    "                    stop1, time1 = backup_path[j - 1]\n",
    "                    route, dep, arr = backup_path[j]\n",
    "                    stop2, _ = backup_path[j + 1]\n",
    "\n",
    "                    # **Kriterium für alternative Backup-Route:**\n",
    "                    # - Die Route darf nicht exakt der Primärroute entsprechen.\n",
    "                    # - Die Haltestellen dürfen wiederverwendet werden, aber nicht in identischen Abschnitten.\n",
    "                    if route not in used_routes:\n",
    "            '''\n",
    "            \n",
    "            alternative_path = []\n",
    "            alternative_routes = set()\n",
    "            for j in range(1, len(backup_path) - 1, 2):\n",
    "                stop1, time1 = backup_path[j - 1]\n",
    "                route, dep, arr = backup_path[j]\n",
    "                stop2, _ = backup_path[j + 1]\n",
    "                \n",
    "                \n",
    "                alternative_path.append((stop1, minutes_to_time(dep), stop2, minutes_to_time(arr), route))\n",
    "                alternative_routes.add(route)\n",
    "\n",
    "                if alternative_path:\n",
    "                    backup_routes.append((transfer_stop, alternative_path, backup_reliability))\n",
    "                    #used_routes.update(alternative_routes)  # Speichere die genutzten alternativen Linien\n",
    "\n",
    "            \n",
    "\n",
    "\n",
    "    \n",
    "        last_route = route_id\n",
    "        \n",
    "    # Berechne Backup-Routen ab dem Umstiegspunkt\n",
    "\n",
    "\n",
    "    return backup_routes\n",
    "\n",
    "\n",
    "\n"
   ],
   "id": "a67e9cec69c652d2",
   "outputs": [],
   "execution_count": 111
  },
  {
   "metadata": {
    "ExecuteTime": {
     "end_time": "2025-01-22T13:16:51.893706Z",
     "start_time": "2025-01-22T13:16:51.798841Z"
    }
   },
   "cell_type": "code",
   "source": "backup_routes = find_backup_routes(graph,path_fixed,  time_budget_minutes = 300, MIN_TRANSFER_TIME = 15)\n",
   "id": "3c15216b44211275",
   "outputs": [],
   "execution_count": 119
  },
  {
   "metadata": {
    "ExecuteTime": {
     "end_time": "2025-01-22T13:16:57.034382Z",
     "start_time": "2025-01-22T13:16:57.028723Z"
    }
   },
   "cell_type": "code",
   "source": "backup_routes",
   "id": "2d24d5a0e40052b9",
   "outputs": [
    {
     "data": {
      "text/plain": [
       "[(inf, [], 0.0),\n",
       " (inf, [], 0.0),\n",
       " (987.0,\n",
       "  [('Wiener Neustadt Hauptbahnhof', 925.0),\n",
       "   ('10-A12-j24-1', 927.0, 955.0),\n",
       "   ('Wien Meidling', 955.0),\n",
       "   ('10-A12-j24-1', 957.0, 962.0),\n",
       "   ('Wien Hauptbahnhof', 962.0),\n",
       "   ('10-A12-j24-1', 972.0, 987.0),\n",
       "   ('Flughafen Wien Bahnhof', 987.0)],\n",
       "  1.0),\n",
       " (984.0,\n",
       "  [('Wien Hauptbahnhof', 962.0),\n",
       "   ('10-A3-j24-1', 969.0, 984.0),\n",
       "   ('Flughafen Wien Bahnhof', 984.0)],\n",
       "  1.0)]"
      ]
     },
     "execution_count": 120,
     "metadata": {},
     "output_type": "execute_result"
    }
   ],
   "execution_count": 120
  },
  {
   "metadata": {
    "ExecuteTime": {
     "end_time": "2025-01-22T13:36:57.023554Z",
     "start_time": "2025-01-22T13:36:57.016565Z"
    }
   },
   "cell_type": "code",
   "source": [
    "\n",
    "    backup_routes = []\n",
    "\n",
    "    last_route = None    \n",
    "\n",
    "    for i in range(1, len(path_fixed) - 1, 2):  # Alle Umstiegspunkte durchgehen\n",
    "        transfer_stop, transfer_time = path_fixed[i - 1]\n",
    "    # Identifiziere alle Umstiegspunkte in der Route\n",
    "   # for i in range(1, len(path_fixed) - 1, 2):\n",
    "        \n",
    "        #adjusted_transfer_time = MIN_TRANSFER_TIME + 15\n",
    "        current_stop, current_time = path_fixed[i - 1]\n",
    "        route_id, departure_time, arrival_time = path_fixed[i]\n",
    "        next_stop, _ = path_fixed[i + 1]\n",
    "\n",
    "        if route_id != last_route:\n",
    "            print(current_stop, current_time,route_id, departure_time, arrival_time,next_stop)\n",
    "        last_route = route_id    "
   ],
   "id": "aeffb3c155428ef6",
   "outputs": [
    {
     "name": "stdout",
     "output_type": "stream",
     "text": [
      "Schattendorf Kirchengasse 870 20-SV5-L-j24-1 883.0 888.0 Loipersbach-Schattendorf Bhf.\n",
      "Loipersbach-Schattendorf Bhf. 888.0 3-R93-A-j24-1 894.0 898.0 Marz-Rohrbach Bahnhof\n",
      "Wiener Neustadt Hauptbahnhof 925.0 10-A12-j24-1 930.0 955.0 Wien Meidling\n",
      "Wien Hauptbahnhof 962.0 10-A3-j24-1 969.0 984.0 Flughafen Wien Bahnhof\n"
     ]
    }
   ],
   "execution_count": 128
  },
  {
   "metadata": {
    "ExecuteTime": {
     "end_time": "2025-01-22T13:32:14.066110Z",
     "start_time": "2025-01-22T13:32:12.403976Z"
    }
   },
   "cell_type": "code",
   "source": [
    "    backup_routes = []\n",
    "    min_transfer_time = 5\n",
    "    last_route = None\n",
    "    alternative_routes = set()\n",
    "    # Identifiziere alle Umstiegspunkte in der Route\n",
    "    for i in range(1, len(path_fixed) - 1, 2):\n",
    "        adjusted_transfer_time = min_transfer_time + 5\n",
    "        current_stop, current_time = path_fixed[i - 1]\n",
    "        route_id, departure_time, arrival_time = path_fixed[i]\n",
    "        next_stop, _ = path_fixed[i + 1]\n",
    "\n",
    "        if route_id != last_route:\n",
    "            #print(current_stop,route_id,last_route,next_stop,current_time)\n",
    "                    \n",
    "            backup_time, backup_path, backup_reliability = dijkstra_with_reliability_fixed(\n",
    "                graph, transfer_stop, path_fixed[-1][0], current_time, time_budget_minutes,\n",
    "                                    exclude_routes=set(), MIN_TRANSFER_TIME= 15)\n",
    "            print(backup_time, backup_path, backup_reliability )\n",
    "        \n",
    "            alternative_path = [] \n",
    "            for j in range(1, len(backup_path) - 1, 2):\n",
    "                stop1, time1 = backup_path[j - 1]\n",
    "                route, dep, arr = backup_path[j]\n",
    "                stop2, _ = backup_path[j + 1]\n",
    "                \n",
    "                \n",
    "                alternative_path.append((stop1, minutes_to_time(dep), stop2, minutes_to_time(arr), route))\n",
    "                alternative_routes.add(route)\n",
    "\n",
    "                if alternative_path:\n",
    "                    backup_routes.append((transfer_stop, alternative_path, backup_reliability))\n",
    "            \n",
    "        last_route = route_id\n",
    "    print(backup_routes)\n"
   ],
   "id": "4a1ebe1f1ec4acd4",
   "outputs": [
    {
     "name": "stdout",
     "output_type": "stream",
     "text": [
      "Schattendorf Kirchengasse 20-SV5-L-j24-1 None Loipersbach-Schattendorf Bhf. 870\n",
      "897.0 [('Wien Hauptbahnhof', 870), ('10-A1-j24-1', 880.0, 897.0), ('Flughafen Wien Bahnhof', 897.0)] 1.0\n",
      "Loipersbach-Schattendorf Bhf. 3-R93-A-j24-1 20-SV5-L-j24-1 Marz-Rohrbach Bahnhof 888.0\n",
      "924.0 [('Wien Hauptbahnhof', 888.0), ('10-A11-j24-1', 907.0, 924.0), ('Flughafen Wien Bahnhof', 924.0)] 1.0\n",
      "Wiener Neustadt Hauptbahnhof 10-A12-j24-1 3-R93-A-j24-1 Wien Meidling 925.0\n",
      "957.0 [('Wien Hauptbahnhof', 925.0), ('10-A12-j24-1', 942.0, 957.0), ('Flughafen Wien Bahnhof', 957.0)] 1.0\n",
      "Wien Hauptbahnhof 10-A3-j24-1 10-A12-j24-1 Flughafen Wien Bahnhof 962.0\n",
      "984.0 [('Wien Hauptbahnhof', 962.0), ('10-A3-j24-1', 969.0, 984.0), ('Flughafen Wien Bahnhof', 984.0)] 1.0\n",
      "[('Wien Hauptbahnhof', [('Wien Hauptbahnhof', '14:40', 'Flughafen Wien Bahnhof', '14:57', '10-A1-j24-1')], 1.0), ('Wien Hauptbahnhof', [('Wien Hauptbahnhof', '15:07', 'Flughafen Wien Bahnhof', '15:24', '10-A11-j24-1')], 1.0), ('Wien Hauptbahnhof', [('Wien Hauptbahnhof', '15:42', 'Flughafen Wien Bahnhof', '15:57', '10-A12-j24-1')], 1.0), ('Wien Hauptbahnhof', [('Wien Hauptbahnhof', '16:09', 'Flughafen Wien Bahnhof', '16:24', '10-A3-j24-1')], 1.0)]\n"
     ]
    }
   ],
   "execution_count": 124
  },
  {
   "metadata": {
    "ExecuteTime": {
     "end_time": "2025-01-22T13:33:13.146301Z",
     "start_time": "2025-01-22T13:33:13.140585Z"
    }
   },
   "cell_type": "code",
   "source": "current_time",
   "id": "a5451410777662a",
   "outputs": [
    {
     "data": {
      "text/plain": [
       "962.0"
      ]
     },
     "execution_count": 126,
     "metadata": {},
     "output_type": "execute_result"
    }
   ],
   "execution_count": 126
  },
  {
   "metadata": {
    "ExecuteTime": {
     "end_time": "2025-01-21T17:05:26.716296Z",
     "start_time": "2025-01-21T17:05:26.706399Z"
    }
   },
   "cell_type": "code",
   "source": "path_fixed  ",
   "id": "b7a3c3458cde6d2b",
   "outputs": [
    {
     "data": {
      "text/plain": [
       "[('Schattendorf Kirchengasse', 870),\n",
       " ('20-SV5-L-j24-1', 883.0, 888.0),\n",
       " ('Loipersbach-Schattendorf Bhf.', 888.0),\n",
       " ('3-R93-A-j24-1', 894.0, 898.0),\n",
       " ('Marz-Rohrbach Bahnhof', 898.0),\n",
       " ('3-R93-A-j24-1', 899.0, 901.0),\n",
       " ('Mattersburg Bahnhof', 901.0),\n",
       " ('3-R93-A-j24-1', 902.0, 903.0),\n",
       " ('Mattersburg Nord Bahnhof', 903.0),\n",
       " ('3-R93-A-j24-1', 904.0, 907.0),\n",
       " ('Wiesen-Sigleß Bahnhof', 907.0),\n",
       " ('3-R93-A-j24-1', 907.0, 911.0),\n",
       " ('Bad Sauerbrunn Bahnhof', 911.0),\n",
       " ('3-R93-A-j24-1', 913.0, 916.0),\n",
       " ('Neudörfl Bahnhof', 916.0),\n",
       " ('3-R93-A-j24-1', 917.0, 920.0),\n",
       " ('Katzelsdorf Bahnhof', 920.0),\n",
       " ('3-R93-A-j24-1', 920.0, 925.0),\n",
       " ('Wiener Neustadt Hauptbahnhof', 925.0),\n",
       " ('10-A12-j24-1', 930.0, 955.0),\n",
       " ('Wien Meidling', 955.0),\n",
       " ('10-A12-j24-1', 957.0, 962.0),\n",
       " ('Wien Hauptbahnhof', 962.0),\n",
       " ('10-A3-j24-1', 969.0, 984.0),\n",
       " ('Flughafen Wien Bahnhof', 984.0)]"
      ]
     },
     "execution_count": 117,
     "metadata": {},
     "output_type": "execute_result"
    }
   ],
   "execution_count": 117
  },
  {
   "metadata": {},
   "cell_type": "code",
   "outputs": [],
   "execution_count": null,
   "source": "",
   "id": "c67287cb4ea1ebbb"
  }
 ],
 "metadata": {
  "kernelspec": {
   "display_name": "Python 3",
   "language": "python",
   "name": "python3"
  },
  "language_info": {
   "codemirror_mode": {
    "name": "ipython",
    "version": 2
   },
   "file_extension": ".py",
   "mimetype": "text/x-python",
   "name": "python",
   "nbconvert_exporter": "python",
   "pygments_lexer": "ipython2",
   "version": "2.7.6"
  }
 },
 "nbformat": 4,
 "nbformat_minor": 5
}
